{
 "cells": [
  {
   "cell_type": "markdown",
   "metadata": {},
   "source": [
    "# Safe MLOps Deployment Pipeline\n",
    "\n",
    "\n",
    "## Overview\n",
    "\n",
    "In this notebook you will step through an MLOps pipeline to build, train, deploy and monitor an XGBoost regression model for predicting the expected taxi fare using the New York City Taxi [dataset](https://registry.opendata.aws/nyc-tlc-trip-records-pds/)⇗. This safe pipeline features a [canary deployment](https://docs.aws.amazon.com/wellarchitected/latest/machine-learning-lens/canary-deployment.html)⇗ strategy with rollback on error. You will learn how to trigger and monitor the pipeline, inspect the training workflow, use model monitor to set up alerts, and create a canary deployment.\n",
    "\n",
    "<div class=\"alert alert-block alert-info\">\n",
    "    Note: This notebook assumes prior familiarity with the basics training ML models on Amazon SageMaker. Data preparation and visualization, although present, will be kept to a minimum. If you are not familiar with the basic concepts and features of SageMaker, we recommend reading the <a href=https://docs.aws.amazon.com/sagemaker/>SageMaker documentation</a>⇗ and completing the workshops and samples in <a href=https://github.com/aws/amazon-sagemaker-examples>AWS SageMaker Examples GitHub</a>⇗ and <a href=https://github.com/aws-samples?q=sagemaker&type=&language=>AWS Samples GitHub</a>⇗. \n",
    "</div>\n",
    "\n",
    "### Contents\n",
    "\n",
    "This notebook has the following key sections:\n",
    "\n",
    "1. [Data Prep](#Data-Prep)\n",
    "2. [Build](#Build)\n",
    "3. [Train Model](#Train-Model)\n",
    "4. [Deploy Dev](#Deploy-Dev)\n",
    "5. [Deploy Prod](#Deploy-Prod)\n",
    "6. [Monitor](#Monitor)\n",
    "6. [Cleanup](#Cleanup)\n",
    "\n",
    "### Architecture\n",
    "\n",
    "The architecture diagram below shows the entire MLOps pipeline at a high level.\n",
    "\n",
    "Use the CloudFormation template provided in this repository (`pipeline.yml`) to build the demo in your own AWS account. If you are currently viewing this notebook from SageMaker in your AWS account, then you have already completed this step. CloudFormation deploys several resources:\n",
    "   \n",
    "1. A customer-managed encryption key in in Amazon KMS for encrypting data and artifacts.\n",
    "1. A secret in Amazon Secrets Manager to securely store your GitHub Access Token.\n",
    "1. Several AWS IAM roles so CloudFormation, SageMaker, and other AWS services can perform actions in your AWS account, following the principle of [least privilege](https://docs.aws.amazon.com/IAM/latest/UserGuide/best-practices.html#grant-least-privilege)⇗.\n",
    "1. A messaging service in Amazon SNS to notify you when CodeDeploy has successfully deployed the API, and to receive alerts for retraining and drift detection (signing up for these notifications is optional).\n",
    "1. Two Amazon CloudWatch event rules: one which schedules the pipeline to run every month, and one which triggers the pipeline to run when SageMaker Model Monitor detects certain metrics.\n",
    "1. An Amazon SageMaker Jupyter notebook with this workshop content pre-loaded.\n",
    "1. An Amazon S3 bucket for storing model artifacts.\n",
    "1. An AWS CodePipeline instance with several pre-defined stages. \n",
    "\n",
    "Take a moment to look at all of these resources now deployed in your account. \n",
    "\n",
    "![MLOps pipeline architecture](../docs/mlops-architecture.png)\n",
    "\n",
    "In this notebook, you will work through the CodePipeline instance created by the CloudFormation template. It has several stages:\n",
    "\n",
    "1. **Source** - The pipeline is already configured with two sources. If you upload a new dataset to a specific location in the S3 data bucket, this will trigger the pipeline to run. The Git source can be GitHub, or CodeCommit if you don’t supply your access token. If you commit new code to your repository, this will trigger the pipeline to run. \n",
    "1. **Build** - In this stage, CodeBuild configured by the build specification `model/buildspec.yml` will execute `model/run.py` to generate AWS CloudFormation templates for creating the AWS Step Function (including AWS Lambda custom resources), and deployment templates used in the following stages based on the data sets and hyperparameters specified for this pipeline run. You will take a closer look at these files later in this notebook. \n",
    "1. **Train** The Step Functions workflow created in the Build stage is run in this stage. The workflow creates a baseline for the model monitor using a SageMaker processing job, and trains an XGBoost model on the taxi ride dataset using a SageMaker training job.\n",
    "1. **Deploy Dev** In this stage, a CloudFormation template created in the build stage (from `assets/deploy-model-dev.yml`) deploys a dev endpoint. This will allow you to run tests on the model and decide if the model is of sufficient quality to deploy into production.\n",
    "1. **Deploy Production** The final stage of the pipeline is the only stage which does not run automatically as soon as the previous stage is complete. It waits for a user to manually approve the model which was previously deployed to dev. As soon as the model is approved, a CloudFormation template (packaged from `assets/deploy-model-prod.yml` to include the Lambda functions saved and uploaded as ZIP files in S3) deploys the production endpoint. It configures autoscaling and enables data capture. It creates a model monitoring schedule and sets CloudWatch alarms for certain metrics. It also sets up an AWS CodeDeploy instance which deploys a set of AWS Lambda functions and an Amazon API Gateway to sit in front of the SageMaker endpoint. This stage can make use of canary deployment to safely switch from an old model to a new model. "
   ]
  },
  {
   "cell_type": "code",
   "execution_count": 1,
   "metadata": {},
   "outputs": [
    {
     "name": "stdout",
     "output_type": "stream",
     "text": [
      "Requirement already satisfied: pip in /home/ec2-user/anaconda3/envs/python3/lib/python3.6/site-packages (21.0.1)\n",
      "Collecting pip\n",
      "  Downloading pip-21.1.2-py3-none-any.whl (1.5 MB)\n",
      "\u001b[K     |████████████████████████████████| 1.5 MB 16.9 MB/s eta 0:00:01\n",
      "\u001b[?25hInstalling collected packages: pip\n",
      "  Attempting uninstall: pip\n",
      "    Found existing installation: pip 21.0.1\n",
      "    Uninstalling pip-21.0.1:\n",
      "      Successfully uninstalled pip-21.0.1\n",
      "Successfully installed pip-21.1.2\n",
      "\u001b[31mERROR: pip's dependency resolver does not currently take into account all the packages that are installed. This behaviour is the source of the following dependency conflicts.\n",
      "aiobotocore 1.2.1 requires botocore<1.19.53,>=1.19.52, but you have botocore 1.20.87 which is incompatible.\u001b[0m\n",
      "Name: sagemaker\n",
      "Version: 2.44.0\n",
      "Summary: Open source library for training and deploying models on Amazon SageMaker.\n",
      "Home-page: https://github.com/aws/sagemaker-python-sdk/\n",
      "Author: Amazon Web Services\n",
      "Author-email: None\n",
      "License: Apache License 2.0\n",
      "Location: /home/ec2-user/anaconda3/envs/python3/lib/python3.6/site-packages\n",
      "Requires: protobuf, google-pasta, importlib-metadata, packaging, pathos, attrs, pandas, protobuf3-to-dict, smdebug-rulesconfig, boto3, numpy\n",
      "Required-by: stepfunctions\n",
      "---\n",
      "Name: stepfunctions\n",
      "Version: 2.0.0\n",
      "Summary: Open source library for develping data science workflows on AWS Step Functions.\n",
      "Home-page: https://github.com/aws/aws-step-functions-data-science-sdk-python\n",
      "Author: Amazon Web Services\n",
      "Author-email: None\n",
      "License: Apache License 2.0\n",
      "Location: /home/ec2-user/anaconda3/envs/python3/lib/python3.6/site-packages\n",
      "Requires: boto3, pyyaml, sagemaker\n",
      "Required-by: \n"
     ]
    }
   ],
   "source": [
    "# Import the latest sagemaker and boto3 SDKs.\n",
    "import sys\n",
    "!{sys.executable} -m pip install --upgrade pip\n",
    "!{sys.executable} -m pip install -qU awscli boto3 \"sagemaker>=2.1.0<3\" tqdm\n",
    "!{sys.executable} -m pip install -qU \"stepfunctions==2.0.0\"\n",
    "!{sys.executable} -m pip show sagemaker stepfunctions"
   ]
  },
  {
   "cell_type": "markdown",
   "metadata": {},
   "source": [
    "Restart your SageMaker kernel then continue with this notebook."
   ]
  },
  {
   "cell_type": "markdown",
   "metadata": {},
   "source": [
    "## Data Prep\n",
    " \n",
    "In this section of the notebook, you will download the publicly available New York Taxi dataset in preparation for uploading it to S3.\n",
    "\n",
    "### Download Dataset\n",
    "\n",
    "First, download a sample of the New York City Taxi [dataset](https://registry.opendata.aws/nyc-tlc-trip-records-pds/)⇗ to this notebook instance. This dataset contains information on trips taken by taxis and for-hire vehicles in New York City, including pick-up and drop-off times and locations, fares, distance traveled, and more. "
   ]
  },
  {
   "cell_type": "code",
   "execution_count": 61,
   "metadata": {},
   "outputs": [
    {
     "name": "stdout",
     "output_type": "stream",
     "text": [
      "download: s3://exp01-dev-modelexample-data/trip data/green_tripdata_2020-01.csv to ./nyc-tlc.csv\n"
     ]
    }
   ],
   "source": [
    "!aws s3 cp 's3://exp01-dev-modelexample-data/trip data/green_tripdata_2020-01.csv' 'nyc-tlc.csv'"
   ]
  },
  {
   "cell_type": "markdown",
   "metadata": {},
   "source": [
    "Now load the dataset into a pandas data frame, taking care to parse the dates correctly."
   ]
  },
  {
   "cell_type": "code",
   "execution_count": 62,
   "metadata": {},
   "outputs": [
    {
     "name": "stderr",
     "output_type": "stream",
     "text": [
      "/home/ec2-user/anaconda3/envs/python3/lib/python3.6/site-packages/IPython/core/interactiveshell.py:3072: DtypeWarning: Columns (3) have mixed types.Specify dtype option on import or set low_memory=False.\n",
      "  interactivity=interactivity, compiler=compiler, result=result)\n"
     ]
    },
    {
     "data": {
      "text/html": [
       "<div>\n",
       "<style scoped>\n",
       "    .dataframe tbody tr th:only-of-type {\n",
       "        vertical-align: middle;\n",
       "    }\n",
       "\n",
       "    .dataframe tbody tr th {\n",
       "        vertical-align: top;\n",
       "    }\n",
       "\n",
       "    .dataframe thead th {\n",
       "        text-align: right;\n",
       "    }\n",
       "</style>\n",
       "<table border=\"1\" class=\"dataframe\">\n",
       "  <thead>\n",
       "    <tr style=\"text-align: right;\">\n",
       "      <th></th>\n",
       "      <th>VendorID</th>\n",
       "      <th>lpep_pickup_datetime</th>\n",
       "      <th>lpep_dropoff_datetime</th>\n",
       "      <th>store_and_fwd_flag</th>\n",
       "      <th>RatecodeID</th>\n",
       "      <th>PULocationID</th>\n",
       "      <th>DOLocationID</th>\n",
       "      <th>passenger_count</th>\n",
       "      <th>trip_distance</th>\n",
       "      <th>fare_amount</th>\n",
       "      <th>extra</th>\n",
       "      <th>mta_tax</th>\n",
       "      <th>tip_amount</th>\n",
       "      <th>tolls_amount</th>\n",
       "      <th>ehail_fee</th>\n",
       "      <th>improvement_surcharge</th>\n",
       "      <th>total_amount</th>\n",
       "      <th>payment_type</th>\n",
       "      <th>trip_type</th>\n",
       "      <th>congestion_surcharge</th>\n",
       "    </tr>\n",
       "  </thead>\n",
       "  <tbody>\n",
       "    <tr>\n",
       "      <th>0</th>\n",
       "      <td>2.0</td>\n",
       "      <td>2019-12-18 15:52:30</td>\n",
       "      <td>2019-12-18 15:54:39</td>\n",
       "      <td>N</td>\n",
       "      <td>1.0</td>\n",
       "      <td>264</td>\n",
       "      <td>264</td>\n",
       "      <td>5.0</td>\n",
       "      <td>0.00</td>\n",
       "      <td>3.5</td>\n",
       "      <td>0.50</td>\n",
       "      <td>0.5</td>\n",
       "      <td>0.01</td>\n",
       "      <td>0.0</td>\n",
       "      <td>NaN</td>\n",
       "      <td>0.3</td>\n",
       "      <td>4.81</td>\n",
       "      <td>1.0</td>\n",
       "      <td>1.0</td>\n",
       "      <td>0.00</td>\n",
       "    </tr>\n",
       "    <tr>\n",
       "      <th>1</th>\n",
       "      <td>2.0</td>\n",
       "      <td>2020-01-01 00:45:58</td>\n",
       "      <td>2020-01-01 00:56:39</td>\n",
       "      <td>N</td>\n",
       "      <td>5.0</td>\n",
       "      <td>66</td>\n",
       "      <td>65</td>\n",
       "      <td>2.0</td>\n",
       "      <td>1.28</td>\n",
       "      <td>20.0</td>\n",
       "      <td>0.00</td>\n",
       "      <td>0.0</td>\n",
       "      <td>4.06</td>\n",
       "      <td>0.0</td>\n",
       "      <td>NaN</td>\n",
       "      <td>0.3</td>\n",
       "      <td>24.36</td>\n",
       "      <td>1.0</td>\n",
       "      <td>2.0</td>\n",
       "      <td>0.00</td>\n",
       "    </tr>\n",
       "    <tr>\n",
       "      <th>2</th>\n",
       "      <td>2.0</td>\n",
       "      <td>2020-01-01 00:41:38</td>\n",
       "      <td>2020-01-01 00:52:49</td>\n",
       "      <td>N</td>\n",
       "      <td>1.0</td>\n",
       "      <td>181</td>\n",
       "      <td>228</td>\n",
       "      <td>1.0</td>\n",
       "      <td>2.47</td>\n",
       "      <td>10.5</td>\n",
       "      <td>0.50</td>\n",
       "      <td>0.5</td>\n",
       "      <td>3.54</td>\n",
       "      <td>0.0</td>\n",
       "      <td>NaN</td>\n",
       "      <td>0.3</td>\n",
       "      <td>15.34</td>\n",
       "      <td>1.0</td>\n",
       "      <td>1.0</td>\n",
       "      <td>0.00</td>\n",
       "    </tr>\n",
       "    <tr>\n",
       "      <th>3</th>\n",
       "      <td>1.0</td>\n",
       "      <td>2020-01-01 00:52:46</td>\n",
       "      <td>2020-01-01 01:14:21</td>\n",
       "      <td>N</td>\n",
       "      <td>1.0</td>\n",
       "      <td>129</td>\n",
       "      <td>263</td>\n",
       "      <td>2.0</td>\n",
       "      <td>6.30</td>\n",
       "      <td>21.0</td>\n",
       "      <td>3.25</td>\n",
       "      <td>0.5</td>\n",
       "      <td>0.00</td>\n",
       "      <td>0.0</td>\n",
       "      <td>NaN</td>\n",
       "      <td>0.3</td>\n",
       "      <td>25.05</td>\n",
       "      <td>2.0</td>\n",
       "      <td>1.0</td>\n",
       "      <td>2.75</td>\n",
       "    </tr>\n",
       "    <tr>\n",
       "      <th>4</th>\n",
       "      <td>1.0</td>\n",
       "      <td>2020-01-01 00:19:57</td>\n",
       "      <td>2020-01-01 00:30:56</td>\n",
       "      <td>N</td>\n",
       "      <td>1.0</td>\n",
       "      <td>210</td>\n",
       "      <td>150</td>\n",
       "      <td>1.0</td>\n",
       "      <td>2.30</td>\n",
       "      <td>10.0</td>\n",
       "      <td>0.50</td>\n",
       "      <td>0.5</td>\n",
       "      <td>0.00</td>\n",
       "      <td>0.0</td>\n",
       "      <td>NaN</td>\n",
       "      <td>0.3</td>\n",
       "      <td>11.30</td>\n",
       "      <td>1.0</td>\n",
       "      <td>1.0</td>\n",
       "      <td>0.00</td>\n",
       "    </tr>\n",
       "  </tbody>\n",
       "</table>\n",
       "</div>"
      ],
      "text/plain": [
       "   VendorID lpep_pickup_datetime lpep_dropoff_datetime store_and_fwd_flag  \\\n",
       "0       2.0  2019-12-18 15:52:30   2019-12-18 15:54:39                  N   \n",
       "1       2.0  2020-01-01 00:45:58   2020-01-01 00:56:39                  N   \n",
       "2       2.0  2020-01-01 00:41:38   2020-01-01 00:52:49                  N   \n",
       "3       1.0  2020-01-01 00:52:46   2020-01-01 01:14:21                  N   \n",
       "4       1.0  2020-01-01 00:19:57   2020-01-01 00:30:56                  N   \n",
       "\n",
       "   RatecodeID  PULocationID  DOLocationID  passenger_count  trip_distance  \\\n",
       "0         1.0           264           264              5.0           0.00   \n",
       "1         5.0            66            65              2.0           1.28   \n",
       "2         1.0           181           228              1.0           2.47   \n",
       "3         1.0           129           263              2.0           6.30   \n",
       "4         1.0           210           150              1.0           2.30   \n",
       "\n",
       "   fare_amount  extra  mta_tax  tip_amount  tolls_amount  ehail_fee  \\\n",
       "0          3.5   0.50      0.5        0.01           0.0        NaN   \n",
       "1         20.0   0.00      0.0        4.06           0.0        NaN   \n",
       "2         10.5   0.50      0.5        3.54           0.0        NaN   \n",
       "3         21.0   3.25      0.5        0.00           0.0        NaN   \n",
       "4         10.0   0.50      0.5        0.00           0.0        NaN   \n",
       "\n",
       "   improvement_surcharge  total_amount  payment_type  trip_type  \\\n",
       "0                    0.3          4.81           1.0        1.0   \n",
       "1                    0.3         24.36           1.0        2.0   \n",
       "2                    0.3         15.34           1.0        1.0   \n",
       "3                    0.3         25.05           2.0        1.0   \n",
       "4                    0.3         11.30           1.0        1.0   \n",
       "\n",
       "   congestion_surcharge  \n",
       "0                  0.00  \n",
       "1                  0.00  \n",
       "2                  0.00  \n",
       "3                  2.75  \n",
       "4                  0.00  "
      ]
     },
     "execution_count": 62,
     "metadata": {},
     "output_type": "execute_result"
    }
   ],
   "source": [
    "import pandas as pd\n",
    "\n",
    "parse_dates= ['lpep_dropoff_datetime', 'lpep_pickup_datetime']\n",
    "trip_df = pd.read_csv('nyc-tlc.csv', parse_dates=parse_dates)\n",
    "\n",
    "trip_df.head()"
   ]
  },
  {
   "cell_type": "markdown",
   "metadata": {},
   "source": [
    "### Data manipulation\n",
    "\n",
    "Instead of the raw date and time features for pick-up and drop-off, let's use these features to calculate the total time of the trip in minutes, which will be easier to work with for our model."
   ]
  },
  {
   "cell_type": "code",
   "execution_count": 63,
   "metadata": {},
   "outputs": [],
   "source": [
    "trip_df['duration_minutes'] = (trip_df['lpep_dropoff_datetime'] - trip_df['lpep_pickup_datetime']).dt.seconds/60"
   ]
  },
  {
   "cell_type": "markdown",
   "metadata": {},
   "source": [
    "The dataset contains a lot of columns we don't need, so let's select a sample of columns for our machine learning model. Keep only `total_amount` (fare), `duration_minutes`, `passenger_count`, and `trip_distance`."
   ]
  },
  {
   "cell_type": "code",
   "execution_count": 64,
   "metadata": {},
   "outputs": [
    {
     "name": "stdout",
     "output_type": "stream",
     "text": [
      "(447770, 4)\n"
     ]
    },
    {
     "data": {
      "text/html": [
       "<div>\n",
       "<style scoped>\n",
       "    .dataframe tbody tr th:only-of-type {\n",
       "        vertical-align: middle;\n",
       "    }\n",
       "\n",
       "    .dataframe tbody tr th {\n",
       "        vertical-align: top;\n",
       "    }\n",
       "\n",
       "    .dataframe thead th {\n",
       "        text-align: right;\n",
       "    }\n",
       "</style>\n",
       "<table border=\"1\" class=\"dataframe\">\n",
       "  <thead>\n",
       "    <tr style=\"text-align: right;\">\n",
       "      <th></th>\n",
       "      <th>total_amount</th>\n",
       "      <th>duration_minutes</th>\n",
       "      <th>passenger_count</th>\n",
       "      <th>trip_distance</th>\n",
       "    </tr>\n",
       "  </thead>\n",
       "  <tbody>\n",
       "    <tr>\n",
       "      <th>0</th>\n",
       "      <td>4.81</td>\n",
       "      <td>2.150000</td>\n",
       "      <td>5.0</td>\n",
       "      <td>0.00</td>\n",
       "    </tr>\n",
       "    <tr>\n",
       "      <th>1</th>\n",
       "      <td>24.36</td>\n",
       "      <td>10.683333</td>\n",
       "      <td>2.0</td>\n",
       "      <td>1.28</td>\n",
       "    </tr>\n",
       "    <tr>\n",
       "      <th>2</th>\n",
       "      <td>15.34</td>\n",
       "      <td>11.183333</td>\n",
       "      <td>1.0</td>\n",
       "      <td>2.47</td>\n",
       "    </tr>\n",
       "    <tr>\n",
       "      <th>3</th>\n",
       "      <td>25.05</td>\n",
       "      <td>21.583333</td>\n",
       "      <td>2.0</td>\n",
       "      <td>6.30</td>\n",
       "    </tr>\n",
       "    <tr>\n",
       "      <th>4</th>\n",
       "      <td>11.30</td>\n",
       "      <td>10.983333</td>\n",
       "      <td>1.0</td>\n",
       "      <td>2.30</td>\n",
       "    </tr>\n",
       "  </tbody>\n",
       "</table>\n",
       "</div>"
      ],
      "text/plain": [
       "   total_amount  duration_minutes  passenger_count  trip_distance\n",
       "0          4.81          2.150000              5.0           0.00\n",
       "1         24.36         10.683333              2.0           1.28\n",
       "2         15.34         11.183333              1.0           2.47\n",
       "3         25.05         21.583333              2.0           6.30\n",
       "4         11.30         10.983333              1.0           2.30"
      ]
     },
     "execution_count": 64,
     "metadata": {},
     "output_type": "execute_result"
    }
   ],
   "source": [
    "cols = ['total_amount', 'duration_minutes', 'passenger_count', 'trip_distance']\n",
    "data_df = trip_df[cols]\n",
    "print(data_df.shape)\n",
    "data_df.head()"
   ]
  },
  {
   "cell_type": "markdown",
   "metadata": {},
   "source": [
    "Generate some quick statistics for the dataset to understand the quality."
   ]
  },
  {
   "cell_type": "code",
   "execution_count": 65,
   "metadata": {},
   "outputs": [
    {
     "data": {
      "text/html": [
       "<div>\n",
       "<style scoped>\n",
       "    .dataframe tbody tr th:only-of-type {\n",
       "        vertical-align: middle;\n",
       "    }\n",
       "\n",
       "    .dataframe tbody tr th {\n",
       "        vertical-align: top;\n",
       "    }\n",
       "\n",
       "    .dataframe thead th {\n",
       "        text-align: right;\n",
       "    }\n",
       "</style>\n",
       "<table border=\"1\" class=\"dataframe\">\n",
       "  <thead>\n",
       "    <tr style=\"text-align: right;\">\n",
       "      <th></th>\n",
       "      <th>total_amount</th>\n",
       "      <th>duration_minutes</th>\n",
       "      <th>passenger_count</th>\n",
       "      <th>trip_distance</th>\n",
       "    </tr>\n",
       "  </thead>\n",
       "  <tbody>\n",
       "    <tr>\n",
       "      <th>count</th>\n",
       "      <td>447770.000000</td>\n",
       "      <td>447770.000000</td>\n",
       "      <td>331719.000000</td>\n",
       "      <td>447770.000000</td>\n",
       "    </tr>\n",
       "    <tr>\n",
       "      <th>mean</th>\n",
       "      <td>18.898600</td>\n",
       "      <td>20.191509</td>\n",
       "      <td>1.304110</td>\n",
       "      <td>3.599392</td>\n",
       "    </tr>\n",
       "    <tr>\n",
       "      <th>std</th>\n",
       "      <td>14.101771</td>\n",
       "      <td>75.820894</td>\n",
       "      <td>0.953394</td>\n",
       "      <td>4.257709</td>\n",
       "    </tr>\n",
       "    <tr>\n",
       "      <th>min</th>\n",
       "      <td>-210.300000</td>\n",
       "      <td>0.000000</td>\n",
       "      <td>0.000000</td>\n",
       "      <td>-33.690000</td>\n",
       "    </tr>\n",
       "    <tr>\n",
       "      <th>25%</th>\n",
       "      <td>9.120000</td>\n",
       "      <td>7.000000</td>\n",
       "      <td>1.000000</td>\n",
       "      <td>1.080000</td>\n",
       "    </tr>\n",
       "    <tr>\n",
       "      <th>50%</th>\n",
       "      <td>14.400000</td>\n",
       "      <td>12.116667</td>\n",
       "      <td>1.000000</td>\n",
       "      <td>2.070000</td>\n",
       "    </tr>\n",
       "    <tr>\n",
       "      <th>75%</th>\n",
       "      <td>24.550000</td>\n",
       "      <td>21.000000</td>\n",
       "      <td>1.000000</td>\n",
       "      <td>4.410000</td>\n",
       "    </tr>\n",
       "    <tr>\n",
       "      <th>max</th>\n",
       "      <td>753.800000</td>\n",
       "      <td>1439.966667</td>\n",
       "      <td>9.000000</td>\n",
       "      <td>130.680000</td>\n",
       "    </tr>\n",
       "  </tbody>\n",
       "</table>\n",
       "</div>"
      ],
      "text/plain": [
       "        total_amount  duration_minutes  passenger_count  trip_distance\n",
       "count  447770.000000     447770.000000    331719.000000  447770.000000\n",
       "mean       18.898600         20.191509         1.304110       3.599392\n",
       "std        14.101771         75.820894         0.953394       4.257709\n",
       "min      -210.300000          0.000000         0.000000     -33.690000\n",
       "25%         9.120000          7.000000         1.000000       1.080000\n",
       "50%        14.400000         12.116667         1.000000       2.070000\n",
       "75%        24.550000         21.000000         1.000000       4.410000\n",
       "max       753.800000       1439.966667         9.000000     130.680000"
      ]
     },
     "execution_count": 65,
     "metadata": {},
     "output_type": "execute_result"
    }
   ],
   "source": [
    "data_df.describe()"
   ]
  },
  {
   "cell_type": "markdown",
   "metadata": {},
   "source": [
    "The table above shows some clear outliers, e.g. -400 or 2626 as fare, or 0 passengers. There are many intelligent methods for identifying and removing outliers, but data cleaning is not the focus of this notebook, so just remove the outliers by setting some min and max values which seem more reasonable. Removing the outliers results in a final dataset of 754,671 rows."
   ]
  },
  {
   "cell_type": "code",
   "execution_count": 66,
   "metadata": {},
   "outputs": [
    {
     "name": "stdout",
     "output_type": "stream",
     "text": [
      "(312891, 4)\n"
     ]
    }
   ],
   "source": [
    "data_df = data_df[(data_df.total_amount > 0) & (data_df.total_amount < 200) & \n",
    "                  (data_df.duration_minutes > 0) & (data_df.duration_minutes < 120) & \n",
    "                  (data_df.trip_distance > 0) & (data_df.trip_distance < 121) & \n",
    "                  (data_df.passenger_count > 0)].dropna()\n",
    "print(data_df.shape)"
   ]
  },
  {
   "cell_type": "markdown",
   "metadata": {},
   "source": [
    "### Data visualization\n",
    "\n",
    "Since this notebook will build a regression model for the taxi data, it's a good idea to check if there is any correlation between the variables in our data. Use scatter plots on a sample of the data to compare trip distance with duration in minutes, and total amount (fare) with duration in minutes."
   ]
  },
  {
   "cell_type": "code",
   "execution_count": 67,
   "metadata": {},
   "outputs": [
    {
     "data": {
      "text/plain": [
       "<AxesSubplot:xlabel='duration_minutes', ylabel='trip_distance'>"
      ]
     },
     "execution_count": 67,
     "metadata": {},
     "output_type": "execute_result"
    },
    {
     "data": {
      "image/png": "[encoded data removed]",
      "text/plain": [
       "<Figure size 432x288 with 1 Axes>"
      ]
     },
     "metadata": {
      "needs_background": "light"
     },
     "output_type": "display_data"
    }
   ],
   "source": [
    "import seaborn as sns \n",
    "\n",
    "sample_df = data_df.sample(1000)\n",
    "sns.scatterplot(data=sample_df, x='duration_minutes', y='trip_distance')"
   ]
  },
  {
   "cell_type": "code",
   "execution_count": 68,
   "metadata": {},
   "outputs": [
    {
     "data": {
      "text/plain": [
       "<AxesSubplot:xlabel='duration_minutes', ylabel='total_amount'>"
      ]
     },
     "execution_count": 68,
     "metadata": {},
     "output_type": "execute_result"
    },
    {
     "data": {
      "image/png": "[encoded data removed]",
      "text/plain": [
       "<Figure size 432x288 with 1 Axes>"
      ]
     },
     "metadata": {
      "needs_background": "light"
     },
     "output_type": "display_data"
    }
   ],
   "source": [
    "sns.scatterplot(data=sample_df, x='duration_minutes', y='total_amount')"
   ]
  },
  {
   "cell_type": "markdown",
   "metadata": {},
   "source": [
    "These scatter plots look fine and show at least some correlation between our variables. \n",
    "\n",
    "### Data splitting and saving\n",
    "\n",
    "We are now ready to split the dataset into train, validation, and test sets. "
   ]
  },
  {
   "cell_type": "code",
   "execution_count": 69,
   "metadata": {},
   "outputs": [
    {
     "name": "stdout",
     "output_type": "stream",
     "text": [
      "Size of\n",
      " train: 250312,\n",
      " val: 59450,\n",
      " test: 3129 \n"
     ]
    }
   ],
   "source": [
    "from sklearn.model_selection import train_test_split\n",
    "train_df, val_df = train_test_split(data_df, test_size=0.20, random_state=42)\n",
    "val_df, test_df = train_test_split(val_df, test_size=0.05, random_state=42)\n",
    "\n",
    "# Reset the index for our test dataframe\n",
    "test_df.reset_index(inplace=True, drop=True)\n",
    "\n",
    "print('Size of\\n train: {},\\n val: {},\\n test: {} '.format(train_df.shape[0], val_df.shape[0], test_df.shape[0]))"
   ]
  },
  {
   "cell_type": "markdown",
   "metadata": {},
   "source": [
    "Save the train, validation, and test files as CSV locally on this notebook instance. Notice that you save the train file twice - once as the training data file and once as the baseline data file. The baseline data file will be used by [SageMaker Model Monitor](https://docs.aws.amazon.com/sagemaker/latest/dg/model-monitor.html)⇗ to detect data drift. Data drift occurs when the statistical nature of the data that your model receives while in production drifts away from the nature of the baseline data it was trained on, which means the model begins to lose accuracy in its predictions."
   ]
  },
  {
   "cell_type": "code",
   "execution_count": 70,
   "metadata": {},
   "outputs": [],
   "source": [
    "train_cols = ['total_amount', 'duration_minutes','passenger_count','trip_distance']\n",
    "train_df.to_csv('train.csv', index=False, header=False)\n",
    "val_df.to_csv('validation.csv', index=False, header=False)\n",
    "test_df.to_csv('test.csv', index=False, header=False)\n",
    "\n",
    "# Save test and baseline with headers\n",
    "train_df.to_csv('baseline.csv', index=False, header=True)"
   ]
  },
  {
   "cell_type": "code",
   "execution_count": 71,
   "metadata": {},
   "outputs": [
    {
     "name": "stdout",
     "output_type": "stream",
     "text": [
      "Session: <sagemaker.session.Session object at 0x7fa945501940>, Bucket: exp01-dev-modelexample-data\n"
     ]
    }
   ],
   "source": [
    "import sagemaker\n",
    "\n",
    "# Get the session and default bucket\n",
    "session = sagemaker.session.Session()\n",
    "#bucket = session.default_bucket()\n",
    "bucket = \"exp01-dev-modelexample-data\"\n",
    "print(\"Session: {0}, Bucket: {1}\".format(session,bucket))"
   ]
  },
  {
   "cell_type": "markdown",
   "metadata": {},
   "source": [
    "Now upload these CSV files to your default SageMaker S3 bucket. "
   ]
  },
  {
   "cell_type": "code",
   "execution_count": 72,
   "metadata": {},
   "outputs": [],
   "source": [
    "# Specify data prefix and version\n",
    "prefix = 'modelsplit/v1'\n",
    "\n",
    "s3_train_uri = session.upload_data('train.csv', bucket, prefix + '/data/training')\n",
    "s3_val_uri = session.upload_data('validation.csv', bucket, prefix + '/data/validation')\n",
    "s3_test_uri = session.upload_data('test.csv', bucket, prefix + '/data/test')\n",
    "s3_baseline_uri = session.upload_data('baseline.csv', bucket, prefix + '/data/baseline')"
   ]
  },
  {
   "cell_type": "markdown",
   "metadata": {},
   "source": [
    "You will use the datasets which you have prepared and saved in this section to trigger the pipeline to train and deploy a model in the next section."
   ]
  },
  {
   "cell_type": "markdown",
   "metadata": {},
   "source": [
    "## Build\n",
    "\n",
    "If you navigate to the CodePipeline instance created for this workshop, you will notice that the Source stage is initially in a `Failed` state. This happens because the dataset, which is one of the sources that can trigger the pipeline, has not yet been uploaded to the S3 location expected by the pipeline.\n",
    "\n",
    "![Failed code pipeline](../docs/pipeline_failed.png)\n",
    "\n",
    "### Trigger Build\n",
    "\n",
    "In this section, you will start a model build and deployment pipeline by packaging up the datasets you prepared in the previous section and uploading these to the S3 source location which triggers the CodePipeline instance created for this workshop. \n",
    "\n",
    "First, import some libraries and load some environment variables which you will need. These environment variables have been set through a  [lifecycle configuration](https://docs.aws.amazon.com/sagemaker/latest/dg/notebook-lifecycle-config.html)⇗ script attached to this notebook."
   ]
  },
  {
   "cell_type": "code",
   "execution_count": 73,
   "metadata": {},
   "outputs": [
    {
     "name": "stdout",
     "output_type": "stream",
     "text": [
      "region: eu-west-1\n",
      "artifact bucket: exp01-dev-modelexample-artifact\n",
      "pipeline: exp01-dev-modelexample-pipeline\n",
      "model name: modelexample\n",
      "workflow: arn:aws:states:eu-west-1:342965497847:stateMachine:modelexample\n"
     ]
    }
   ],
   "source": [
    "import boto3\n",
    "from botocore.exceptions import ClientError\n",
    "import os\n",
    "import time\n",
    "\n",
    "region = boto3.Session().region_name\n",
    "artifact_bucket = os.environ['ARTIFACT_BUCKET']\n",
    "pipeline_name = os.environ['PIPELINE_NAME']\n",
    "model_name = os.environ['MODEL_NAME']\n",
    "workflow_pipeline_arn = os.environ['WORKFLOW_PIPELINE_ARN']\n",
    "\n",
    "print('region: {}'.format(region))\n",
    "print('artifact bucket: {}'.format(artifact_bucket))\n",
    "print('pipeline: {}'.format(pipeline_name))\n",
    "print('model name: {}'.format(model_name))\n",
    "print('workflow: {}'.format(workflow_pipeline_arn))"
   ]
  },
  {
   "cell_type": "markdown",
   "metadata": {},
   "source": [
    "From the AWS CodePipeline [documentation](https://docs.aws.amazon.com/codepipeline/latest/userguide/tutorials-simple-s3.html)⇗:\n",
    "\n",
    "> When Amazon S3 is the source provider for your pipeline, you may zip your source file or files into a single .zip and upload the .zip to your source bucket. You may also upload a single unzipped file; however, downstream actions that expect a .zip file will fail.\n",
    "\n",
    "To train a model, you need multiple datasets (train, validation, and test) along with a file specifying the hyperparameters. In this example, you will create one JSON file which contains the S3 dataset locations and one JSON file which contains the hyperparameter values. Then you compress both files into a zip package to be used as input for the pipeline run. "
   ]
  },
  {
   "cell_type": "code",
   "execution_count": 74,
   "metadata": {},
   "outputs": [],
   "source": [
    "from io import BytesIO\n",
    "import zipfile\n",
    "import json\n",
    "\n",
    "input_data = {\n",
    "    'TrainingUri': s3_train_uri,\n",
    "    'ValidationUri': s3_val_uri,\n",
    "    'TestUri': s3_test_uri,\n",
    "    'BaselineUri': s3_baseline_uri\n",
    "}\n",
    "\n",
    "hyperparameters = {\n",
    "    'num_round': 50\n",
    "}\n",
    "\n",
    "zip_buffer = BytesIO()\n",
    "with zipfile.ZipFile(zip_buffer, 'a') as zf:\n",
    "    zf.writestr('inputData.json', json.dumps(input_data))\n",
    "    zf.writestr('hyperparameters.json', json.dumps(hyperparameters))\n",
    "zip_buffer.seek(0)\n",
    "\n",
    "data_source_key = '{}/data-source.zip'.format(model_name)"
   ]
  },
  {
   "cell_type": "markdown",
   "metadata": {},
   "source": [
    "Now upload the zip package to your artifact S3 bucket - this action will trigger the pipeline to train and deploy a model."
   ]
  },
  {
   "cell_type": "code",
   "execution_count": 75,
   "metadata": {},
   "outputs": [
    {
     "data": {
      "text/plain": [
       "{'ResponseMetadata': {'RequestId': 'G5GXQV6082NE8VBZ',\n",
       "  'HostId': 'OH5qQFvOcvPbTs3V06XhNqJmYE7VFgS0Mqtzu3moftRz+ZQvAyqLLmiQwbWOkRd/zii0JyKaDbc=',\n",
       "  'HTTPStatusCode': 200,\n",
       "  'HTTPHeaders': {'x-amz-id-2': 'OH5qQFvOcvPbTs3V06XhNqJmYE7VFgS0Mqtzu3moftRz+ZQvAyqLLmiQwbWOkRd/zii0JyKaDbc=',\n",
       "   'x-amz-request-id': 'G5GXQV6082NE8VBZ',\n",
       "   'date': 'Fri, 04 Jun 2021 11:55:07 GMT',\n",
       "   'x-amz-version-id': 'xDfDaEeQi3UeIsDlhKsD7jA8qMtvREhI',\n",
       "   'etag': '\"a3ed5d021a5cd7a3c6fcceed4bc26f8e\"',\n",
       "   'content-length': '0',\n",
       "   'server': 'AmazonS3'},\n",
       "  'RetryAttempts': 0},\n",
       " 'ETag': '\"a3ed5d021a5cd7a3c6fcceed4bc26f8e\"',\n",
       " 'VersionId': 'xDfDaEeQi3UeIsDlhKsD7jA8qMtvREhI'}"
      ]
     },
     "execution_count": 75,
     "metadata": {},
     "output_type": "execute_result"
    }
   ],
   "source": [
    "s3 = boto3.client('s3')\n",
    "s3.put_object(Bucket=artifact_bucket, Key=data_source_key, Body=bytearray(zip_buffer.read()))"
   ]
  },
  {
   "cell_type": "markdown",
   "metadata": {},
   "source": [
    "Click the link below to open the AWS console at the Code Pipeline if you don't have it open in another tab.\n",
    "\n",
    "<div class=\"alert alert-block alert-info\">\n",
    "    Tip: You may need to wait a minute to see the DataSource stage turn green. The page will refresh automatically.\n",
    "</div>\n",
    "\n",
    "![Source Green](../docs/datasource-after.png)"
   ]
  },
  {
   "cell_type": "code",
   "execution_count": 76,
   "metadata": {},
   "outputs": [
    {
     "data": {
      "text/html": [
       "<a target=\"_blank\" href=\"https://eu-west-1.console.aws.amazon.com/codesuite/codepipeline/pipelines/exp01-dev-modelexample-pipeline/view?region=eu-west-1\">Code Pipeline</a>"
      ],
      "text/plain": [
       "<IPython.core.display.HTML object>"
      ]
     },
     "execution_count": 76,
     "metadata": {},
     "output_type": "execute_result"
    }
   ],
   "source": [
    "from IPython.core.display import HTML\n",
    "\n",
    "HTML('<a target=\"_blank\" href=\"https://{0}.console.aws.amazon.com/codesuite/codepipeline/pipelines/{1}/view?region={0}\">Code Pipeline</a>'.format(region, pipeline_name))"
   ]
  },
  {
   "cell_type": "markdown",
   "metadata": {},
   "source": [
    "### Inspect Build Logs\n",
    "\n",
    "Once the build stage is running, you will see the AWS CodeBuild job turn blue with a status of **In progress**.\n",
    "\n",
    "![Failed code pipeline](../docs/codebuild-inprogress.png)"
   ]
  },
  {
   "cell_type": "markdown",
   "metadata": {},
   "source": [
    "You can click on the **Details** link displayed in the CodePipeline UI or click the link below to jump directly to the CodeBuild logs.\n",
    "\n",
    "<div class=\"alert alert-block alert-info\">\n",
    "    Tip: You may need to wait a few seconds for the pipeline to transition into the active (blue) state and for the build to start.\n",
    "</div>"
   ]
  },
  {
   "cell_type": "code",
   "execution_count": 77,
   "metadata": {},
   "outputs": [
    {
     "data": {
      "text/html": [
       "<a target=\"_blank\" href=\"https://console.aws.amazon.com/codebuild/home?region=eu-west-1#/builds/exp01-dev-modelexample-project:855ea099-286b-4bf9-8a2e-094838ecbd1e/view/new\">Code Build Logs</a>"
      ],
      "text/plain": [
       "<IPython.core.display.HTML object>"
      ]
     },
     "execution_count": 77,
     "metadata": {},
     "output_type": "execute_result"
    }
   ],
   "source": [
    "codepipeline = boto3.client('codepipeline')\n",
    "\n",
    "def get_pipeline_stage(pipeline_name, stage_name):\n",
    "    response = codepipeline.get_pipeline_state(name=pipeline_name)\n",
    "    for stage in response['stageStates']:\n",
    "        if stage['stageName'] == stage_name:\n",
    "            return stage\n",
    "\n",
    "# Get last execution id\n",
    "build_stage = get_pipeline_stage(pipeline_name, 'Build')    \n",
    "if not 'latestExecution' in build_stage:\n",
    "    raise(Exception('Please wait.  Build not started'))\n",
    "\n",
    "build_url = build_stage['actionStates'][0]['latestExecution']['externalExecutionUrl']\n",
    "\n",
    "# Out a link to the code build logs\n",
    "HTML('<a target=\"_blank\" href=\"{0}\">Code Build Logs</a>'.format(build_url))"
   ]
  },
  {
   "cell_type": "markdown",
   "metadata": {},
   "source": [
    "The AWS CodeBuild process is responsible for creating a number of AWS CloudFormation templates which we will explore in more detail in the next section.  Two of these templates are used to set up the **Train** step by creating the AWS Step Functions worklow and the custom AWS Lambda functions used within this workflow."
   ]
  },
  {
   "cell_type": "markdown",
   "metadata": {},
   "source": [
    "## Train Model\n",
    "\n",
    "### Inspect Training Job\n",
    "\n",
    "Wait until the pipeline has started running the Train step (see screenshot) before continuing with the next cells in this notebook. \n",
    "\n",
    "![Training in progress](../docs/train-in-progress.png)\n",
    "\n",
    "When the pipeline has started running the train step, you can click on the **Details** link displayed in the CodePipeline UI (see screenshot above) to view the Step Functions workflow which is running the training job. \n",
    "\n",
    "Alternatively, you can click on the Workflow link from the cell output below once it's available."
   ]
  },
  {
   "cell_type": "code",
   "execution_count": 78,
   "metadata": {},
   "outputs": [
    {
     "data": {
      "text/html": [
       "Workflow: <a target=\"_blank\" href=\"https://console.aws.amazon.com/states/home?region=eu-west-1#/statemachines/view/arn:aws:states:eu-west-1:342965497847:stateMachine:modelexample\">arn:aws:states:eu-west-1:342965497847:stateMachine:modelexample</a>"
      ],
      "text/plain": [
       "Workflow(name='modelexample', role='arn:aws:iam::342965497847:role/exp01-dev-modelexample-sfn-execution-role', state_machine_arn='arn:aws:states:eu-west-1:342965497847:stateMachine:modelexample')"
      ]
     },
     "execution_count": 78,
     "metadata": {},
     "output_type": "execute_result"
    }
   ],
   "source": [
    "from stepfunctions.workflow import Workflow\n",
    "while True:\n",
    "    try:\n",
    "        workflow = Workflow.attach(workflow_pipeline_arn)\n",
    "        break\n",
    "    except ClientError as e:\n",
    "        print(e.response[\"Error\"][\"Message\"])\n",
    "    time.sleep(10)\n",
    "\n",
    "workflow"
   ]
  },
  {
   "cell_type": "markdown",
   "metadata": {},
   "source": [
    "Or simply run the cell below to display the Step Functions workflow, and re-run it after a few minutes to see the progress."
   ]
  },
  {
   "cell_type": "code",
   "execution_count": 79,
   "metadata": {},
   "outputs": [
    {
     "data": {
      "text/html": [
       "\n",
       "<link rel=\"stylesheet\" type=\"text/css\" href=\"https://do0of8uwbahzz.cloudfront.net/graph.css\">\n",
       "<div id=\"graph-184\" class=\"workflowgraph\">\n",
       "    \n",
       "    <style>\n",
       "        .graph-legend ul {\n",
       "            list-style-type: none;\n",
       "            padding: 10px;\n",
       "            padding-left: 0;\n",
       "            margin: 0;\n",
       "            position: absolute;\n",
       "            top: 0;\n",
       "            background: transparent;\n",
       "        }\n",
       "\n",
       "        .graph-legend li {\n",
       "            margin-left: 10px;\n",
       "            display: inline-block;\n",
       "        }\n",
       "\n",
       "        .graph-legend li > div {\n",
       "            width: 10px;\n",
       "            height: 10px;\n",
       "            display: inline-block;\n",
       "        }\n",
       "\n",
       "        .graph-legend .success { background-color: #2BD62E }\n",
       "        .graph-legend .failed { background-color: #DE322F }\n",
       "        .graph-legend .cancelled { background-color: #DDDDDD }\n",
       "        .graph-legend .in-progress { background-color: #53C9ED }\n",
       "        .graph-legend .caught-error { background-color: #FFA500 }\n",
       "    </style>\n",
       "    <div class=\"graph-legend\">\n",
       "        <ul>\n",
       "            <li>\n",
       "                <div class=\"success\"></div>\n",
       "                <span>Success</span>\n",
       "            </li>\n",
       "            <li>\n",
       "                <div class=\"failed\"></div>\n",
       "                <span>Failed</span>\n",
       "            </li>\n",
       "            <li>\n",
       "                <div class=\"cancelled\"></div>\n",
       "                <span>Cancelled</span>\n",
       "            </li>\n",
       "            <li>\n",
       "                <div class=\"in-progress\"></div>\n",
       "                <span>In Progress</span>\n",
       "            </li>\n",
       "            <li>\n",
       "                <div class=\"caught-error\"></div>\n",
       "                <span>Caught Error</span>\n",
       "            </li>\n",
       "        </ul>\n",
       "    </div>\n",
       "\n",
       "    <svg></svg>\n",
       "    <a href=\"https://console.aws.amazon.com/states/home?region=eu-west-1#/executions/details/arn:aws:states:eu-west-1:342965497847:execution:modelexample:ba075952-5fcd-4d7e-b31a-08dd199f2264\" target=\"_blank\"> Inspect in AWS Step Functions </a>\n",
       "</div>\n",
       "\n",
       "<script type=\"text/javascript\">\n",
       "\n",
       "require.config({\n",
       "    paths: {\n",
       "        sfn: \"https://do0of8uwbahzz.cloudfront.net/sfn\",\n",
       "    }\n",
       "});\n",
       "\n",
       "require(['sfn'], function(sfn) {\n",
       "    var element = document.getElementById('graph-184')\n",
       "\n",
       "    var options = {\n",
       "        width: parseFloat(getComputedStyle(element, null).width.replace(\"px\", \"\")),\n",
       "        height: 1000,\n",
       "        layout: 'LR',\n",
       "        resizeHeight: true\n",
       "    };\n",
       "\n",
       "    var definition = {\"StartAt\": \"Create Experiment\", \"States\": {\"Create Experiment\": {\"Parameters\": {\"FunctionName\": \"mlops-create-experiment\", \"Payload\": {\"ExperimentName.$\": \"$.ExperimentName\", \"TrialName.$\": \"$.TrialName\"}}, \"ResultPath\": \"$.CreateTrialResults\", \"Resource\": \"arn:aws:states:::lambda:invoke\", \"Type\": \"Task\", \"Next\": \"SageMaker Jobs\"}, \"SageMaker Jobs\": {\"Type\": \"Parallel\", \"End\": true, \"Catch\": [{\"ErrorEquals\": [\"States.TaskFailed\"], \"Next\": \"SageMaker Jobs failed\"}], \"Branches\": [{\"StartAt\": \"Baseline Job\", \"States\": {\"Baseline Job\": {\"Resource\": \"arn:aws:states:::sagemaker:createProcessingJob.sync\", \"Parameters\": {\"ProcessingJobName.$\": \"$$.Execution.Input['BaselineJobName']\", \"ProcessingInputs\": [{\"InputName\": \"baseline_dataset_input\", \"AppManaged\": false, \"S3Input\": {\"S3Uri\": \"s3://exp01-dev-modelexample-data/modelsplit/v1/data/baseline/baseline.csv\", \"LocalPath\": \"/opt/ml/processing/input/baseline_dataset_input\", \"S3DataType\": \"S3Prefix\", \"S3InputMode\": \"File\", \"S3DataDistributionType\": \"FullyReplicated\", \"S3CompressionType\": \"None\"}}], \"ProcessingOutputConfig\": {\"Outputs\": [{\"OutputName\": \"monitoring_output\", \"AppManaged\": false, \"S3Output\": {\"S3Uri.$\": \"$$.Execution.Input['BaselineOutputUri']\", \"LocalPath\": \"/opt/ml/processing/output\", \"S3UploadMode\": \"EndOfJob\"}}]}, \"AppSpecification\": {\"ImageUri\": \"468650794304.dkr.ecr.eu-west-1.amazonaws.com/sagemaker-model-monitor-analyzer\"}, \"RoleArn\": \"arn:aws:iam::342965497847:role/exp01-dev-modelexample-sagemaker-role\", \"Environment\": {\"dataset_format\": \"{\\\"csv\\\": {\\\"header\\\": true, \\\"output_columns_position\\\": \\\"START\\\"}}\", \"dataset_source\": \"/opt/ml/processing/input/baseline_dataset_input\", \"output_path\": \"/opt/ml/processing/output\", \"publish_cloudwatch_metrics\": \"Disabled\"}, \"ProcessingResources\": {\"ClusterConfig\": {\"InstanceCount\": 1, \"InstanceType\": \"ml.m5.xlarge\", \"VolumeSizeInGB\": 30}}, \"StoppingCondition\": {\"MaxRuntimeInSeconds\": 1800}, \"ExperimentConfig\": {\"ExperimentName.$\": \"$$.Execution.Input['ExperimentName']\", \"TrialName.$\": \"$$.Execution.Input['TrialName']\", \"TrialComponentDisplayName\": \"Baseline\"}, \"Tags\": [{\"Key\": \"GitBranch\", \"Value.$\": \"$$.Execution.Input['GitBranch']\"}, {\"Key\": \"GitCommitHash\", \"Value.$\": \"$$.Execution.Input['GitCommitHash']\"}, {\"Key\": \"DataVersionId\", \"Value.$\": \"$$.Execution.Input['DataVersionId']\"}]}, \"Type\": \"Task\", \"End\": true, \"Catch\": [{\"ErrorEquals\": [\"States.TaskFailed\"], \"Next\": \"Baseline failed\"}]}, \"Baseline failed\": {\"Cause\": \"SageMakerBaselineJobFailed\", \"Type\": \"Fail\"}}}, {\"StartAt\": \"Training Job\", \"States\": {\"Training Job\": {\"ResultPath\": \"$.TrainingResults\", \"Resource\": \"arn:aws:states:::sagemaker:createTrainingJob.sync\", \"Parameters\": {\"AlgorithmSpecification\": {\"TrainingImage\": \"685385470294.dkr.ecr.eu-west-1.amazonaws.com/xgboost:latest\", \"TrainingInputMode\": \"File\"}, \"OutputDataConfig\": {\"S3OutputPath\": \"s3://sagemaker-eu-west-1-342965497847/modelexample\"}, \"StoppingCondition\": {\"MaxRuntimeInSeconds\": 86400}, \"ResourceConfig\": {\"InstanceCount\": 1, \"InstanceType\": \"ml.m4.xlarge\", \"VolumeSizeInGB\": 30}, \"RoleArn\": \"arn:aws:iam::342965497847:role/exp01-dev-modelexample-sagemaker-role\", \"InputDataConfig\": [{\"DataSource\": {\"S3DataSource\": {\"S3DataType\": \"S3Prefix\", \"S3Uri\": \"s3://exp01-dev-modelexample-data/modelsplit/v1/data/training/train.csv\", \"S3DataDistributionType\": \"FullyReplicated\"}}, \"ContentType\": \"csv\", \"ChannelName\": \"train\"}, {\"DataSource\": {\"S3DataSource\": {\"S3DataType\": \"S3Prefix\", \"S3Uri\": \"s3://exp01-dev-modelexample-data/modelsplit/v1/data/validation/validation.csv\", \"S3DataDistributionType\": \"FullyReplicated\"}}, \"ContentType\": \"csv\", \"ChannelName\": \"validation\"}], \"HyperParameters\": {\"max_depth\": \"9\", \"eta\": \"0.2\", \"gamma\": \"4\", \"min_child_weight\": \"300\", \"subsample\": \"0.8\", \"objective\": \"reg:linear\", \"early_stopping_rounds\": \"10\", \"num_round\": \"50\"}, \"TrainingJobName.$\": \"$$.Execution.Input['TrainingJobName']\", \"ExperimentConfig\": {\"ExperimentName.$\": \"$$.Execution.Input['ExperimentName']\", \"TrialName.$\": \"$$.Execution.Input['TrialName']\", \"TrialComponentDisplayName\": \"Training\"}, \"Tags\": [{\"Key\": \"GitBranch\", \"Value.$\": \"$$.Execution.Input['GitBranch']\"}, {\"Key\": \"GitCommitHash\", \"Value.$\": \"$$.Execution.Input['GitCommitHash']\"}, {\"Key\": \"DataVersionId\", \"Value.$\": \"$$.Execution.Input['DataVersionId']\"}]}, \"Type\": \"Task\", \"Next\": \"Save Model\", \"Catch\": [{\"ErrorEquals\": [\"States.TaskFailed\"], \"Next\": \"Training failed\"}]}, \"Save Model\": {\"InputPath\": \"$.TrainingResults\", \"ResultPath\": \"$.ModelStepResults\", \"Parameters\": {\"ExecutionRoleArn\": \"arn:aws:iam::342965497847:role/exp01-dev-modelexample-sagemaker-role\", \"ModelName.$\": \"$$.Execution.Input['TrainingJobName']\", \"PrimaryContainer\": {\"Environment\": {}, \"Image\": \"685385470294.dkr.ecr.eu-west-1.amazonaws.com/xgboost:latest\", \"ModelDataUrl.$\": \"$['ModelArtifacts']['S3ModelArtifacts']\"}}, \"Resource\": \"arn:aws:states:::sagemaker:createModel\", \"Type\": \"Task\", \"Next\": \"Query Training Results\"}, \"Query Training Results\": {\"Parameters\": {\"FunctionName\": \"mlops-query-training\", \"Payload\": {\"TrainingJobName.$\": \"$.TrainingJobName\"}}, \"ResultPath\": \"$.QueryTrainingResults\", \"Resource\": \"arn:aws:states:::lambda:invoke\", \"Type\": \"Task\", \"Next\": \"RMSE < 10\"}, \"RMSE < 10\": {\"Type\": \"Choice\", \"Choices\": [{\"Variable\": \"$['QueryTrainingResults']['Payload']['results']['TrainingMetrics'][0]['Value']\", \"NumericLessThan\": 10, \"Next\": \"Model Error Acceptable\"}], \"Default\": \"Model Error Too Low\"}, \"Model Error Too Low\": {\"Comment\": \"RMSE accuracy higher than threshold\", \"Type\": \"Fail\"}, \"Model Error Acceptable\": {\"Type\": \"Succeed\"}, \"Training failed\": {\"Cause\": \"SageMakerTrainingJobFailed\", \"Type\": \"Fail\"}}}]}, \"SageMaker Jobs failed\": {\"Cause\": \"SageMakerJobsFailed\", \"Type\": \"Fail\"}}};\n",
       "    var elementId = '#graph-184';\n",
       "    var events = { 'events': [{\"timestamp\": 1622807838.854, \"type\": \"ExecutionStarted\", \"id\": 1, \"previousEventId\": 0, \"executionStartedEventDetails\": {\"input\": \"{\\\"ExperimentName\\\": \\\"mlops-modelexample\\\", \\\"TrialName\\\": \\\"mlops-modelexample-18714106-0eaa-48ad-924d-804c7a5b6392\\\", \\\"GitBranch\\\": \\\"master\\\", \\\"GitCommitHash\\\": \\\"58dd0d5bfdbb539684995d305bdce97f60be7104\\\", \\\"DataVersionId\\\": \\\"xDfDaEeQi3UeIsDlhKsD7jA8qMtvREhI\\\", \\\"BaselineJobName\\\": \\\"mlops-modelexample-pbl-18714106-0eaa-48ad-924d-804c7a5b6392\\\", \\\"BaselineOutputUri\\\": \\\"s3://sagemaker-eu-west-1-342965497847/modelexample/monitoring/baseline/mlops-modelexample-pbl-18714106-0eaa-48ad-924d-804c7a5b6392\\\", \\\"TrainingJobName\\\": \\\"mlops-modelexample-18714106-0eaa-48ad-924d-804c7a5b6392\\\"}\", \"inputDetails\": {\"truncated\": false}, \"roleArn\": \"arn:aws:iam::342965497847:role/exp01-dev-modelexample-sfn-execution-role\"}}, {\"timestamp\": 1622807838.882, \"type\": \"TaskStateEntered\", \"id\": 2, \"previousEventId\": 0, \"stateEnteredEventDetails\": {\"name\": \"Create Experiment\", \"input\": \"{\\\"ExperimentName\\\": \\\"mlops-modelexample\\\", \\\"TrialName\\\": \\\"mlops-modelexample-18714106-0eaa-48ad-924d-804c7a5b6392\\\", \\\"GitBranch\\\": \\\"master\\\", \\\"GitCommitHash\\\": \\\"58dd0d5bfdbb539684995d305bdce97f60be7104\\\", \\\"DataVersionId\\\": \\\"xDfDaEeQi3UeIsDlhKsD7jA8qMtvREhI\\\", \\\"BaselineJobName\\\": \\\"mlops-modelexample-pbl-18714106-0eaa-48ad-924d-804c7a5b6392\\\", \\\"BaselineOutputUri\\\": \\\"s3://sagemaker-eu-west-1-342965497847/modelexample/monitoring/baseline/mlops-modelexample-pbl-18714106-0eaa-48ad-924d-804c7a5b6392\\\", \\\"TrainingJobName\\\": \\\"mlops-modelexample-18714106-0eaa-48ad-924d-804c7a5b6392\\\"}\", \"inputDetails\": {\"truncated\": false}}}, {\"timestamp\": 1622807838.882, \"type\": \"TaskScheduled\", \"id\": 3, \"previousEventId\": 2, \"taskScheduledEventDetails\": {\"resourceType\": \"lambda\", \"resource\": \"invoke\", \"region\": \"eu-west-1\", \"parameters\": \"{\\\"FunctionName\\\":\\\"mlops-create-experiment\\\",\\\"Payload\\\":{\\\"TrialName\\\":\\\"mlops-modelexample-18714106-0eaa-48ad-924d-804c7a5b6392\\\",\\\"ExperimentName\\\":\\\"mlops-modelexample\\\"}}\"}}, {\"timestamp\": 1622807838.96, \"type\": \"TaskStarted\", \"id\": 4, \"previousEventId\": 3, \"taskStartedEventDetails\": {\"resourceType\": \"lambda\", \"resource\": \"invoke\"}}, {\"timestamp\": 1622807839.726, \"type\": \"TaskSucceeded\", \"id\": 5, \"previousEventId\": 4, \"taskSucceededEventDetails\": {\"resourceType\": \"lambda\", \"resource\": \"invoke\", \"output\": \"{\\\"ExecutedVersion\\\":\\\"$LATEST\\\",\\\"Payload\\\":{\\\"statusCode\\\":200,\\\"results\\\":{\\\"ExperimentCreated\\\":true,\\\"TrialCreated\\\":false}},\\\"SdkHttpMetadata\\\":{\\\"AllHttpHeaders\\\":{\\\"X-Amz-Executed-Version\\\":[\\\"$LATEST\\\"],\\\"x-amzn-Remapped-Content-Length\\\":[\\\"0\\\"],\\\"Connection\\\":[\\\"keep-alive\\\"],\\\"x-amzn-RequestId\\\":[\\\"7555adaa-7aab-4f9f-aa4f-e1c6bb06e997\\\"],\\\"Content-Length\\\":[\\\"82\\\"],\\\"Date\\\":[\\\"Fri, 04 Jun 2021 11:57:19 GMT\\\"],\\\"X-Amzn-Trace-Id\\\":[\\\"root=1-60ba151e-1a17c28c3a7bf7a153d9b0bc;sampled=0\\\"],\\\"Content-Type\\\":[\\\"application/json\\\"]},\\\"HttpHeaders\\\":{\\\"Connection\\\":\\\"keep-alive\\\",\\\"Content-Length\\\":\\\"82\\\",\\\"Content-Type\\\":\\\"application/json\\\",\\\"Date\\\":\\\"Fri, 04 Jun 2021 11:57:19 GMT\\\",\\\"X-Amz-Executed-Version\\\":\\\"$LATEST\\\",\\\"x-amzn-Remapped-Content-Length\\\":\\\"0\\\",\\\"x-amzn-RequestId\\\":\\\"7555adaa-7aab-4f9f-aa4f-e1c6bb06e997\\\",\\\"X-Amzn-Trace-Id\\\":\\\"root=1-60ba151e-1a17c28c3a7bf7a153d9b0bc;sampled=0\\\"},\\\"HttpStatusCode\\\":200},\\\"SdkResponseMetadata\\\":{\\\"RequestId\\\":\\\"7555adaa-7aab-4f9f-aa4f-e1c6bb06e997\\\"},\\\"StatusCode\\\":200}\", \"outputDetails\": {\"truncated\": false}}}, {\"timestamp\": 1622807839.726, \"type\": \"TaskStateExited\", \"id\": 6, \"previousEventId\": 5, \"stateExitedEventDetails\": {\"name\": \"Create Experiment\", \"output\": \"{\\\"ExperimentName\\\":\\\"mlops-modelexample\\\",\\\"TrialName\\\":\\\"mlops-modelexample-18714106-0eaa-48ad-924d-804c7a5b6392\\\",\\\"GitBranch\\\":\\\"master\\\",\\\"GitCommitHash\\\":\\\"58dd0d5bfdbb539684995d305bdce97f60be7104\\\",\\\"DataVersionId\\\":\\\"xDfDaEeQi3UeIsDlhKsD7jA8qMtvREhI\\\",\\\"BaselineJobName\\\":\\\"mlops-modelexample-pbl-18714106-0eaa-48ad-924d-804c7a5b6392\\\",\\\"BaselineOutputUri\\\":\\\"s3://sagemaker-eu-west-1-342965497847/modelexample/monitoring/baseline/mlops-modelexample-pbl-18714106-0eaa-48ad-924d-804c7a5b6392\\\",\\\"TrainingJobName\\\":\\\"mlops-modelexample-18714106-0eaa-48ad-924d-804c7a5b6392\\\",\\\"CreateTrialResults\\\":{\\\"ExecutedVersion\\\":\\\"$LATEST\\\",\\\"Payload\\\":{\\\"statusCode\\\":200,\\\"results\\\":{\\\"ExperimentCreated\\\":true,\\\"TrialCreated\\\":false}},\\\"SdkHttpMetadata\\\":{\\\"AllHttpHeaders\\\":{\\\"X-Amz-Executed-Version\\\":[\\\"$LATEST\\\"],\\\"x-amzn-Remapped-Content-Length\\\":[\\\"0\\\"],\\\"Connection\\\":[\\\"keep-alive\\\"],\\\"x-amzn-RequestId\\\":[\\\"7555adaa-7aab-4f9f-aa4f-e1c6bb06e997\\\"],\\\"Content-Length\\\":[\\\"82\\\"],\\\"Date\\\":[\\\"Fri, 04 Jun 2021 11:57:19 GMT\\\"],\\\"X-Amzn-Trace-Id\\\":[\\\"root=1-60ba151e-1a17c28c3a7bf7a153d9b0bc;sampled=0\\\"],\\\"Content-Type\\\":[\\\"application/json\\\"]},\\\"HttpHeaders\\\":{\\\"Connection\\\":\\\"keep-alive\\\",\\\"Content-Length\\\":\\\"82\\\",\\\"Content-Type\\\":\\\"application/json\\\",\\\"Date\\\":\\\"Fri, 04 Jun 2021 11:57:19 GMT\\\",\\\"X-Amz-Executed-Version\\\":\\\"$LATEST\\\",\\\"x-amzn-Remapped-Content-Length\\\":\\\"0\\\",\\\"x-amzn-RequestId\\\":\\\"7555adaa-7aab-4f9f-aa4f-e1c6bb06e997\\\",\\\"X-Amzn-Trace-Id\\\":\\\"root=1-60ba151e-1a17c28c3a7bf7a153d9b0bc;sampled=0\\\"},\\\"HttpStatusCode\\\":200},\\\"SdkResponseMetadata\\\":{\\\"RequestId\\\":\\\"7555adaa-7aab-4f9f-aa4f-e1c6bb06e997\\\"},\\\"StatusCode\\\":200}}\", \"outputDetails\": {\"truncated\": false}}}, {\"timestamp\": 1622807839.732, \"type\": \"ParallelStateEntered\", \"id\": 7, \"previousEventId\": 6, \"stateEnteredEventDetails\": {\"name\": \"SageMaker Jobs\", \"input\": \"{\\\"ExperimentName\\\":\\\"mlops-modelexample\\\",\\\"TrialName\\\":\\\"mlops-modelexample-18714106-0eaa-48ad-924d-804c7a5b6392\\\",\\\"GitBranch\\\":\\\"master\\\",\\\"GitCommitHash\\\":\\\"58dd0d5bfdbb539684995d305bdce97f60be7104\\\",\\\"DataVersionId\\\":\\\"xDfDaEeQi3UeIsDlhKsD7jA8qMtvREhI\\\",\\\"BaselineJobName\\\":\\\"mlops-modelexample-pbl-18714106-0eaa-48ad-924d-804c7a5b6392\\\",\\\"BaselineOutputUri\\\":\\\"s3://sagemaker-eu-west-1-342965497847/modelexample/monitoring/baseline/mlops-modelexample-pbl-18714106-0eaa-48ad-924d-804c7a5b6392\\\",\\\"TrainingJobName\\\":\\\"mlops-modelexample-18714106-0eaa-48ad-924d-804c7a5b6392\\\",\\\"CreateTrialResults\\\":{\\\"ExecutedVersion\\\":\\\"$LATEST\\\",\\\"Payload\\\":{\\\"statusCode\\\":200,\\\"results\\\":{\\\"ExperimentCreated\\\":true,\\\"TrialCreated\\\":false}},\\\"SdkHttpMetadata\\\":{\\\"AllHttpHeaders\\\":{\\\"X-Amz-Executed-Version\\\":[\\\"$LATEST\\\"],\\\"x-amzn-Remapped-Content-Length\\\":[\\\"0\\\"],\\\"Connection\\\":[\\\"keep-alive\\\"],\\\"x-amzn-RequestId\\\":[\\\"7555adaa-7aab-4f9f-aa4f-e1c6bb06e997\\\"],\\\"Content-Length\\\":[\\\"82\\\"],\\\"Date\\\":[\\\"Fri, 04 Jun 2021 11:57:19 GMT\\\"],\\\"X-Amzn-Trace-Id\\\":[\\\"root=1-60ba151e-1a17c28c3a7bf7a153d9b0bc;sampled=0\\\"],\\\"Content-Type\\\":[\\\"application/json\\\"]},\\\"HttpHeaders\\\":{\\\"Connection\\\":\\\"keep-alive\\\",\\\"Content-Length\\\":\\\"82\\\",\\\"Content-Type\\\":\\\"application/json\\\",\\\"Date\\\":\\\"Fri, 04 Jun 2021 11:57:19 GMT\\\",\\\"X-Amz-Executed-Version\\\":\\\"$LATEST\\\",\\\"x-amzn-Remapped-Content-Length\\\":\\\"0\\\",\\\"x-amzn-RequestId\\\":\\\"7555adaa-7aab-4f9f-aa4f-e1c6bb06e997\\\",\\\"X-Amzn-Trace-Id\\\":\\\"root=1-60ba151e-1a17c28c3a7bf7a153d9b0bc;sampled=0\\\"},\\\"HttpStatusCode\\\":200},\\\"SdkResponseMetadata\\\":{\\\"RequestId\\\":\\\"7555adaa-7aab-4f9f-aa4f-e1c6bb06e997\\\"},\\\"StatusCode\\\":200}}\", \"inputDetails\": {\"truncated\": false}}}, {\"timestamp\": 1622807839.732, \"type\": \"ParallelStateStarted\", \"id\": 8, \"previousEventId\": 7}, {\"timestamp\": 1622807839.837, \"type\": \"TaskStateEntered\", \"id\": 9, \"previousEventId\": 8, \"stateEnteredEventDetails\": {\"name\": \"Training Job\", \"input\": \"{\\\"ExperimentName\\\":\\\"mlops-modelexample\\\",\\\"TrialName\\\":\\\"mlops-modelexample-18714106-0eaa-48ad-924d-804c7a5b6392\\\",\\\"GitBranch\\\":\\\"master\\\",\\\"GitCommitHash\\\":\\\"58dd0d5bfdbb539684995d305bdce97f60be7104\\\",\\\"DataVersionId\\\":\\\"xDfDaEeQi3UeIsDlhKsD7jA8qMtvREhI\\\",\\\"BaselineJobName\\\":\\\"mlops-modelexample-pbl-18714106-0eaa-48ad-924d-804c7a5b6392\\\",\\\"BaselineOutputUri\\\":\\\"s3://sagemaker-eu-west-1-342965497847/modelexample/monitoring/baseline/mlops-modelexample-pbl-18714106-0eaa-48ad-924d-804c7a5b6392\\\",\\\"TrainingJobName\\\":\\\"mlops-modelexample-18714106-0eaa-48ad-924d-804c7a5b6392\\\",\\\"CreateTrialResults\\\":{\\\"ExecutedVersion\\\":\\\"$LATEST\\\",\\\"Payload\\\":{\\\"statusCode\\\":200,\\\"results\\\":{\\\"ExperimentCreated\\\":true,\\\"TrialCreated\\\":false}},\\\"SdkHttpMetadata\\\":{\\\"AllHttpHeaders\\\":{\\\"X-Amz-Executed-Version\\\":[\\\"$LATEST\\\"],\\\"x-amzn-Remapped-Content-Length\\\":[\\\"0\\\"],\\\"Connection\\\":[\\\"keep-alive\\\"],\\\"x-amzn-RequestId\\\":[\\\"7555adaa-7aab-4f9f-aa4f-e1c6bb06e997\\\"],\\\"Content-Length\\\":[\\\"82\\\"],\\\"Date\\\":[\\\"Fri, 04 Jun 2021 11:57:19 GMT\\\"],\\\"X-Amzn-Trace-Id\\\":[\\\"root=1-60ba151e-1a17c28c3a7bf7a153d9b0bc;sampled=0\\\"],\\\"Content-Type\\\":[\\\"application/json\\\"]},\\\"HttpHeaders\\\":{\\\"Connection\\\":\\\"keep-alive\\\",\\\"Content-Length\\\":\\\"82\\\",\\\"Content-Type\\\":\\\"application/json\\\",\\\"Date\\\":\\\"Fri, 04 Jun 2021 11:57:19 GMT\\\",\\\"X-Amz-Executed-Version\\\":\\\"$LATEST\\\",\\\"x-amzn-Remapped-Content-Length\\\":\\\"0\\\",\\\"x-amzn-RequestId\\\":\\\"7555adaa-7aab-4f9f-aa4f-e1c6bb06e997\\\",\\\"X-Amzn-Trace-Id\\\":\\\"root=1-60ba151e-1a17c28c3a7bf7a153d9b0bc;sampled=0\\\"},\\\"HttpStatusCode\\\":200},\\\"SdkResponseMetadata\\\":{\\\"RequestId\\\":\\\"7555adaa-7aab-4f9f-aa4f-e1c6bb06e997\\\"},\\\"StatusCode\\\":200}}\", \"inputDetails\": {\"truncated\": false}}}, {\"timestamp\": 1622807839.837, \"type\": \"TaskScheduled\", \"id\": 10, \"previousEventId\": 9, \"taskScheduledEventDetails\": {\"resourceType\": \"sagemaker\", \"resource\": \"createTrainingJob.sync\", \"region\": \"eu-west-1\", \"parameters\": \"{\\\"AlgorithmSpecification\\\":{\\\"TrainingImage\\\":\\\"685385470294.dkr.ecr.eu-west-1.amazonaws.com/xgboost:latest\\\",\\\"TrainingInputMode\\\":\\\"File\\\"},\\\"OutputDataConfig\\\":{\\\"S3OutputPath\\\":\\\"s3://sagemaker-eu-west-1-342965497847/modelexample\\\"},\\\"StoppingCondition\\\":{\\\"MaxRuntimeInSeconds\\\":86400},\\\"ResourceConfig\\\":{\\\"InstanceCount\\\":1,\\\"InstanceType\\\":\\\"ml.m4.xlarge\\\",\\\"VolumeSizeInGB\\\":30},\\\"RoleArn\\\":\\\"arn:aws:iam::342965497847:role/exp01-dev-modelexample-sagemaker-role\\\",\\\"InputDataConfig\\\":[{\\\"DataSource\\\":{\\\"S3DataSource\\\":{\\\"S3DataType\\\":\\\"S3Prefix\\\",\\\"S3Uri\\\":\\\"s3://exp01-dev-modelexample-data/modelsplit/v1/data/training/train.csv\\\",\\\"S3DataDistributionType\\\":\\\"FullyReplicated\\\"}},\\\"ContentType\\\":\\\"csv\\\",\\\"ChannelName\\\":\\\"train\\\"},{\\\"DataSource\\\":{\\\"S3DataSource\\\":{\\\"S3DataType\\\":\\\"S3Prefix\\\",\\\"S3Uri\\\":\\\"s3://exp01-dev-modelexample-data/modelsplit/v1/data/validation/validation.csv\\\",\\\"S3DataDistributionType\\\":\\\"FullyReplicated\\\"}},\\\"ContentType\\\":\\\"csv\\\",\\\"ChannelName\\\":\\\"validation\\\"}],\\\"HyperParameters\\\":{\\\"max_depth\\\":\\\"9\\\",\\\"eta\\\":\\\"0.2\\\",\\\"gamma\\\":\\\"4\\\",\\\"min_child_weight\\\":\\\"300\\\",\\\"subsample\\\":\\\"0.8\\\",\\\"objective\\\":\\\"reg:linear\\\",\\\"early_stopping_rounds\\\":\\\"10\\\",\\\"num_round\\\":\\\"50\\\"},\\\"ExperimentConfig\\\":{\\\"TrialComponentDisplayName\\\":\\\"Training\\\",\\\"TrialName\\\":\\\"mlops-modelexample-18714106-0eaa-48ad-924d-804c7a5b6392\\\",\\\"ExperimentName\\\":\\\"mlops-modelexample\\\"},\\\"Tags\\\":[{\\\"Key\\\":\\\"MANAGED_BY_AWS\\\",\\\"Value\\\":\\\"STARTED_BY_STEP_FUNCTIONS\\\"},{\\\"Key\\\":\\\"GitBranch\\\",\\\"Value\\\":\\\"master\\\"},{\\\"Key\\\":\\\"GitCommitHash\\\",\\\"Value\\\":\\\"58dd0d5bfdbb539684995d305bdce97f60be7104\\\"},{\\\"Key\\\":\\\"DataVersionId\\\",\\\"Value\\\":\\\"xDfDaEeQi3UeIsDlhKsD7jA8qMtvREhI\\\"}],\\\"TrainingJobName\\\":\\\"mlops-modelexample-18714106-0eaa-48ad-924d-804c7a5b6392\\\"}\"}}, {\"timestamp\": 1622807839.849, \"type\": \"TaskStateEntered\", \"id\": 11, \"previousEventId\": 8, \"stateEnteredEventDetails\": {\"name\": \"Baseline Job\", \"input\": \"{\\\"ExperimentName\\\":\\\"mlops-modelexample\\\",\\\"TrialName\\\":\\\"mlops-modelexample-18714106-0eaa-48ad-924d-804c7a5b6392\\\",\\\"GitBranch\\\":\\\"master\\\",\\\"GitCommitHash\\\":\\\"58dd0d5bfdbb539684995d305bdce97f60be7104\\\",\\\"DataVersionId\\\":\\\"xDfDaEeQi3UeIsDlhKsD7jA8qMtvREhI\\\",\\\"BaselineJobName\\\":\\\"mlops-modelexample-pbl-18714106-0eaa-48ad-924d-804c7a5b6392\\\",\\\"BaselineOutputUri\\\":\\\"s3://sagemaker-eu-west-1-342965497847/modelexample/monitoring/baseline/mlops-modelexample-pbl-18714106-0eaa-48ad-924d-804c7a5b6392\\\",\\\"TrainingJobName\\\":\\\"mlops-modelexample-18714106-0eaa-48ad-924d-804c7a5b6392\\\",\\\"CreateTrialResults\\\":{\\\"ExecutedVersion\\\":\\\"$LATEST\\\",\\\"Payload\\\":{\\\"statusCode\\\":200,\\\"results\\\":{\\\"ExperimentCreated\\\":true,\\\"TrialCreated\\\":false}},\\\"SdkHttpMetadata\\\":{\\\"AllHttpHeaders\\\":{\\\"X-Amz-Executed-Version\\\":[\\\"$LATEST\\\"],\\\"x-amzn-Remapped-Content-Length\\\":[\\\"0\\\"],\\\"Connection\\\":[\\\"keep-alive\\\"],\\\"x-amzn-RequestId\\\":[\\\"7555adaa-7aab-4f9f-aa4f-e1c6bb06e997\\\"],\\\"Content-Length\\\":[\\\"82\\\"],\\\"Date\\\":[\\\"Fri, 04 Jun 2021 11:57:19 GMT\\\"],\\\"X-Amzn-Trace-Id\\\":[\\\"root=1-60ba151e-1a17c28c3a7bf7a153d9b0bc;sampled=0\\\"],\\\"Content-Type\\\":[\\\"application/json\\\"]},\\\"HttpHeaders\\\":{\\\"Connection\\\":\\\"keep-alive\\\",\\\"Content-Length\\\":\\\"82\\\",\\\"Content-Type\\\":\\\"application/json\\\",\\\"Date\\\":\\\"Fri, 04 Jun 2021 11:57:19 GMT\\\",\\\"X-Amz-Executed-Version\\\":\\\"$LATEST\\\",\\\"x-amzn-Remapped-Content-Length\\\":\\\"0\\\",\\\"x-amzn-RequestId\\\":\\\"7555adaa-7aab-4f9f-aa4f-e1c6bb06e997\\\",\\\"X-Amzn-Trace-Id\\\":\\\"root=1-60ba151e-1a17c28c3a7bf7a153d9b0bc;sampled=0\\\"},\\\"HttpStatusCode\\\":200},\\\"SdkResponseMetadata\\\":{\\\"RequestId\\\":\\\"7555adaa-7aab-4f9f-aa4f-e1c6bb06e997\\\"},\\\"StatusCode\\\":200}}\", \"inputDetails\": {\"truncated\": false}}}, {\"timestamp\": 1622807839.849, \"type\": \"TaskScheduled\", \"id\": 12, \"previousEventId\": 11, \"taskScheduledEventDetails\": {\"resourceType\": \"sagemaker\", \"resource\": \"createProcessingJob.sync\", \"region\": \"eu-west-1\", \"parameters\": \"{\\\"ProcessingInputs\\\":[{\\\"InputName\\\":\\\"baseline_dataset_input\\\",\\\"AppManaged\\\":false,\\\"S3Input\\\":{\\\"S3Uri\\\":\\\"s3://exp01-dev-modelexample-data/modelsplit/v1/data/baseline/baseline.csv\\\",\\\"LocalPath\\\":\\\"/opt/ml/processing/input/baseline_dataset_input\\\",\\\"S3DataType\\\":\\\"S3Prefix\\\",\\\"S3InputMode\\\":\\\"File\\\",\\\"S3DataDistributionType\\\":\\\"FullyReplicated\\\",\\\"S3CompressionType\\\":\\\"None\\\"}}],\\\"ProcessingOutputConfig\\\":{\\\"Outputs\\\":[{\\\"OutputName\\\":\\\"monitoring_output\\\",\\\"AppManaged\\\":false,\\\"S3Output\\\":{\\\"LocalPath\\\":\\\"/opt/ml/processing/output\\\",\\\"S3UploadMode\\\":\\\"EndOfJob\\\",\\\"S3Uri\\\":\\\"s3://sagemaker-eu-west-1-342965497847/modelexample/monitoring/baseline/mlops-modelexample-pbl-18714106-0eaa-48ad-924d-804c7a5b6392\\\"}}]},\\\"AppSpecification\\\":{\\\"ImageUri\\\":\\\"468650794304.dkr.ecr.eu-west-1.amazonaws.com/sagemaker-model-monitor-analyzer\\\"},\\\"RoleArn\\\":\\\"arn:aws:iam::342965497847:role/exp01-dev-modelexample-sagemaker-role\\\",\\\"Environment\\\":{\\\"dataset_format\\\":\\\"{\\\\\\\"csv\\\\\\\": {\\\\\\\"header\\\\\\\": true, \\\\\\\"output_columns_position\\\\\\\": \\\\\\\"START\\\\\\\"}}\\\",\\\"dataset_source\\\":\\\"/opt/ml/processing/input/baseline_dataset_input\\\",\\\"output_path\\\":\\\"/opt/ml/processing/output\\\",\\\"publish_cloudwatch_metrics\\\":\\\"Disabled\\\"},\\\"ProcessingResources\\\":{\\\"ClusterConfig\\\":{\\\"InstanceCount\\\":1,\\\"InstanceType\\\":\\\"ml.m5.xlarge\\\",\\\"VolumeSizeInGB\\\":30}},\\\"StoppingCondition\\\":{\\\"MaxRuntimeInSeconds\\\":1800},\\\"ExperimentConfig\\\":{\\\"TrialComponentDisplayName\\\":\\\"Baseline\\\",\\\"TrialName\\\":\\\"mlops-modelexample-18714106-0eaa-48ad-924d-804c7a5b6392\\\",\\\"ExperimentName\\\":\\\"mlops-modelexample\\\"},\\\"Tags\\\":[{\\\"Key\\\":\\\"MANAGED_BY_AWS\\\",\\\"Value\\\":\\\"STARTED_BY_STEP_FUNCTIONS\\\"},{\\\"Key\\\":\\\"GitBranch\\\",\\\"Value\\\":\\\"master\\\"},{\\\"Key\\\":\\\"GitCommitHash\\\",\\\"Value\\\":\\\"58dd0d5bfdbb539684995d305bdce97f60be7104\\\"},{\\\"Key\\\":\\\"DataVersionId\\\",\\\"Value\\\":\\\"xDfDaEeQi3UeIsDlhKsD7jA8qMtvREhI\\\"}],\\\"ProcessingJobName\\\":\\\"mlops-modelexample-pbl-18714106-0eaa-48ad-924d-804c7a5b6392\\\"}\"}}, {\"timestamp\": 1622807839.877, \"type\": \"TaskStarted\", \"id\": 13, \"previousEventId\": 10, \"taskStartedEventDetails\": {\"resourceType\": \"sagemaker\", \"resource\": \"createTrainingJob.sync\"}}, {\"timestamp\": 1622807839.892, \"type\": \"TaskStarted\", \"id\": 14, \"previousEventId\": 12, \"taskStartedEventDetails\": {\"resourceType\": \"sagemaker\", \"resource\": \"createProcessingJob.sync\"}}, {\"timestamp\": 1622807840.086, \"type\": \"TaskSubmitted\", \"id\": 15, \"previousEventId\": 13, \"taskSubmittedEventDetails\": {\"resourceType\": \"sagemaker\", \"resource\": \"createTrainingJob.sync\", \"output\": \"{\\\"SdkHttpMetadata\\\":{\\\"AllHttpHeaders\\\":{\\\"x-amzn-RequestId\\\":[\\\"7e122a2c-f47c-4759-ac10-b77ec9582ff6\\\"],\\\"Content-Length\\\":[\\\"130\\\"],\\\"Date\\\":[\\\"Fri, 04 Jun 2021 11:57:20 GMT\\\"],\\\"Content-Type\\\":[\\\"application/x-amz-json-1.1\\\"]},\\\"HttpHeaders\\\":{\\\"Content-Length\\\":\\\"130\\\",\\\"Content-Type\\\":\\\"application/x-amz-json-1.1\\\",\\\"Date\\\":\\\"Fri, 04 Jun 2021 11:57:20 GMT\\\",\\\"x-amzn-RequestId\\\":\\\"7e122a2c-f47c-4759-ac10-b77ec9582ff6\\\"},\\\"HttpStatusCode\\\":200},\\\"SdkResponseMetadata\\\":{\\\"RequestId\\\":\\\"7e122a2c-f47c-4759-ac10-b77ec9582ff6\\\"},\\\"TrainingJobArn\\\":\\\"arn:aws:sagemaker:eu-west-1:342965497847:training-job/mlops-modelexample-18714106-0eaa-48ad-924d-804c7a5b6392\\\"}\", \"outputDetails\": {\"truncated\": false}}}, {\"timestamp\": 1622807840.095, \"type\": \"TaskSubmitted\", \"id\": 16, \"previousEventId\": 14, \"taskSubmittedEventDetails\": {\"resourceType\": \"sagemaker\", \"resource\": \"createProcessingJob.sync\", \"output\": \"{\\\"ProcessingJobArn\\\":\\\"arn:aws:sagemaker:eu-west-1:342965497847:processing-job/mlops-modelexample-pbl-18714106-0eaa-48ad-924d-804c7a5b6392\\\",\\\"SdkHttpMetadata\\\":{\\\"AllHttpHeaders\\\":{\\\"x-amzn-RequestId\\\":[\\\"403ebffd-2d67-46b7-b530-e584be2d0fd6\\\"],\\\"Content-Length\\\":[\\\"138\\\"],\\\"Date\\\":[\\\"Fri, 04 Jun 2021 11:57:19 GMT\\\"],\\\"Content-Type\\\":[\\\"application/x-amz-json-1.1\\\"]},\\\"HttpHeaders\\\":{\\\"Content-Length\\\":\\\"138\\\",\\\"Content-Type\\\":\\\"application/x-amz-json-1.1\\\",\\\"Date\\\":\\\"Fri, 04 Jun 2021 11:57:19 GMT\\\",\\\"x-amzn-RequestId\\\":\\\"403ebffd-2d67-46b7-b530-e584be2d0fd6\\\"},\\\"HttpStatusCode\\\":200},\\\"SdkResponseMetadata\\\":{\\\"RequestId\\\":\\\"403ebffd-2d67-46b7-b530-e584be2d0fd6\\\"}}\", \"outputDetails\": {\"truncated\": false}}}, {\"timestamp\": 1622808050.056, \"type\": \"TaskSucceeded\", \"id\": 17, \"previousEventId\": 15, \"taskSucceededEventDetails\": {\"resourceType\": \"sagemaker\", \"resource\": \"createTrainingJob.sync\", \"output\": \"{\\\"TrainingJobName\\\":\\\"mlops-modelexample-18714106-0eaa-48ad-924d-804c7a5b6392\\\",\\\"TrainingJobArn\\\":\\\"arn:aws:sagemaker:eu-west-1:342965497847:training-job/mlops-modelexample-18714106-0eaa-48ad-924d-804c7a5b6392\\\",\\\"ModelArtifacts\\\":{\\\"S3ModelArtifacts\\\":\\\"s3://sagemaker-eu-west-1-342965497847/modelexample/mlops-modelexample-18714106-0eaa-48ad-924d-804c7a5b6392/output/model.tar.gz\\\"},\\\"TrainingJobStatus\\\":\\\"Completed\\\",\\\"SecondaryStatus\\\":\\\"Completed\\\",\\\"HyperParameters\\\":{\\\"eta\\\":\\\"0.2\\\",\\\"max_depth\\\":\\\"9\\\",\\\"early_stopping_rounds\\\":\\\"10\\\",\\\"num_round\\\":\\\"50\\\",\\\"subsample\\\":\\\"0.8\\\",\\\"gamma\\\":\\\"4\\\",\\\"min_child_weight\\\":\\\"300\\\",\\\"objective\\\":\\\"reg:linear\\\"},\\\"AlgorithmSpecification\\\":{\\\"TrainingImage\\\":\\\"685385470294.dkr.ecr.eu-west-1.amazonaws.com/xgboost:latest\\\",\\\"TrainingInputMode\\\":\\\"FILE\\\"},\\\"RoleArn\\\":\\\"arn:aws:iam::342965497847:role/exp01-dev-modelexample-sagemaker-role\\\",\\\"InputDataConfig\\\":[{\\\"ChannelName\\\":\\\"train\\\",\\\"DataSource\\\":{\\\"S3DataSource\\\":{\\\"S3DataType\\\":\\\"S3_PREFIX\\\",\\\"S3Uri\\\":\\\"s3://exp01-dev-modelexample-data/modelsplit/v1/data/training/train.csv\\\",\\\"S3DataDistributionType\\\":\\\"FULLY_REPLICATED\\\"}},\\\"ContentType\\\":\\\"csv\\\",\\\"CompressionType\\\":\\\"NONE\\\",\\\"RecordWrapperType\\\":\\\"NONE\\\"},{\\\"ChannelName\\\":\\\"validation\\\",\\\"DataSource\\\":{\\\"S3DataSource\\\":{\\\"S3DataType\\\":\\\"S3_PREFIX\\\",\\\"S3Uri\\\":\\\"s3://exp01-dev-modelexample-data/modelsplit/v1/data/validation/validation.csv\\\",\\\"S3DataDistributionType\\\":\\\"FULLY_REPLICATED\\\"}},\\\"ContentType\\\":\\\"csv\\\",\\\"CompressionType\\\":\\\"NONE\\\",\\\"RecordWrapperType\\\":\\\"NONE\\\"}],\\\"OutputDataConfig\\\":{\\\"S3OutputPath\\\":\\\"s3://sagemaker-eu-west-1-342965497847/modelexample\\\"},\\\"ResourceConfig\\\":{\\\"InstanceType\\\":\\\"ml.m4.xlarge\\\",\\\"InstanceCount\\\":1.0,\\\"VolumeSizeInGB\\\":30.0},\\\"StoppingCondition\\\":{\\\"MaxRuntimeInSeconds\\\":86400.0},\\\"CreationTime\\\":1.622807840058E12,\\\"TrainingStartTime\\\":1.6228079771E12,\\\"TrainingEndTime\\\":1.622808045679E12,\\\"LastModifiedTime\\\":1.622808045679E12,\\\"SecondaryStatusTransitions\\\":[{\\\"Status\\\":\\\"Starting\\\",\\\"StartTime\\\":1.622807840058E12,\\\"EndTime\\\":1.6228079771E12,\\\"StatusMessage\\\":\\\"Preparing the instances for training\\\"},{\\\"Status\\\":\\\"Downloading\\\",\\\"StartTime\\\":1.6228079771E12,\\\"EndTime\\\":1.622808006819E12,\\\"StatusMessage\\\":\\\"Downloading input data\\\"},{\\\"Status\\\":\\\"Training\\\",\\\"StartTime\\\":1.622808006819E12,\\\"EndTime\\\":1.62280803863E12,\\\"StatusMessage\\\":\\\"Training image download completed. Training in progress.\\\"},{\\\"Status\\\":\\\"Uploading\\\",\\\"StartTime\\\":1.62280803863E12,\\\"EndTime\\\":1.622808045679E12,\\\"StatusMessage\\\":\\\"Uploading generated training model\\\"},{\\\"Status\\\":\\\"Completed\\\",\\\"StartTime\\\":1.622808045679E12,\\\"EndTime\\\":1.622808045679E12,\\\"StatusMessage\\\":\\\"Training job completed\\\"}],\\\"Tags\\\":{\\\"GitBranch\\\":\\\"master\\\",\\\"MANAGED_BY_AWS\\\":\\\"STARTED_BY_STEP_FUNCTIONS\\\",\\\"DataVersionId\\\":\\\"xDfDaEeQi3UeIsDlhKsD7jA8qMtvREhI\\\",\\\"GitCommitHash\\\":\\\"58dd0d5bfdbb539684995d305bdce97f60be7104\\\",\\\"AWS_STEP_FUNCTIONS_EXECUTION_ARN\\\":\\\"arn:aws:states:eu-west-1:342965497847:execution:modelexample:ba075952-5fcd-4d7e-b31a-08dd199f2264\\\"}}\", \"outputDetails\": {\"truncated\": false}}}, {\"timestamp\": 1622808050.056, \"type\": \"TaskStateExited\", \"id\": 18, \"previousEventId\": 17, \"stateExitedEventDetails\": {\"name\": \"Training Job\", \"output\": \"{\\\"ExperimentName\\\":\\\"mlops-modelexample\\\",\\\"TrialName\\\":\\\"mlops-modelexample-18714106-0eaa-48ad-924d-804c7a5b6392\\\",\\\"GitBranch\\\":\\\"master\\\",\\\"GitCommitHash\\\":\\\"58dd0d5bfdbb539684995d305bdce97f60be7104\\\",\\\"DataVersionId\\\":\\\"xDfDaEeQi3UeIsDlhKsD7jA8qMtvREhI\\\",\\\"BaselineJobName\\\":\\\"mlops-modelexample-pbl-18714106-0eaa-48ad-924d-804c7a5b6392\\\",\\\"BaselineOutputUri\\\":\\\"s3://sagemaker-eu-west-1-342965497847/modelexample/monitoring/baseline/mlops-modelexample-pbl-18714106-0eaa-48ad-924d-804c7a5b6392\\\",\\\"TrainingJobName\\\":\\\"mlops-modelexample-18714106-0eaa-48ad-924d-804c7a5b6392\\\",\\\"CreateTrialResults\\\":{\\\"ExecutedVersion\\\":\\\"$LATEST\\\",\\\"Payload\\\":{\\\"statusCode\\\":200,\\\"results\\\":{\\\"ExperimentCreated\\\":true,\\\"TrialCreated\\\":false}},\\\"SdkHttpMetadata\\\":{\\\"AllHttpHeaders\\\":{\\\"X-Amz-Executed-Version\\\":[\\\"$LATEST\\\"],\\\"x-amzn-Remapped-Content-Length\\\":[\\\"0\\\"],\\\"Connection\\\":[\\\"keep-alive\\\"],\\\"x-amzn-RequestId\\\":[\\\"7555adaa-7aab-4f9f-aa4f-e1c6bb06e997\\\"],\\\"Content-Length\\\":[\\\"82\\\"],\\\"Date\\\":[\\\"Fri, 04 Jun 2021 11:57:19 GMT\\\"],\\\"X-Amzn-Trace-Id\\\":[\\\"root=1-60ba151e-1a17c28c3a7bf7a153d9b0bc;sampled=0\\\"],\\\"Content-Type\\\":[\\\"application/json\\\"]},\\\"HttpHeaders\\\":{\\\"Connection\\\":\\\"keep-alive\\\",\\\"Content-Length\\\":\\\"82\\\",\\\"Content-Type\\\":\\\"application/json\\\",\\\"Date\\\":\\\"Fri, 04 Jun 2021 11:57:19 GMT\\\",\\\"X-Amz-Executed-Version\\\":\\\"$LATEST\\\",\\\"x-amzn-Remapped-Content-Length\\\":\\\"0\\\",\\\"x-amzn-RequestId\\\":\\\"7555adaa-7aab-4f9f-aa4f-e1c6bb06e997\\\",\\\"X-Amzn-Trace-Id\\\":\\\"root=1-60ba151e-1a17c28c3a7bf7a153d9b0bc;sampled=0\\\"},\\\"HttpStatusCode\\\":200},\\\"SdkResponseMetadata\\\":{\\\"RequestId\\\":\\\"7555adaa-7aab-4f9f-aa4f-e1c6bb06e997\\\"},\\\"StatusCode\\\":200},\\\"TrainingResults\\\":{\\\"TrainingJobName\\\":\\\"mlops-modelexample-18714106-0eaa-48ad-924d-804c7a5b6392\\\",\\\"TrainingJobArn\\\":\\\"arn:aws:sagemaker:eu-west-1:342965497847:training-job/mlops-modelexample-18714106-0eaa-48ad-924d-804c7a5b6392\\\",\\\"ModelArtifacts\\\":{\\\"S3ModelArtifacts\\\":\\\"s3://sagemaker-eu-west-1-342965497847/modelexample/mlops-modelexample-18714106-0eaa-48ad-924d-804c7a5b6392/output/model.tar.gz\\\"},\\\"TrainingJobStatus\\\":\\\"Completed\\\",\\\"SecondaryStatus\\\":\\\"Completed\\\",\\\"HyperParameters\\\":{\\\"eta\\\":\\\"0.2\\\",\\\"max_depth\\\":\\\"9\\\",\\\"early_stopping_rounds\\\":\\\"10\\\",\\\"num_round\\\":\\\"50\\\",\\\"subsample\\\":\\\"0.8\\\",\\\"gamma\\\":\\\"4\\\",\\\"min_child_weight\\\":\\\"300\\\",\\\"objective\\\":\\\"reg:linear\\\"},\\\"AlgorithmSpecification\\\":{\\\"TrainingImage\\\":\\\"685385470294.dkr.ecr.eu-west-1.amazonaws.com/xgboost:latest\\\",\\\"TrainingInputMode\\\":\\\"FILE\\\"},\\\"RoleArn\\\":\\\"arn:aws:iam::342965497847:role/exp01-dev-modelexample-sagemaker-role\\\",\\\"InputDataConfig\\\":[{\\\"ChannelName\\\":\\\"train\\\",\\\"DataSource\\\":{\\\"S3DataSource\\\":{\\\"S3DataType\\\":\\\"S3_PREFIX\\\",\\\"S3Uri\\\":\\\"s3://exp01-dev-modelexample-data/modelsplit/v1/data/training/train.csv\\\",\\\"S3DataDistributionType\\\":\\\"FULLY_REPLICATED\\\"}},\\\"ContentType\\\":\\\"csv\\\",\\\"CompressionType\\\":\\\"NONE\\\",\\\"RecordWrapperType\\\":\\\"NONE\\\"},{\\\"ChannelName\\\":\\\"validation\\\",\\\"DataSource\\\":{\\\"S3DataSource\\\":{\\\"S3DataType\\\":\\\"S3_PREFIX\\\",\\\"S3Uri\\\":\\\"s3://exp01-dev-modelexample-data/modelsplit/v1/data/validation/validation.csv\\\",\\\"S3DataDistributionType\\\":\\\"FULLY_REPLICATED\\\"}},\\\"ContentType\\\":\\\"csv\\\",\\\"CompressionType\\\":\\\"NONE\\\",\\\"RecordWrapperType\\\":\\\"NONE\\\"}],\\\"OutputDataConfig\\\":{\\\"S3OutputPath\\\":\\\"s3://sagemaker-eu-west-1-342965497847/modelexample\\\"},\\\"ResourceConfig\\\":{\\\"InstanceType\\\":\\\"ml.m4.xlarge\\\",\\\"InstanceCount\\\":1.0,\\\"VolumeSizeInGB\\\":30.0},\\\"StoppingCondition\\\":{\\\"MaxRuntimeInSeconds\\\":86400.0},\\\"CreationTime\\\":1.622807840058E12,\\\"TrainingStartTime\\\":1.6228079771E12,\\\"TrainingEndTime\\\":1.622808045679E12,\\\"LastModifiedTime\\\":1.622808045679E12,\\\"SecondaryStatusTransitions\\\":[{\\\"Status\\\":\\\"Starting\\\",\\\"StartTime\\\":1.622807840058E12,\\\"EndTime\\\":1.6228079771E12,\\\"StatusMessage\\\":\\\"Preparing the instances for training\\\"},{\\\"Status\\\":\\\"Downloading\\\",\\\"StartTime\\\":1.6228079771E12,\\\"EndTime\\\":1.622808006819E12,\\\"StatusMessage\\\":\\\"Downloading input data\\\"},{\\\"Status\\\":\\\"Training\\\",\\\"StartTime\\\":1.622808006819E12,\\\"EndTime\\\":1.62280803863E12,\\\"StatusMessage\\\":\\\"Training image download completed. Training in progress.\\\"},{\\\"Status\\\":\\\"Uploading\\\",\\\"StartTime\\\":1.62280803863E12,\\\"EndTime\\\":1.622808045679E12,\\\"StatusMessage\\\":\\\"Uploading generated training model\\\"},{\\\"Status\\\":\\\"Completed\\\",\\\"StartTime\\\":1.622808045679E12,\\\"EndTime\\\":1.622808045679E12,\\\"StatusMessage\\\":\\\"Training job completed\\\"}],\\\"Tags\\\":{\\\"GitBranch\\\":\\\"master\\\",\\\"MANAGED_BY_AWS\\\":\\\"STARTED_BY_STEP_FUNCTIONS\\\",\\\"DataVersionId\\\":\\\"xDfDaEeQi3UeIsDlhKsD7jA8qMtvREhI\\\",\\\"GitCommitHash\\\":\\\"58dd0d5bfdbb539684995d305bdce97f60be7104\\\",\\\"AWS_STEP_FUNCTIONS_EXECUTION_ARN\\\":\\\"arn:aws:states:eu-west-1:342965497847:execution:modelexample:ba075952-5fcd-4d7e-b31a-08dd199f2264\\\"}}}\", \"outputDetails\": {\"truncated\": false}}}, {\"timestamp\": 1622808050.062, \"type\": \"TaskStateEntered\", \"id\": 19, \"previousEventId\": 18, \"stateEnteredEventDetails\": {\"name\": \"Save Model\", \"input\": \"{\\\"ExperimentName\\\":\\\"mlops-modelexample\\\",\\\"TrialName\\\":\\\"mlops-modelexample-18714106-0eaa-48ad-924d-804c7a5b6392\\\",\\\"GitBranch\\\":\\\"master\\\",\\\"GitCommitHash\\\":\\\"58dd0d5bfdbb539684995d305bdce97f60be7104\\\",\\\"DataVersionId\\\":\\\"xDfDaEeQi3UeIsDlhKsD7jA8qMtvREhI\\\",\\\"BaselineJobName\\\":\\\"mlops-modelexample-pbl-18714106-0eaa-48ad-924d-804c7a5b6392\\\",\\\"BaselineOutputUri\\\":\\\"s3://sagemaker-eu-west-1-342965497847/modelexample/monitoring/baseline/mlops-modelexample-pbl-18714106-0eaa-48ad-924d-804c7a5b6392\\\",\\\"TrainingJobName\\\":\\\"mlops-modelexample-18714106-0eaa-48ad-924d-804c7a5b6392\\\",\\\"CreateTrialResults\\\":{\\\"ExecutedVersion\\\":\\\"$LATEST\\\",\\\"Payload\\\":{\\\"statusCode\\\":200,\\\"results\\\":{\\\"ExperimentCreated\\\":true,\\\"TrialCreated\\\":false}},\\\"SdkHttpMetadata\\\":{\\\"AllHttpHeaders\\\":{\\\"X-Amz-Executed-Version\\\":[\\\"$LATEST\\\"],\\\"x-amzn-Remapped-Content-Length\\\":[\\\"0\\\"],\\\"Connection\\\":[\\\"keep-alive\\\"],\\\"x-amzn-RequestId\\\":[\\\"7555adaa-7aab-4f9f-aa4f-e1c6bb06e997\\\"],\\\"Content-Length\\\":[\\\"82\\\"],\\\"Date\\\":[\\\"Fri, 04 Jun 2021 11:57:19 GMT\\\"],\\\"X-Amzn-Trace-Id\\\":[\\\"root=1-60ba151e-1a17c28c3a7bf7a153d9b0bc;sampled=0\\\"],\\\"Content-Type\\\":[\\\"application/json\\\"]},\\\"HttpHeaders\\\":{\\\"Connection\\\":\\\"keep-alive\\\",\\\"Content-Length\\\":\\\"82\\\",\\\"Content-Type\\\":\\\"application/json\\\",\\\"Date\\\":\\\"Fri, 04 Jun 2021 11:57:19 GMT\\\",\\\"X-Amz-Executed-Version\\\":\\\"$LATEST\\\",\\\"x-amzn-Remapped-Content-Length\\\":\\\"0\\\",\\\"x-amzn-RequestId\\\":\\\"7555adaa-7aab-4f9f-aa4f-e1c6bb06e997\\\",\\\"X-Amzn-Trace-Id\\\":\\\"root=1-60ba151e-1a17c28c3a7bf7a153d9b0bc;sampled=0\\\"},\\\"HttpStatusCode\\\":200},\\\"SdkResponseMetadata\\\":{\\\"RequestId\\\":\\\"7555adaa-7aab-4f9f-aa4f-e1c6bb06e997\\\"},\\\"StatusCode\\\":200},\\\"TrainingResults\\\":{\\\"TrainingJobName\\\":\\\"mlops-modelexample-18714106-0eaa-48ad-924d-804c7a5b6392\\\",\\\"TrainingJobArn\\\":\\\"arn:aws:sagemaker:eu-west-1:342965497847:training-job/mlops-modelexample-18714106-0eaa-48ad-924d-804c7a5b6392\\\",\\\"ModelArtifacts\\\":{\\\"S3ModelArtifacts\\\":\\\"s3://sagemaker-eu-west-1-342965497847/modelexample/mlops-modelexample-18714106-0eaa-48ad-924d-804c7a5b6392/output/model.tar.gz\\\"},\\\"TrainingJobStatus\\\":\\\"Completed\\\",\\\"SecondaryStatus\\\":\\\"Completed\\\",\\\"HyperParameters\\\":{\\\"eta\\\":\\\"0.2\\\",\\\"max_depth\\\":\\\"9\\\",\\\"early_stopping_rounds\\\":\\\"10\\\",\\\"num_round\\\":\\\"50\\\",\\\"subsample\\\":\\\"0.8\\\",\\\"gamma\\\":\\\"4\\\",\\\"min_child_weight\\\":\\\"300\\\",\\\"objective\\\":\\\"reg:linear\\\"},\\\"AlgorithmSpecification\\\":{\\\"TrainingImage\\\":\\\"685385470294.dkr.ecr.eu-west-1.amazonaws.com/xgboost:latest\\\",\\\"TrainingInputMode\\\":\\\"FILE\\\"},\\\"RoleArn\\\":\\\"arn:aws:iam::342965497847:role/exp01-dev-modelexample-sagemaker-role\\\",\\\"InputDataConfig\\\":[{\\\"ChannelName\\\":\\\"train\\\",\\\"DataSource\\\":{\\\"S3DataSource\\\":{\\\"S3DataType\\\":\\\"S3_PREFIX\\\",\\\"S3Uri\\\":\\\"s3://exp01-dev-modelexample-data/modelsplit/v1/data/training/train.csv\\\",\\\"S3DataDistributionType\\\":\\\"FULLY_REPLICATED\\\"}},\\\"ContentType\\\":\\\"csv\\\",\\\"CompressionType\\\":\\\"NONE\\\",\\\"RecordWrapperType\\\":\\\"NONE\\\"},{\\\"ChannelName\\\":\\\"validation\\\",\\\"DataSource\\\":{\\\"S3DataSource\\\":{\\\"S3DataType\\\":\\\"S3_PREFIX\\\",\\\"S3Uri\\\":\\\"s3://exp01-dev-modelexample-data/modelsplit/v1/data/validation/validation.csv\\\",\\\"S3DataDistributionType\\\":\\\"FULLY_REPLICATED\\\"}},\\\"ContentType\\\":\\\"csv\\\",\\\"CompressionType\\\":\\\"NONE\\\",\\\"RecordWrapperType\\\":\\\"NONE\\\"}],\\\"OutputDataConfig\\\":{\\\"S3OutputPath\\\":\\\"s3://sagemaker-eu-west-1-342965497847/modelexample\\\"},\\\"ResourceConfig\\\":{\\\"InstanceType\\\":\\\"ml.m4.xlarge\\\",\\\"InstanceCount\\\":1.0,\\\"VolumeSizeInGB\\\":30.0},\\\"StoppingCondition\\\":{\\\"MaxRuntimeInSeconds\\\":86400.0},\\\"CreationTime\\\":1.622807840058E12,\\\"TrainingStartTime\\\":1.6228079771E12,\\\"TrainingEndTime\\\":1.622808045679E12,\\\"LastModifiedTime\\\":1.622808045679E12,\\\"SecondaryStatusTransitions\\\":[{\\\"Status\\\":\\\"Starting\\\",\\\"StartTime\\\":1.622807840058E12,\\\"EndTime\\\":1.6228079771E12,\\\"StatusMessage\\\":\\\"Preparing the instances for training\\\"},{\\\"Status\\\":\\\"Downloading\\\",\\\"StartTime\\\":1.6228079771E12,\\\"EndTime\\\":1.622808006819E12,\\\"StatusMessage\\\":\\\"Downloading input data\\\"},{\\\"Status\\\":\\\"Training\\\",\\\"StartTime\\\":1.622808006819E12,\\\"EndTime\\\":1.62280803863E12,\\\"StatusMessage\\\":\\\"Training image download completed. Training in progress.\\\"},{\\\"Status\\\":\\\"Uploading\\\",\\\"StartTime\\\":1.62280803863E12,\\\"EndTime\\\":1.622808045679E12,\\\"StatusMessage\\\":\\\"Uploading generated training model\\\"},{\\\"Status\\\":\\\"Completed\\\",\\\"StartTime\\\":1.622808045679E12,\\\"EndTime\\\":1.622808045679E12,\\\"StatusMessage\\\":\\\"Training job completed\\\"}],\\\"Tags\\\":{\\\"GitBranch\\\":\\\"master\\\",\\\"MANAGED_BY_AWS\\\":\\\"STARTED_BY_STEP_FUNCTIONS\\\",\\\"DataVersionId\\\":\\\"xDfDaEeQi3UeIsDlhKsD7jA8qMtvREhI\\\",\\\"GitCommitHash\\\":\\\"58dd0d5bfdbb539684995d305bdce97f60be7104\\\",\\\"AWS_STEP_FUNCTIONS_EXECUTION_ARN\\\":\\\"arn:aws:states:eu-west-1:342965497847:execution:modelexample:ba075952-5fcd-4d7e-b31a-08dd199f2264\\\"}}}\", \"inputDetails\": {\"truncated\": false}}}, {\"timestamp\": 1622808050.062, \"type\": \"TaskScheduled\", \"id\": 20, \"previousEventId\": 19, \"taskScheduledEventDetails\": {\"resourceType\": \"sagemaker\", \"resource\": \"createModel\", \"region\": \"eu-west-1\", \"parameters\": \"{\\\"ExecutionRoleArn\\\":\\\"arn:aws:iam::342965497847:role/exp01-dev-modelexample-sagemaker-role\\\",\\\"PrimaryContainer\\\":{\\\"Environment\\\":{},\\\"Image\\\":\\\"685385470294.dkr.ecr.eu-west-1.amazonaws.com/xgboost:latest\\\",\\\"ModelDataUrl\\\":\\\"s3://sagemaker-eu-west-1-342965497847/modelexample/mlops-modelexample-18714106-0eaa-48ad-924d-804c7a5b6392/output/model.tar.gz\\\"},\\\"ModelName\\\":\\\"mlops-modelexample-18714106-0eaa-48ad-924d-804c7a5b6392\\\"}\"}}, {\"timestamp\": 1622808050.073, \"type\": \"TaskStarted\", \"id\": 21, \"previousEventId\": 20, \"taskStartedEventDetails\": {\"resourceType\": \"sagemaker\", \"resource\": \"createModel\"}}, {\"timestamp\": 1622808050.523, \"type\": \"TaskSucceeded\", \"id\": 22, \"previousEventId\": 21, \"taskSucceededEventDetails\": {\"resourceType\": \"sagemaker\", \"resource\": \"createModel\", \"output\": \"{\\\"ModelArn\\\":\\\"arn:aws:sagemaker:eu-west-1:342965497847:model/mlops-modelexample-18714106-0eaa-48ad-924d-804c7a5b6392\\\",\\\"SdkHttpMetadata\\\":{\\\"AllHttpHeaders\\\":{\\\"x-amzn-RequestId\\\":[\\\"b62ac0e6-3e11-45fe-ba4a-8345c6259b14\\\"],\\\"Content-Length\\\":[\\\"117\\\"],\\\"Date\\\":[\\\"Fri, 04 Jun 2021 12:00:50 GMT\\\"],\\\"Content-Type\\\":[\\\"application/x-amz-json-1.1\\\"]},\\\"HttpHeaders\\\":{\\\"Content-Length\\\":\\\"117\\\",\\\"Content-Type\\\":\\\"application/x-amz-json-1.1\\\",\\\"Date\\\":\\\"Fri, 04 Jun 2021 12:00:50 GMT\\\",\\\"x-amzn-RequestId\\\":\\\"b62ac0e6-3e11-45fe-ba4a-8345c6259b14\\\"},\\\"HttpStatusCode\\\":200},\\\"SdkResponseMetadata\\\":{\\\"RequestId\\\":\\\"b62ac0e6-3e11-45fe-ba4a-8345c6259b14\\\"}}\", \"outputDetails\": {\"truncated\": false}}}, {\"timestamp\": 1622808050.523, \"type\": \"TaskStateExited\", \"id\": 23, \"previousEventId\": 22, \"stateExitedEventDetails\": {\"name\": \"Save Model\", \"output\": \"{\\\"ExperimentName\\\":\\\"mlops-modelexample\\\",\\\"TrialName\\\":\\\"mlops-modelexample-18714106-0eaa-48ad-924d-804c7a5b6392\\\",\\\"GitBranch\\\":\\\"master\\\",\\\"GitCommitHash\\\":\\\"58dd0d5bfdbb539684995d305bdce97f60be7104\\\",\\\"DataVersionId\\\":\\\"xDfDaEeQi3UeIsDlhKsD7jA8qMtvREhI\\\",\\\"BaselineJobName\\\":\\\"mlops-modelexample-pbl-18714106-0eaa-48ad-924d-804c7a5b6392\\\",\\\"BaselineOutputUri\\\":\\\"s3://sagemaker-eu-west-1-342965497847/modelexample/monitoring/baseline/mlops-modelexample-pbl-18714106-0eaa-48ad-924d-804c7a5b6392\\\",\\\"TrainingJobName\\\":\\\"mlops-modelexample-18714106-0eaa-48ad-924d-804c7a5b6392\\\",\\\"CreateTrialResults\\\":{\\\"ExecutedVersion\\\":\\\"$LATEST\\\",\\\"Payload\\\":{\\\"statusCode\\\":200,\\\"results\\\":{\\\"ExperimentCreated\\\":true,\\\"TrialCreated\\\":false}},\\\"SdkHttpMetadata\\\":{\\\"AllHttpHeaders\\\":{\\\"X-Amz-Executed-Version\\\":[\\\"$LATEST\\\"],\\\"x-amzn-Remapped-Content-Length\\\":[\\\"0\\\"],\\\"Connection\\\":[\\\"keep-alive\\\"],\\\"x-amzn-RequestId\\\":[\\\"7555adaa-7aab-4f9f-aa4f-e1c6bb06e997\\\"],\\\"Content-Length\\\":[\\\"82\\\"],\\\"Date\\\":[\\\"Fri, 04 Jun 2021 11:57:19 GMT\\\"],\\\"X-Amzn-Trace-Id\\\":[\\\"root=1-60ba151e-1a17c28c3a7bf7a153d9b0bc;sampled=0\\\"],\\\"Content-Type\\\":[\\\"application/json\\\"]},\\\"HttpHeaders\\\":{\\\"Connection\\\":\\\"keep-alive\\\",\\\"Content-Length\\\":\\\"82\\\",\\\"Content-Type\\\":\\\"application/json\\\",\\\"Date\\\":\\\"Fri, 04 Jun 2021 11:57:19 GMT\\\",\\\"X-Amz-Executed-Version\\\":\\\"$LATEST\\\",\\\"x-amzn-Remapped-Content-Length\\\":\\\"0\\\",\\\"x-amzn-RequestId\\\":\\\"7555adaa-7aab-4f9f-aa4f-e1c6bb06e997\\\",\\\"X-Amzn-Trace-Id\\\":\\\"root=1-60ba151e-1a17c28c3a7bf7a153d9b0bc;sampled=0\\\"},\\\"HttpStatusCode\\\":200},\\\"SdkResponseMetadata\\\":{\\\"RequestId\\\":\\\"7555adaa-7aab-4f9f-aa4f-e1c6bb06e997\\\"},\\\"StatusCode\\\":200},\\\"TrainingResults\\\":{\\\"TrainingJobName\\\":\\\"mlops-modelexample-18714106-0eaa-48ad-924d-804c7a5b6392\\\",\\\"TrainingJobArn\\\":\\\"arn:aws:sagemaker:eu-west-1:342965497847:training-job/mlops-modelexample-18714106-0eaa-48ad-924d-804c7a5b6392\\\",\\\"ModelArtifacts\\\":{\\\"S3ModelArtifacts\\\":\\\"s3://sagemaker-eu-west-1-342965497847/modelexample/mlops-modelexample-18714106-0eaa-48ad-924d-804c7a5b6392/output/model.tar.gz\\\"},\\\"TrainingJobStatus\\\":\\\"Completed\\\",\\\"SecondaryStatus\\\":\\\"Completed\\\",\\\"HyperParameters\\\":{\\\"eta\\\":\\\"0.2\\\",\\\"max_depth\\\":\\\"9\\\",\\\"early_stopping_rounds\\\":\\\"10\\\",\\\"num_round\\\":\\\"50\\\",\\\"subsample\\\":\\\"0.8\\\",\\\"gamma\\\":\\\"4\\\",\\\"min_child_weight\\\":\\\"300\\\",\\\"objective\\\":\\\"reg:linear\\\"},\\\"AlgorithmSpecification\\\":{\\\"TrainingImage\\\":\\\"685385470294.dkr.ecr.eu-west-1.amazonaws.com/xgboost:latest\\\",\\\"TrainingInputMode\\\":\\\"FILE\\\"},\\\"RoleArn\\\":\\\"arn:aws:iam::342965497847:role/exp01-dev-modelexample-sagemaker-role\\\",\\\"InputDataConfig\\\":[{\\\"ChannelName\\\":\\\"train\\\",\\\"DataSource\\\":{\\\"S3DataSource\\\":{\\\"S3DataType\\\":\\\"S3_PREFIX\\\",\\\"S3Uri\\\":\\\"s3://exp01-dev-modelexample-data/modelsplit/v1/data/training/train.csv\\\",\\\"S3DataDistributionType\\\":\\\"FULLY_REPLICATED\\\"}},\\\"ContentType\\\":\\\"csv\\\",\\\"CompressionType\\\":\\\"NONE\\\",\\\"RecordWrapperType\\\":\\\"NONE\\\"},{\\\"ChannelName\\\":\\\"validation\\\",\\\"DataSource\\\":{\\\"S3DataSource\\\":{\\\"S3DataType\\\":\\\"S3_PREFIX\\\",\\\"S3Uri\\\":\\\"s3://exp01-dev-modelexample-data/modelsplit/v1/data/validation/validation.csv\\\",\\\"S3DataDistributionType\\\":\\\"FULLY_REPLICATED\\\"}},\\\"ContentType\\\":\\\"csv\\\",\\\"CompressionType\\\":\\\"NONE\\\",\\\"RecordWrapperType\\\":\\\"NONE\\\"}],\\\"OutputDataConfig\\\":{\\\"S3OutputPath\\\":\\\"s3://sagemaker-eu-west-1-342965497847/modelexample\\\"},\\\"ResourceConfig\\\":{\\\"InstanceType\\\":\\\"ml.m4.xlarge\\\",\\\"InstanceCount\\\":1.0,\\\"VolumeSizeInGB\\\":30.0},\\\"StoppingCondition\\\":{\\\"MaxRuntimeInSeconds\\\":86400.0},\\\"CreationTime\\\":1.622807840058E12,\\\"TrainingStartTime\\\":1.6228079771E12,\\\"TrainingEndTime\\\":1.622808045679E12,\\\"LastModifiedTime\\\":1.622808045679E12,\\\"SecondaryStatusTransitions\\\":[{\\\"Status\\\":\\\"Starting\\\",\\\"StartTime\\\":1.622807840058E12,\\\"EndTime\\\":1.6228079771E12,\\\"StatusMessage\\\":\\\"Preparing the instances for training\\\"},{\\\"Status\\\":\\\"Downloading\\\",\\\"StartTime\\\":1.6228079771E12,\\\"EndTime\\\":1.622808006819E12,\\\"StatusMessage\\\":\\\"Downloading input data\\\"},{\\\"Status\\\":\\\"Training\\\",\\\"StartTime\\\":1.622808006819E12,\\\"EndTime\\\":1.62280803863E12,\\\"StatusMessage\\\":\\\"Training image download completed. Training in progress.\\\"},{\\\"Status\\\":\\\"Uploading\\\",\\\"StartTime\\\":1.62280803863E12,\\\"EndTime\\\":1.622808045679E12,\\\"StatusMessage\\\":\\\"Uploading generated training model\\\"},{\\\"Status\\\":\\\"Completed\\\",\\\"StartTime\\\":1.622808045679E12,\\\"EndTime\\\":1.622808045679E12,\\\"StatusMessage\\\":\\\"Training job completed\\\"}],\\\"Tags\\\":{\\\"GitBranch\\\":\\\"master\\\",\\\"MANAGED_BY_AWS\\\":\\\"STARTED_BY_STEP_FUNCTIONS\\\",\\\"DataVersionId\\\":\\\"xDfDaEeQi3UeIsDlhKsD7jA8qMtvREhI\\\",\\\"GitCommitHash\\\":\\\"58dd0d5bfdbb539684995d305bdce97f60be7104\\\",\\\"AWS_STEP_FUNCTIONS_EXECUTION_ARN\\\":\\\"arn:aws:states:eu-west-1:342965497847:execution:modelexample:ba075952-5fcd-4d7e-b31a-08dd199f2264\\\"}},\\\"ModelStepResults\\\":{\\\"ModelArn\\\":\\\"arn:aws:sagemaker:eu-west-1:342965497847:model/mlops-modelexample-18714106-0eaa-48ad-924d-804c7a5b6392\\\",\\\"SdkHttpMetadata\\\":{\\\"AllHttpHeaders\\\":{\\\"x-amzn-RequestId\\\":[\\\"b62ac0e6-3e11-45fe-ba4a-8345c6259b14\\\"],\\\"Content-Length\\\":[\\\"117\\\"],\\\"Date\\\":[\\\"Fri, 04 Jun 2021 12:00:50 GMT\\\"],\\\"Content-Type\\\":[\\\"application/x-amz-json-1.1\\\"]},\\\"HttpHeaders\\\":{\\\"Content-Length\\\":\\\"117\\\",\\\"Content-Type\\\":\\\"application/x-amz-json-1.1\\\",\\\"Date\\\":\\\"Fri, 04 Jun 2021 12:00:50 GMT\\\",\\\"x-amzn-RequestId\\\":\\\"b62ac0e6-3e11-45fe-ba4a-8345c6259b14\\\"},\\\"HttpStatusCode\\\":200},\\\"SdkResponseMetadata\\\":{\\\"RequestId\\\":\\\"b62ac0e6-3e11-45fe-ba4a-8345c6259b14\\\"}}}\", \"outputDetails\": {\"truncated\": false}}}, {\"timestamp\": 1622808050.531, \"type\": \"TaskStateEntered\", \"id\": 24, \"previousEventId\": 23, \"stateEnteredEventDetails\": {\"name\": \"Query Training Results\", \"input\": \"{\\\"ExperimentName\\\":\\\"mlops-modelexample\\\",\\\"TrialName\\\":\\\"mlops-modelexample-18714106-0eaa-48ad-924d-804c7a5b6392\\\",\\\"GitBranch\\\":\\\"master\\\",\\\"GitCommitHash\\\":\\\"58dd0d5bfdbb539684995d305bdce97f60be7104\\\",\\\"DataVersionId\\\":\\\"xDfDaEeQi3UeIsDlhKsD7jA8qMtvREhI\\\",\\\"BaselineJobName\\\":\\\"mlops-modelexample-pbl-18714106-0eaa-48ad-924d-804c7a5b6392\\\",\\\"BaselineOutputUri\\\":\\\"s3://sagemaker-eu-west-1-342965497847/modelexample/monitoring/baseline/mlops-modelexample-pbl-18714106-0eaa-48ad-924d-804c7a5b6392\\\",\\\"TrainingJobName\\\":\\\"mlops-modelexample-18714106-0eaa-48ad-924d-804c7a5b6392\\\",\\\"CreateTrialResults\\\":{\\\"ExecutedVersion\\\":\\\"$LATEST\\\",\\\"Payload\\\":{\\\"statusCode\\\":200,\\\"results\\\":{\\\"ExperimentCreated\\\":true,\\\"TrialCreated\\\":false}},\\\"SdkHttpMetadata\\\":{\\\"AllHttpHeaders\\\":{\\\"X-Amz-Executed-Version\\\":[\\\"$LATEST\\\"],\\\"x-amzn-Remapped-Content-Length\\\":[\\\"0\\\"],\\\"Connection\\\":[\\\"keep-alive\\\"],\\\"x-amzn-RequestId\\\":[\\\"7555adaa-7aab-4f9f-aa4f-e1c6bb06e997\\\"],\\\"Content-Length\\\":[\\\"82\\\"],\\\"Date\\\":[\\\"Fri, 04 Jun 2021 11:57:19 GMT\\\"],\\\"X-Amzn-Trace-Id\\\":[\\\"root=1-60ba151e-1a17c28c3a7bf7a153d9b0bc;sampled=0\\\"],\\\"Content-Type\\\":[\\\"application/json\\\"]},\\\"HttpHeaders\\\":{\\\"Connection\\\":\\\"keep-alive\\\",\\\"Content-Length\\\":\\\"82\\\",\\\"Content-Type\\\":\\\"application/json\\\",\\\"Date\\\":\\\"Fri, 04 Jun 2021 11:57:19 GMT\\\",\\\"X-Amz-Executed-Version\\\":\\\"$LATEST\\\",\\\"x-amzn-Remapped-Content-Length\\\":\\\"0\\\",\\\"x-amzn-RequestId\\\":\\\"7555adaa-7aab-4f9f-aa4f-e1c6bb06e997\\\",\\\"X-Amzn-Trace-Id\\\":\\\"root=1-60ba151e-1a17c28c3a7bf7a153d9b0bc;sampled=0\\\"},\\\"HttpStatusCode\\\":200},\\\"SdkResponseMetadata\\\":{\\\"RequestId\\\":\\\"7555adaa-7aab-4f9f-aa4f-e1c6bb06e997\\\"},\\\"StatusCode\\\":200},\\\"TrainingResults\\\":{\\\"TrainingJobName\\\":\\\"mlops-modelexample-18714106-0eaa-48ad-924d-804c7a5b6392\\\",\\\"TrainingJobArn\\\":\\\"arn:aws:sagemaker:eu-west-1:342965497847:training-job/mlops-modelexample-18714106-0eaa-48ad-924d-804c7a5b6392\\\",\\\"ModelArtifacts\\\":{\\\"S3ModelArtifacts\\\":\\\"s3://sagemaker-eu-west-1-342965497847/modelexample/mlops-modelexample-18714106-0eaa-48ad-924d-804c7a5b6392/output/model.tar.gz\\\"},\\\"TrainingJobStatus\\\":\\\"Completed\\\",\\\"SecondaryStatus\\\":\\\"Completed\\\",\\\"HyperParameters\\\":{\\\"eta\\\":\\\"0.2\\\",\\\"max_depth\\\":\\\"9\\\",\\\"early_stopping_rounds\\\":\\\"10\\\",\\\"num_round\\\":\\\"50\\\",\\\"subsample\\\":\\\"0.8\\\",\\\"gamma\\\":\\\"4\\\",\\\"min_child_weight\\\":\\\"300\\\",\\\"objective\\\":\\\"reg:linear\\\"},\\\"AlgorithmSpecification\\\":{\\\"TrainingImage\\\":\\\"685385470294.dkr.ecr.eu-west-1.amazonaws.com/xgboost:latest\\\",\\\"TrainingInputMode\\\":\\\"FILE\\\"},\\\"RoleArn\\\":\\\"arn:aws:iam::342965497847:role/exp01-dev-modelexample-sagemaker-role\\\",\\\"InputDataConfig\\\":[{\\\"ChannelName\\\":\\\"train\\\",\\\"DataSource\\\":{\\\"S3DataSource\\\":{\\\"S3DataType\\\":\\\"S3_PREFIX\\\",\\\"S3Uri\\\":\\\"s3://exp01-dev-modelexample-data/modelsplit/v1/data/training/train.csv\\\",\\\"S3DataDistributionType\\\":\\\"FULLY_REPLICATED\\\"}},\\\"ContentType\\\":\\\"csv\\\",\\\"CompressionType\\\":\\\"NONE\\\",\\\"RecordWrapperType\\\":\\\"NONE\\\"},{\\\"ChannelName\\\":\\\"validation\\\",\\\"DataSource\\\":{\\\"S3DataSource\\\":{\\\"S3DataType\\\":\\\"S3_PREFIX\\\",\\\"S3Uri\\\":\\\"s3://exp01-dev-modelexample-data/modelsplit/v1/data/validation/validation.csv\\\",\\\"S3DataDistributionType\\\":\\\"FULLY_REPLICATED\\\"}},\\\"ContentType\\\":\\\"csv\\\",\\\"CompressionType\\\":\\\"NONE\\\",\\\"RecordWrapperType\\\":\\\"NONE\\\"}],\\\"OutputDataConfig\\\":{\\\"S3OutputPath\\\":\\\"s3://sagemaker-eu-west-1-342965497847/modelexample\\\"},\\\"ResourceConfig\\\":{\\\"InstanceType\\\":\\\"ml.m4.xlarge\\\",\\\"InstanceCount\\\":1.0,\\\"VolumeSizeInGB\\\":30.0},\\\"StoppingCondition\\\":{\\\"MaxRuntimeInSeconds\\\":86400.0},\\\"CreationTime\\\":1.622807840058E12,\\\"TrainingStartTime\\\":1.6228079771E12,\\\"TrainingEndTime\\\":1.622808045679E12,\\\"LastModifiedTime\\\":1.622808045679E12,\\\"SecondaryStatusTransitions\\\":[{\\\"Status\\\":\\\"Starting\\\",\\\"StartTime\\\":1.622807840058E12,\\\"EndTime\\\":1.6228079771E12,\\\"StatusMessage\\\":\\\"Preparing the instances for training\\\"},{\\\"Status\\\":\\\"Downloading\\\",\\\"StartTime\\\":1.6228079771E12,\\\"EndTime\\\":1.622808006819E12,\\\"StatusMessage\\\":\\\"Downloading input data\\\"},{\\\"Status\\\":\\\"Training\\\",\\\"StartTime\\\":1.622808006819E12,\\\"EndTime\\\":1.62280803863E12,\\\"StatusMessage\\\":\\\"Training image download completed. Training in progress.\\\"},{\\\"Status\\\":\\\"Uploading\\\",\\\"StartTime\\\":1.62280803863E12,\\\"EndTime\\\":1.622808045679E12,\\\"StatusMessage\\\":\\\"Uploading generated training model\\\"},{\\\"Status\\\":\\\"Completed\\\",\\\"StartTime\\\":1.622808045679E12,\\\"EndTime\\\":1.622808045679E12,\\\"StatusMessage\\\":\\\"Training job completed\\\"}],\\\"Tags\\\":{\\\"GitBranch\\\":\\\"master\\\",\\\"MANAGED_BY_AWS\\\":\\\"STARTED_BY_STEP_FUNCTIONS\\\",\\\"DataVersionId\\\":\\\"xDfDaEeQi3UeIsDlhKsD7jA8qMtvREhI\\\",\\\"GitCommitHash\\\":\\\"58dd0d5bfdbb539684995d305bdce97f60be7104\\\",\\\"AWS_STEP_FUNCTIONS_EXECUTION_ARN\\\":\\\"arn:aws:states:eu-west-1:342965497847:execution:modelexample:ba075952-5fcd-4d7e-b31a-08dd199f2264\\\"}},\\\"ModelStepResults\\\":{\\\"ModelArn\\\":\\\"arn:aws:sagemaker:eu-west-1:342965497847:model/mlops-modelexample-18714106-0eaa-48ad-924d-804c7a5b6392\\\",\\\"SdkHttpMetadata\\\":{\\\"AllHttpHeaders\\\":{\\\"x-amzn-RequestId\\\":[\\\"b62ac0e6-3e11-45fe-ba4a-8345c6259b14\\\"],\\\"Content-Length\\\":[\\\"117\\\"],\\\"Date\\\":[\\\"Fri, 04 Jun 2021 12:00:50 GMT\\\"],\\\"Content-Type\\\":[\\\"application/x-amz-json-1.1\\\"]},\\\"HttpHeaders\\\":{\\\"Content-Length\\\":\\\"117\\\",\\\"Content-Type\\\":\\\"application/x-amz-json-1.1\\\",\\\"Date\\\":\\\"Fri, 04 Jun 2021 12:00:50 GMT\\\",\\\"x-amzn-RequestId\\\":\\\"b62ac0e6-3e11-45fe-ba4a-8345c6259b14\\\"},\\\"HttpStatusCode\\\":200},\\\"SdkResponseMetadata\\\":{\\\"RequestId\\\":\\\"b62ac0e6-3e11-45fe-ba4a-8345c6259b14\\\"}}}\", \"inputDetails\": {\"truncated\": false}}}, {\"timestamp\": 1622808050.531, \"type\": \"TaskScheduled\", \"id\": 25, \"previousEventId\": 24, \"taskScheduledEventDetails\": {\"resourceType\": \"lambda\", \"resource\": \"invoke\", \"region\": \"eu-west-1\", \"parameters\": \"{\\\"FunctionName\\\":\\\"mlops-query-training\\\",\\\"Payload\\\":{\\\"TrainingJobName\\\":\\\"mlops-modelexample-18714106-0eaa-48ad-924d-804c7a5b6392\\\"}}\"}}, {\"timestamp\": 1622808050.541, \"type\": \"TaskStarted\", \"id\": 26, \"previousEventId\": 25, \"taskStartedEventDetails\": {\"resourceType\": \"lambda\", \"resource\": \"invoke\"}}, {\"timestamp\": 1622808051.621, \"type\": \"TaskSucceeded\", \"id\": 27, \"previousEventId\": 26, \"taskSucceededEventDetails\": {\"resourceType\": \"lambda\", \"resource\": \"invoke\", \"output\": \"{\\\"ExecutedVersion\\\":\\\"$LATEST\\\",\\\"Payload\\\":{\\\"statusCode\\\":200,\\\"results\\\":{\\\"TrainingJobName\\\":\\\"mlops-modelexample-18714106-0eaa-48ad-924d-804c7a5b6392\\\",\\\"TrainingJobStatus\\\":\\\"Completed\\\",\\\"TrainingMetrics\\\":[{\\\"MetricName\\\":\\\"train:rmse\\\",\\\"Value\\\":3.6703100204467773,\\\"Timestamp\\\":1.622808034E9},{\\\"MetricName\\\":\\\"validation:rmse\\\",\\\"Value\\\":3.65408992767334,\\\"Timestamp\\\":1.622808034E9}]}},\\\"SdkHttpMetadata\\\":{\\\"AllHttpHeaders\\\":{\\\"X-Amz-Executed-Version\\\":[\\\"$LATEST\\\"],\\\"x-amzn-Remapped-Content-Length\\\":[\\\"0\\\"],\\\"Connection\\\":[\\\"keep-alive\\\"],\\\"x-amzn-RequestId\\\":[\\\"aecd7326-4461-4636-9db3-0080eb72f992\\\"],\\\"Content-Length\\\":[\\\"340\\\"],\\\"Date\\\":[\\\"Fri, 04 Jun 2021 12:00:51 GMT\\\"],\\\"X-Amzn-Trace-Id\\\":[\\\"root=1-60ba15f2-7c5972d12bf7105373aca10b;sampled=0\\\"],\\\"Content-Type\\\":[\\\"application/json\\\"]},\\\"HttpHeaders\\\":{\\\"Connection\\\":\\\"keep-alive\\\",\\\"Content-Length\\\":\\\"340\\\",\\\"Content-Type\\\":\\\"application/json\\\",\\\"Date\\\":\\\"Fri, 04 Jun 2021 12:00:51 GMT\\\",\\\"X-Amz-Executed-Version\\\":\\\"$LATEST\\\",\\\"x-amzn-Remapped-Content-Length\\\":\\\"0\\\",\\\"x-amzn-RequestId\\\":\\\"aecd7326-4461-4636-9db3-0080eb72f992\\\",\\\"X-Amzn-Trace-Id\\\":\\\"root=1-60ba15f2-7c5972d12bf7105373aca10b;sampled=0\\\"},\\\"HttpStatusCode\\\":200},\\\"SdkResponseMetadata\\\":{\\\"RequestId\\\":\\\"aecd7326-4461-4636-9db3-0080eb72f992\\\"},\\\"StatusCode\\\":200}\", \"outputDetails\": {\"truncated\": false}}}, {\"timestamp\": 1622808051.621, \"type\": \"TaskStateExited\", \"id\": 28, \"previousEventId\": 27, \"stateExitedEventDetails\": {\"name\": \"Query Training Results\", \"output\": \"{\\\"ExperimentName\\\":\\\"mlops-modelexample\\\",\\\"TrialName\\\":\\\"mlops-modelexample-18714106-0eaa-48ad-924d-804c7a5b6392\\\",\\\"GitBranch\\\":\\\"master\\\",\\\"GitCommitHash\\\":\\\"58dd0d5bfdbb539684995d305bdce97f60be7104\\\",\\\"DataVersionId\\\":\\\"xDfDaEeQi3UeIsDlhKsD7jA8qMtvREhI\\\",\\\"BaselineJobName\\\":\\\"mlops-modelexample-pbl-18714106-0eaa-48ad-924d-804c7a5b6392\\\",\\\"BaselineOutputUri\\\":\\\"s3://sagemaker-eu-west-1-342965497847/modelexample/monitoring/baseline/mlops-modelexample-pbl-18714106-0eaa-48ad-924d-804c7a5b6392\\\",\\\"TrainingJobName\\\":\\\"mlops-modelexample-18714106-0eaa-48ad-924d-804c7a5b6392\\\",\\\"CreateTrialResults\\\":{\\\"ExecutedVersion\\\":\\\"$LATEST\\\",\\\"Payload\\\":{\\\"statusCode\\\":200,\\\"results\\\":{\\\"ExperimentCreated\\\":true,\\\"TrialCreated\\\":false}},\\\"SdkHttpMetadata\\\":{\\\"AllHttpHeaders\\\":{\\\"X-Amz-Executed-Version\\\":[\\\"$LATEST\\\"],\\\"x-amzn-Remapped-Content-Length\\\":[\\\"0\\\"],\\\"Connection\\\":[\\\"keep-alive\\\"],\\\"x-amzn-RequestId\\\":[\\\"7555adaa-7aab-4f9f-aa4f-e1c6bb06e997\\\"],\\\"Content-Length\\\":[\\\"82\\\"],\\\"Date\\\":[\\\"Fri, 04 Jun 2021 11:57:19 GMT\\\"],\\\"X-Amzn-Trace-Id\\\":[\\\"root=1-60ba151e-1a17c28c3a7bf7a153d9b0bc;sampled=0\\\"],\\\"Content-Type\\\":[\\\"application/json\\\"]},\\\"HttpHeaders\\\":{\\\"Connection\\\":\\\"keep-alive\\\",\\\"Content-Length\\\":\\\"82\\\",\\\"Content-Type\\\":\\\"application/json\\\",\\\"Date\\\":\\\"Fri, 04 Jun 2021 11:57:19 GMT\\\",\\\"X-Amz-Executed-Version\\\":\\\"$LATEST\\\",\\\"x-amzn-Remapped-Content-Length\\\":\\\"0\\\",\\\"x-amzn-RequestId\\\":\\\"7555adaa-7aab-4f9f-aa4f-e1c6bb06e997\\\",\\\"X-Amzn-Trace-Id\\\":\\\"root=1-60ba151e-1a17c28c3a7bf7a153d9b0bc;sampled=0\\\"},\\\"HttpStatusCode\\\":200},\\\"SdkResponseMetadata\\\":{\\\"RequestId\\\":\\\"7555adaa-7aab-4f9f-aa4f-e1c6bb06e997\\\"},\\\"StatusCode\\\":200},\\\"TrainingResults\\\":{\\\"TrainingJobName\\\":\\\"mlops-modelexample-18714106-0eaa-48ad-924d-804c7a5b6392\\\",\\\"TrainingJobArn\\\":\\\"arn:aws:sagemaker:eu-west-1:342965497847:training-job/mlops-modelexample-18714106-0eaa-48ad-924d-804c7a5b6392\\\",\\\"ModelArtifacts\\\":{\\\"S3ModelArtifacts\\\":\\\"s3://sagemaker-eu-west-1-342965497847/modelexample/mlops-modelexample-18714106-0eaa-48ad-924d-804c7a5b6392/output/model.tar.gz\\\"},\\\"TrainingJobStatus\\\":\\\"Completed\\\",\\\"SecondaryStatus\\\":\\\"Completed\\\",\\\"HyperParameters\\\":{\\\"eta\\\":\\\"0.2\\\",\\\"max_depth\\\":\\\"9\\\",\\\"early_stopping_rounds\\\":\\\"10\\\",\\\"num_round\\\":\\\"50\\\",\\\"subsample\\\":\\\"0.8\\\",\\\"gamma\\\":\\\"4\\\",\\\"min_child_weight\\\":\\\"300\\\",\\\"objective\\\":\\\"reg:linear\\\"},\\\"AlgorithmSpecification\\\":{\\\"TrainingImage\\\":\\\"685385470294.dkr.ecr.eu-west-1.amazonaws.com/xgboost:latest\\\",\\\"TrainingInputMode\\\":\\\"FILE\\\"},\\\"RoleArn\\\":\\\"arn:aws:iam::342965497847:role/exp01-dev-modelexample-sagemaker-role\\\",\\\"InputDataConfig\\\":[{\\\"ChannelName\\\":\\\"train\\\",\\\"DataSource\\\":{\\\"S3DataSource\\\":{\\\"S3DataType\\\":\\\"S3_PREFIX\\\",\\\"S3Uri\\\":\\\"s3://exp01-dev-modelexample-data/modelsplit/v1/data/training/train.csv\\\",\\\"S3DataDistributionType\\\":\\\"FULLY_REPLICATED\\\"}},\\\"ContentType\\\":\\\"csv\\\",\\\"CompressionType\\\":\\\"NONE\\\",\\\"RecordWrapperType\\\":\\\"NONE\\\"},{\\\"ChannelName\\\":\\\"validation\\\",\\\"DataSource\\\":{\\\"S3DataSource\\\":{\\\"S3DataType\\\":\\\"S3_PREFIX\\\",\\\"S3Uri\\\":\\\"s3://exp01-dev-modelexample-data/modelsplit/v1/data/validation/validation.csv\\\",\\\"S3DataDistributionType\\\":\\\"FULLY_REPLICATED\\\"}},\\\"ContentType\\\":\\\"csv\\\",\\\"CompressionType\\\":\\\"NONE\\\",\\\"RecordWrapperType\\\":\\\"NONE\\\"}],\\\"OutputDataConfig\\\":{\\\"S3OutputPath\\\":\\\"s3://sagemaker-eu-west-1-342965497847/modelexample\\\"},\\\"ResourceConfig\\\":{\\\"InstanceType\\\":\\\"ml.m4.xlarge\\\",\\\"InstanceCount\\\":1.0,\\\"VolumeSizeInGB\\\":30.0},\\\"StoppingCondition\\\":{\\\"MaxRuntimeInSeconds\\\":86400.0},\\\"CreationTime\\\":1.622807840058E12,\\\"TrainingStartTime\\\":1.6228079771E12,\\\"TrainingEndTime\\\":1.622808045679E12,\\\"LastModifiedTime\\\":1.622808045679E12,\\\"SecondaryStatusTransitions\\\":[{\\\"Status\\\":\\\"Starting\\\",\\\"StartTime\\\":1.622807840058E12,\\\"EndTime\\\":1.6228079771E12,\\\"StatusMessage\\\":\\\"Preparing the instances for training\\\"},{\\\"Status\\\":\\\"Downloading\\\",\\\"StartTime\\\":1.6228079771E12,\\\"EndTime\\\":1.622808006819E12,\\\"StatusMessage\\\":\\\"Downloading input data\\\"},{\\\"Status\\\":\\\"Training\\\",\\\"StartTime\\\":1.622808006819E12,\\\"EndTime\\\":1.62280803863E12,\\\"StatusMessage\\\":\\\"Training image download completed. Training in progress.\\\"},{\\\"Status\\\":\\\"Uploading\\\",\\\"StartTime\\\":1.62280803863E12,\\\"EndTime\\\":1.622808045679E12,\\\"StatusMessage\\\":\\\"Uploading generated training model\\\"},{\\\"Status\\\":\\\"Completed\\\",\\\"StartTime\\\":1.622808045679E12,\\\"EndTime\\\":1.622808045679E12,\\\"StatusMessage\\\":\\\"Training job completed\\\"}],\\\"Tags\\\":{\\\"GitBranch\\\":\\\"master\\\",\\\"MANAGED_BY_AWS\\\":\\\"STARTED_BY_STEP_FUNCTIONS\\\",\\\"DataVersionId\\\":\\\"xDfDaEeQi3UeIsDlhKsD7jA8qMtvREhI\\\",\\\"GitCommitHash\\\":\\\"58dd0d5bfdbb539684995d305bdce97f60be7104\\\",\\\"AWS_STEP_FUNCTIONS_EXECUTION_ARN\\\":\\\"arn:aws:states:eu-west-1:342965497847:execution:modelexample:ba075952-5fcd-4d7e-b31a-08dd199f2264\\\"}},\\\"ModelStepResults\\\":{\\\"ModelArn\\\":\\\"arn:aws:sagemaker:eu-west-1:342965497847:model/mlops-modelexample-18714106-0eaa-48ad-924d-804c7a5b6392\\\",\\\"SdkHttpMetadata\\\":{\\\"AllHttpHeaders\\\":{\\\"x-amzn-RequestId\\\":[\\\"b62ac0e6-3e11-45fe-ba4a-8345c6259b14\\\"],\\\"Content-Length\\\":[\\\"117\\\"],\\\"Date\\\":[\\\"Fri, 04 Jun 2021 12:00:50 GMT\\\"],\\\"Content-Type\\\":[\\\"application/x-amz-json-1.1\\\"]},\\\"HttpHeaders\\\":{\\\"Content-Length\\\":\\\"117\\\",\\\"Content-Type\\\":\\\"application/x-amz-json-1.1\\\",\\\"Date\\\":\\\"Fri, 04 Jun 2021 12:00:50 GMT\\\",\\\"x-amzn-RequestId\\\":\\\"b62ac0e6-3e11-45fe-ba4a-8345c6259b14\\\"},\\\"HttpStatusCode\\\":200},\\\"SdkResponseMetadata\\\":{\\\"RequestId\\\":\\\"b62ac0e6-3e11-45fe-ba4a-8345c6259b14\\\"}},\\\"QueryTrainingResults\\\":{\\\"ExecutedVersion\\\":\\\"$LATEST\\\",\\\"Payload\\\":{\\\"statusCode\\\":200,\\\"results\\\":{\\\"TrainingJobName\\\":\\\"mlops-modelexample-18714106-0eaa-48ad-924d-804c7a5b6392\\\",\\\"TrainingJobStatus\\\":\\\"Completed\\\",\\\"TrainingMetrics\\\":[{\\\"MetricName\\\":\\\"train:rmse\\\",\\\"Value\\\":3.6703100204467773,\\\"Timestamp\\\":1.622808034E9},{\\\"MetricName\\\":\\\"validation:rmse\\\",\\\"Value\\\":3.65408992767334,\\\"Timestamp\\\":1.622808034E9}]}},\\\"SdkHttpMetadata\\\":{\\\"AllHttpHeaders\\\":{\\\"X-Amz-Executed-Version\\\":[\\\"$LATEST\\\"],\\\"x-amzn-Remapped-Content-Length\\\":[\\\"0\\\"],\\\"Connection\\\":[\\\"keep-alive\\\"],\\\"x-amzn-RequestId\\\":[\\\"aecd7326-4461-4636-9db3-0080eb72f992\\\"],\\\"Content-Length\\\":[\\\"340\\\"],\\\"Date\\\":[\\\"Fri, 04 Jun 2021 12:00:51 GMT\\\"],\\\"X-Amzn-Trace-Id\\\":[\\\"root=1-60ba15f2-7c5972d12bf7105373aca10b;sampled=0\\\"],\\\"Content-Type\\\":[\\\"application/json\\\"]},\\\"HttpHeaders\\\":{\\\"Connection\\\":\\\"keep-alive\\\",\\\"Content-Length\\\":\\\"340\\\",\\\"Content-Type\\\":\\\"application/json\\\",\\\"Date\\\":\\\"Fri, 04 Jun 2021 12:00:51 GMT\\\",\\\"X-Amz-Executed-Version\\\":\\\"$LATEST\\\",\\\"x-amzn-Remapped-Content-Length\\\":\\\"0\\\",\\\"x-amzn-RequestId\\\":\\\"aecd7326-4461-4636-9db3-0080eb72f992\\\",\\\"X-Amzn-Trace-Id\\\":\\\"root=1-60ba15f2-7c5972d12bf7105373aca10b;sampled=0\\\"},\\\"HttpStatusCode\\\":200},\\\"SdkResponseMetadata\\\":{\\\"RequestId\\\":\\\"aecd7326-4461-4636-9db3-0080eb72f992\\\"},\\\"StatusCode\\\":200}}\", \"outputDetails\": {\"truncated\": false}}}, {\"timestamp\": 1622808051.628, \"type\": \"ChoiceStateEntered\", \"id\": 29, \"previousEventId\": 28, \"stateEnteredEventDetails\": {\"name\": \"RMSE < 10\", \"input\": \"{\\\"ExperimentName\\\":\\\"mlops-modelexample\\\",\\\"TrialName\\\":\\\"mlops-modelexample-18714106-0eaa-48ad-924d-804c7a5b6392\\\",\\\"GitBranch\\\":\\\"master\\\",\\\"GitCommitHash\\\":\\\"58dd0d5bfdbb539684995d305bdce97f60be7104\\\",\\\"DataVersionId\\\":\\\"xDfDaEeQi3UeIsDlhKsD7jA8qMtvREhI\\\",\\\"BaselineJobName\\\":\\\"mlops-modelexample-pbl-18714106-0eaa-48ad-924d-804c7a5b6392\\\",\\\"BaselineOutputUri\\\":\\\"s3://sagemaker-eu-west-1-342965497847/modelexample/monitoring/baseline/mlops-modelexample-pbl-18714106-0eaa-48ad-924d-804c7a5b6392\\\",\\\"TrainingJobName\\\":\\\"mlops-modelexample-18714106-0eaa-48ad-924d-804c7a5b6392\\\",\\\"CreateTrialResults\\\":{\\\"ExecutedVersion\\\":\\\"$LATEST\\\",\\\"Payload\\\":{\\\"statusCode\\\":200,\\\"results\\\":{\\\"ExperimentCreated\\\":true,\\\"TrialCreated\\\":false}},\\\"SdkHttpMetadata\\\":{\\\"AllHttpHeaders\\\":{\\\"X-Amz-Executed-Version\\\":[\\\"$LATEST\\\"],\\\"x-amzn-Remapped-Content-Length\\\":[\\\"0\\\"],\\\"Connection\\\":[\\\"keep-alive\\\"],\\\"x-amzn-RequestId\\\":[\\\"7555adaa-7aab-4f9f-aa4f-e1c6bb06e997\\\"],\\\"Content-Length\\\":[\\\"82\\\"],\\\"Date\\\":[\\\"Fri, 04 Jun 2021 11:57:19 GMT\\\"],\\\"X-Amzn-Trace-Id\\\":[\\\"root=1-60ba151e-1a17c28c3a7bf7a153d9b0bc;sampled=0\\\"],\\\"Content-Type\\\":[\\\"application/json\\\"]},\\\"HttpHeaders\\\":{\\\"Connection\\\":\\\"keep-alive\\\",\\\"Content-Length\\\":\\\"82\\\",\\\"Content-Type\\\":\\\"application/json\\\",\\\"Date\\\":\\\"Fri, 04 Jun 2021 11:57:19 GMT\\\",\\\"X-Amz-Executed-Version\\\":\\\"$LATEST\\\",\\\"x-amzn-Remapped-Content-Length\\\":\\\"0\\\",\\\"x-amzn-RequestId\\\":\\\"7555adaa-7aab-4f9f-aa4f-e1c6bb06e997\\\",\\\"X-Amzn-Trace-Id\\\":\\\"root=1-60ba151e-1a17c28c3a7bf7a153d9b0bc;sampled=0\\\"},\\\"HttpStatusCode\\\":200},\\\"SdkResponseMetadata\\\":{\\\"RequestId\\\":\\\"7555adaa-7aab-4f9f-aa4f-e1c6bb06e997\\\"},\\\"StatusCode\\\":200},\\\"TrainingResults\\\":{\\\"TrainingJobName\\\":\\\"mlops-modelexample-18714106-0eaa-48ad-924d-804c7a5b6392\\\",\\\"TrainingJobArn\\\":\\\"arn:aws:sagemaker:eu-west-1:342965497847:training-job/mlops-modelexample-18714106-0eaa-48ad-924d-804c7a5b6392\\\",\\\"ModelArtifacts\\\":{\\\"S3ModelArtifacts\\\":\\\"s3://sagemaker-eu-west-1-342965497847/modelexample/mlops-modelexample-18714106-0eaa-48ad-924d-804c7a5b6392/output/model.tar.gz\\\"},\\\"TrainingJobStatus\\\":\\\"Completed\\\",\\\"SecondaryStatus\\\":\\\"Completed\\\",\\\"HyperParameters\\\":{\\\"eta\\\":\\\"0.2\\\",\\\"max_depth\\\":\\\"9\\\",\\\"early_stopping_rounds\\\":\\\"10\\\",\\\"num_round\\\":\\\"50\\\",\\\"subsample\\\":\\\"0.8\\\",\\\"gamma\\\":\\\"4\\\",\\\"min_child_weight\\\":\\\"300\\\",\\\"objective\\\":\\\"reg:linear\\\"},\\\"AlgorithmSpecification\\\":{\\\"TrainingImage\\\":\\\"685385470294.dkr.ecr.eu-west-1.amazonaws.com/xgboost:latest\\\",\\\"TrainingInputMode\\\":\\\"FILE\\\"},\\\"RoleArn\\\":\\\"arn:aws:iam::342965497847:role/exp01-dev-modelexample-sagemaker-role\\\",\\\"InputDataConfig\\\":[{\\\"ChannelName\\\":\\\"train\\\",\\\"DataSource\\\":{\\\"S3DataSource\\\":{\\\"S3DataType\\\":\\\"S3_PREFIX\\\",\\\"S3Uri\\\":\\\"s3://exp01-dev-modelexample-data/modelsplit/v1/data/training/train.csv\\\",\\\"S3DataDistributionType\\\":\\\"FULLY_REPLICATED\\\"}},\\\"ContentType\\\":\\\"csv\\\",\\\"CompressionType\\\":\\\"NONE\\\",\\\"RecordWrapperType\\\":\\\"NONE\\\"},{\\\"ChannelName\\\":\\\"validation\\\",\\\"DataSource\\\":{\\\"S3DataSource\\\":{\\\"S3DataType\\\":\\\"S3_PREFIX\\\",\\\"S3Uri\\\":\\\"s3://exp01-dev-modelexample-data/modelsplit/v1/data/validation/validation.csv\\\",\\\"S3DataDistributionType\\\":\\\"FULLY_REPLICATED\\\"}},\\\"ContentType\\\":\\\"csv\\\",\\\"CompressionType\\\":\\\"NONE\\\",\\\"RecordWrapperType\\\":\\\"NONE\\\"}],\\\"OutputDataConfig\\\":{\\\"S3OutputPath\\\":\\\"s3://sagemaker-eu-west-1-342965497847/modelexample\\\"},\\\"ResourceConfig\\\":{\\\"InstanceType\\\":\\\"ml.m4.xlarge\\\",\\\"InstanceCount\\\":1.0,\\\"VolumeSizeInGB\\\":30.0},\\\"StoppingCondition\\\":{\\\"MaxRuntimeInSeconds\\\":86400.0},\\\"CreationTime\\\":1.622807840058E12,\\\"TrainingStartTime\\\":1.6228079771E12,\\\"TrainingEndTime\\\":1.622808045679E12,\\\"LastModifiedTime\\\":1.622808045679E12,\\\"SecondaryStatusTransitions\\\":[{\\\"Status\\\":\\\"Starting\\\",\\\"StartTime\\\":1.622807840058E12,\\\"EndTime\\\":1.6228079771E12,\\\"StatusMessage\\\":\\\"Preparing the instances for training\\\"},{\\\"Status\\\":\\\"Downloading\\\",\\\"StartTime\\\":1.6228079771E12,\\\"EndTime\\\":1.622808006819E12,\\\"StatusMessage\\\":\\\"Downloading input data\\\"},{\\\"Status\\\":\\\"Training\\\",\\\"StartTime\\\":1.622808006819E12,\\\"EndTime\\\":1.62280803863E12,\\\"StatusMessage\\\":\\\"Training image download completed. Training in progress.\\\"},{\\\"Status\\\":\\\"Uploading\\\",\\\"StartTime\\\":1.62280803863E12,\\\"EndTime\\\":1.622808045679E12,\\\"StatusMessage\\\":\\\"Uploading generated training model\\\"},{\\\"Status\\\":\\\"Completed\\\",\\\"StartTime\\\":1.622808045679E12,\\\"EndTime\\\":1.622808045679E12,\\\"StatusMessage\\\":\\\"Training job completed\\\"}],\\\"Tags\\\":{\\\"GitBranch\\\":\\\"master\\\",\\\"MANAGED_BY_AWS\\\":\\\"STARTED_BY_STEP_FUNCTIONS\\\",\\\"DataVersionId\\\":\\\"xDfDaEeQi3UeIsDlhKsD7jA8qMtvREhI\\\",\\\"GitCommitHash\\\":\\\"58dd0d5bfdbb539684995d305bdce97f60be7104\\\",\\\"AWS_STEP_FUNCTIONS_EXECUTION_ARN\\\":\\\"arn:aws:states:eu-west-1:342965497847:execution:modelexample:ba075952-5fcd-4d7e-b31a-08dd199f2264\\\"}},\\\"ModelStepResults\\\":{\\\"ModelArn\\\":\\\"arn:aws:sagemaker:eu-west-1:342965497847:model/mlops-modelexample-18714106-0eaa-48ad-924d-804c7a5b6392\\\",\\\"SdkHttpMetadata\\\":{\\\"AllHttpHeaders\\\":{\\\"x-amzn-RequestId\\\":[\\\"b62ac0e6-3e11-45fe-ba4a-8345c6259b14\\\"],\\\"Content-Length\\\":[\\\"117\\\"],\\\"Date\\\":[\\\"Fri, 04 Jun 2021 12:00:50 GMT\\\"],\\\"Content-Type\\\":[\\\"application/x-amz-json-1.1\\\"]},\\\"HttpHeaders\\\":{\\\"Content-Length\\\":\\\"117\\\",\\\"Content-Type\\\":\\\"application/x-amz-json-1.1\\\",\\\"Date\\\":\\\"Fri, 04 Jun 2021 12:00:50 GMT\\\",\\\"x-amzn-RequestId\\\":\\\"b62ac0e6-3e11-45fe-ba4a-8345c6259b14\\\"},\\\"HttpStatusCode\\\":200},\\\"SdkResponseMetadata\\\":{\\\"RequestId\\\":\\\"b62ac0e6-3e11-45fe-ba4a-8345c6259b14\\\"}},\\\"QueryTrainingResults\\\":{\\\"ExecutedVersion\\\":\\\"$LATEST\\\",\\\"Payload\\\":{\\\"statusCode\\\":200,\\\"results\\\":{\\\"TrainingJobName\\\":\\\"mlops-modelexample-18714106-0eaa-48ad-924d-804c7a5b6392\\\",\\\"TrainingJobStatus\\\":\\\"Completed\\\",\\\"TrainingMetrics\\\":[{\\\"MetricName\\\":\\\"train:rmse\\\",\\\"Value\\\":3.6703100204467773,\\\"Timestamp\\\":1.622808034E9},{\\\"MetricName\\\":\\\"validation:rmse\\\",\\\"Value\\\":3.65408992767334,\\\"Timestamp\\\":1.622808034E9}]}},\\\"SdkHttpMetadata\\\":{\\\"AllHttpHeaders\\\":{\\\"X-Amz-Executed-Version\\\":[\\\"$LATEST\\\"],\\\"x-amzn-Remapped-Content-Length\\\":[\\\"0\\\"],\\\"Connection\\\":[\\\"keep-alive\\\"],\\\"x-amzn-RequestId\\\":[\\\"aecd7326-4461-4636-9db3-0080eb72f992\\\"],\\\"Content-Length\\\":[\\\"340\\\"],\\\"Date\\\":[\\\"Fri, 04 Jun 2021 12:00:51 GMT\\\"],\\\"X-Amzn-Trace-Id\\\":[\\\"root=1-60ba15f2-7c5972d12bf7105373aca10b;sampled=0\\\"],\\\"Content-Type\\\":[\\\"application/json\\\"]},\\\"HttpHeaders\\\":{\\\"Connection\\\":\\\"keep-alive\\\",\\\"Content-Length\\\":\\\"340\\\",\\\"Content-Type\\\":\\\"application/json\\\",\\\"Date\\\":\\\"Fri, 04 Jun 2021 12:00:51 GMT\\\",\\\"X-Amz-Executed-Version\\\":\\\"$LATEST\\\",\\\"x-amzn-Remapped-Content-Length\\\":\\\"0\\\",\\\"x-amzn-RequestId\\\":\\\"aecd7326-4461-4636-9db3-0080eb72f992\\\",\\\"X-Amzn-Trace-Id\\\":\\\"root=1-60ba15f2-7c5972d12bf7105373aca10b;sampled=0\\\"},\\\"HttpStatusCode\\\":200},\\\"SdkResponseMetadata\\\":{\\\"RequestId\\\":\\\"aecd7326-4461-4636-9db3-0080eb72f992\\\"},\\\"StatusCode\\\":200}}\", \"inputDetails\": {\"truncated\": false}}}, {\"timestamp\": 1622808051.628, \"type\": \"ChoiceStateExited\", \"id\": 30, \"previousEventId\": 29, \"stateExitedEventDetails\": {\"name\": \"RMSE < 10\", \"output\": \"{\\\"ExperimentName\\\":\\\"mlops-modelexample\\\",\\\"TrialName\\\":\\\"mlops-modelexample-18714106-0eaa-48ad-924d-804c7a5b6392\\\",\\\"GitBranch\\\":\\\"master\\\",\\\"GitCommitHash\\\":\\\"58dd0d5bfdbb539684995d305bdce97f60be7104\\\",\\\"DataVersionId\\\":\\\"xDfDaEeQi3UeIsDlhKsD7jA8qMtvREhI\\\",\\\"BaselineJobName\\\":\\\"mlops-modelexample-pbl-18714106-0eaa-48ad-924d-804c7a5b6392\\\",\\\"BaselineOutputUri\\\":\\\"s3://sagemaker-eu-west-1-342965497847/modelexample/monitoring/baseline/mlops-modelexample-pbl-18714106-0eaa-48ad-924d-804c7a5b6392\\\",\\\"TrainingJobName\\\":\\\"mlops-modelexample-18714106-0eaa-48ad-924d-804c7a5b6392\\\",\\\"CreateTrialResults\\\":{\\\"ExecutedVersion\\\":\\\"$LATEST\\\",\\\"Payload\\\":{\\\"statusCode\\\":200,\\\"results\\\":{\\\"ExperimentCreated\\\":true,\\\"TrialCreated\\\":false}},\\\"SdkHttpMetadata\\\":{\\\"AllHttpHeaders\\\":{\\\"X-Amz-Executed-Version\\\":[\\\"$LATEST\\\"],\\\"x-amzn-Remapped-Content-Length\\\":[\\\"0\\\"],\\\"Connection\\\":[\\\"keep-alive\\\"],\\\"x-amzn-RequestId\\\":[\\\"7555adaa-7aab-4f9f-aa4f-e1c6bb06e997\\\"],\\\"Content-Length\\\":[\\\"82\\\"],\\\"Date\\\":[\\\"Fri, 04 Jun 2021 11:57:19 GMT\\\"],\\\"X-Amzn-Trace-Id\\\":[\\\"root=1-60ba151e-1a17c28c3a7bf7a153d9b0bc;sampled=0\\\"],\\\"Content-Type\\\":[\\\"application/json\\\"]},\\\"HttpHeaders\\\":{\\\"Connection\\\":\\\"keep-alive\\\",\\\"Content-Length\\\":\\\"82\\\",\\\"Content-Type\\\":\\\"application/json\\\",\\\"Date\\\":\\\"Fri, 04 Jun 2021 11:57:19 GMT\\\",\\\"X-Amz-Executed-Version\\\":\\\"$LATEST\\\",\\\"x-amzn-Remapped-Content-Length\\\":\\\"0\\\",\\\"x-amzn-RequestId\\\":\\\"7555adaa-7aab-4f9f-aa4f-e1c6bb06e997\\\",\\\"X-Amzn-Trace-Id\\\":\\\"root=1-60ba151e-1a17c28c3a7bf7a153d9b0bc;sampled=0\\\"},\\\"HttpStatusCode\\\":200},\\\"SdkResponseMetadata\\\":{\\\"RequestId\\\":\\\"7555adaa-7aab-4f9f-aa4f-e1c6bb06e997\\\"},\\\"StatusCode\\\":200},\\\"TrainingResults\\\":{\\\"TrainingJobName\\\":\\\"mlops-modelexample-18714106-0eaa-48ad-924d-804c7a5b6392\\\",\\\"TrainingJobArn\\\":\\\"arn:aws:sagemaker:eu-west-1:342965497847:training-job/mlops-modelexample-18714106-0eaa-48ad-924d-804c7a5b6392\\\",\\\"ModelArtifacts\\\":{\\\"S3ModelArtifacts\\\":\\\"s3://sagemaker-eu-west-1-342965497847/modelexample/mlops-modelexample-18714106-0eaa-48ad-924d-804c7a5b6392/output/model.tar.gz\\\"},\\\"TrainingJobStatus\\\":\\\"Completed\\\",\\\"SecondaryStatus\\\":\\\"Completed\\\",\\\"HyperParameters\\\":{\\\"eta\\\":\\\"0.2\\\",\\\"max_depth\\\":\\\"9\\\",\\\"early_stopping_rounds\\\":\\\"10\\\",\\\"num_round\\\":\\\"50\\\",\\\"subsample\\\":\\\"0.8\\\",\\\"gamma\\\":\\\"4\\\",\\\"min_child_weight\\\":\\\"300\\\",\\\"objective\\\":\\\"reg:linear\\\"},\\\"AlgorithmSpecification\\\":{\\\"TrainingImage\\\":\\\"685385470294.dkr.ecr.eu-west-1.amazonaws.com/xgboost:latest\\\",\\\"TrainingInputMode\\\":\\\"FILE\\\"},\\\"RoleArn\\\":\\\"arn:aws:iam::342965497847:role/exp01-dev-modelexample-sagemaker-role\\\",\\\"InputDataConfig\\\":[{\\\"ChannelName\\\":\\\"train\\\",\\\"DataSource\\\":{\\\"S3DataSource\\\":{\\\"S3DataType\\\":\\\"S3_PREFIX\\\",\\\"S3Uri\\\":\\\"s3://exp01-dev-modelexample-data/modelsplit/v1/data/training/train.csv\\\",\\\"S3DataDistributionType\\\":\\\"FULLY_REPLICATED\\\"}},\\\"ContentType\\\":\\\"csv\\\",\\\"CompressionType\\\":\\\"NONE\\\",\\\"RecordWrapperType\\\":\\\"NONE\\\"},{\\\"ChannelName\\\":\\\"validation\\\",\\\"DataSource\\\":{\\\"S3DataSource\\\":{\\\"S3DataType\\\":\\\"S3_PREFIX\\\",\\\"S3Uri\\\":\\\"s3://exp01-dev-modelexample-data/modelsplit/v1/data/validation/validation.csv\\\",\\\"S3DataDistributionType\\\":\\\"FULLY_REPLICATED\\\"}},\\\"ContentType\\\":\\\"csv\\\",\\\"CompressionType\\\":\\\"NONE\\\",\\\"RecordWrapperType\\\":\\\"NONE\\\"}],\\\"OutputDataConfig\\\":{\\\"S3OutputPath\\\":\\\"s3://sagemaker-eu-west-1-342965497847/modelexample\\\"},\\\"ResourceConfig\\\":{\\\"InstanceType\\\":\\\"ml.m4.xlarge\\\",\\\"InstanceCount\\\":1.0,\\\"VolumeSizeInGB\\\":30.0},\\\"StoppingCondition\\\":{\\\"MaxRuntimeInSeconds\\\":86400.0},\\\"CreationTime\\\":1.622807840058E12,\\\"TrainingStartTime\\\":1.6228079771E12,\\\"TrainingEndTime\\\":1.622808045679E12,\\\"LastModifiedTime\\\":1.622808045679E12,\\\"SecondaryStatusTransitions\\\":[{\\\"Status\\\":\\\"Starting\\\",\\\"StartTime\\\":1.622807840058E12,\\\"EndTime\\\":1.6228079771E12,\\\"StatusMessage\\\":\\\"Preparing the instances for training\\\"},{\\\"Status\\\":\\\"Downloading\\\",\\\"StartTime\\\":1.6228079771E12,\\\"EndTime\\\":1.622808006819E12,\\\"StatusMessage\\\":\\\"Downloading input data\\\"},{\\\"Status\\\":\\\"Training\\\",\\\"StartTime\\\":1.622808006819E12,\\\"EndTime\\\":1.62280803863E12,\\\"StatusMessage\\\":\\\"Training image download completed. Training in progress.\\\"},{\\\"Status\\\":\\\"Uploading\\\",\\\"StartTime\\\":1.62280803863E12,\\\"EndTime\\\":1.622808045679E12,\\\"StatusMessage\\\":\\\"Uploading generated training model\\\"},{\\\"Status\\\":\\\"Completed\\\",\\\"StartTime\\\":1.622808045679E12,\\\"EndTime\\\":1.622808045679E12,\\\"StatusMessage\\\":\\\"Training job completed\\\"}],\\\"Tags\\\":{\\\"GitBranch\\\":\\\"master\\\",\\\"MANAGED_BY_AWS\\\":\\\"STARTED_BY_STEP_FUNCTIONS\\\",\\\"DataVersionId\\\":\\\"xDfDaEeQi3UeIsDlhKsD7jA8qMtvREhI\\\",\\\"GitCommitHash\\\":\\\"58dd0d5bfdbb539684995d305bdce97f60be7104\\\",\\\"AWS_STEP_FUNCTIONS_EXECUTION_ARN\\\":\\\"arn:aws:states:eu-west-1:342965497847:execution:modelexample:ba075952-5fcd-4d7e-b31a-08dd199f2264\\\"}},\\\"ModelStepResults\\\":{\\\"ModelArn\\\":\\\"arn:aws:sagemaker:eu-west-1:342965497847:model/mlops-modelexample-18714106-0eaa-48ad-924d-804c7a5b6392\\\",\\\"SdkHttpMetadata\\\":{\\\"AllHttpHeaders\\\":{\\\"x-amzn-RequestId\\\":[\\\"b62ac0e6-3e11-45fe-ba4a-8345c6259b14\\\"],\\\"Content-Length\\\":[\\\"117\\\"],\\\"Date\\\":[\\\"Fri, 04 Jun 2021 12:00:50 GMT\\\"],\\\"Content-Type\\\":[\\\"application/x-amz-json-1.1\\\"]},\\\"HttpHeaders\\\":{\\\"Content-Length\\\":\\\"117\\\",\\\"Content-Type\\\":\\\"application/x-amz-json-1.1\\\",\\\"Date\\\":\\\"Fri, 04 Jun 2021 12:00:50 GMT\\\",\\\"x-amzn-RequestId\\\":\\\"b62ac0e6-3e11-45fe-ba4a-8345c6259b14\\\"},\\\"HttpStatusCode\\\":200},\\\"SdkResponseMetadata\\\":{\\\"RequestId\\\":\\\"b62ac0e6-3e11-45fe-ba4a-8345c6259b14\\\"}},\\\"QueryTrainingResults\\\":{\\\"ExecutedVersion\\\":\\\"$LATEST\\\",\\\"Payload\\\":{\\\"statusCode\\\":200,\\\"results\\\":{\\\"TrainingJobName\\\":\\\"mlops-modelexample-18714106-0eaa-48ad-924d-804c7a5b6392\\\",\\\"TrainingJobStatus\\\":\\\"Completed\\\",\\\"TrainingMetrics\\\":[{\\\"MetricName\\\":\\\"train:rmse\\\",\\\"Value\\\":3.6703100204467773,\\\"Timestamp\\\":1.622808034E9},{\\\"MetricName\\\":\\\"validation:rmse\\\",\\\"Value\\\":3.65408992767334,\\\"Timestamp\\\":1.622808034E9}]}},\\\"SdkHttpMetadata\\\":{\\\"AllHttpHeaders\\\":{\\\"X-Amz-Executed-Version\\\":[\\\"$LATEST\\\"],\\\"x-amzn-Remapped-Content-Length\\\":[\\\"0\\\"],\\\"Connection\\\":[\\\"keep-alive\\\"],\\\"x-amzn-RequestId\\\":[\\\"aecd7326-4461-4636-9db3-0080eb72f992\\\"],\\\"Content-Length\\\":[\\\"340\\\"],\\\"Date\\\":[\\\"Fri, 04 Jun 2021 12:00:51 GMT\\\"],\\\"X-Amzn-Trace-Id\\\":[\\\"root=1-60ba15f2-7c5972d12bf7105373aca10b;sampled=0\\\"],\\\"Content-Type\\\":[\\\"application/json\\\"]},\\\"HttpHeaders\\\":{\\\"Connection\\\":\\\"keep-alive\\\",\\\"Content-Length\\\":\\\"340\\\",\\\"Content-Type\\\":\\\"application/json\\\",\\\"Date\\\":\\\"Fri, 04 Jun 2021 12:00:51 GMT\\\",\\\"X-Amz-Executed-Version\\\":\\\"$LATEST\\\",\\\"x-amzn-Remapped-Content-Length\\\":\\\"0\\\",\\\"x-amzn-RequestId\\\":\\\"aecd7326-4461-4636-9db3-0080eb72f992\\\",\\\"X-Amzn-Trace-Id\\\":\\\"root=1-60ba15f2-7c5972d12bf7105373aca10b;sampled=0\\\"},\\\"HttpStatusCode\\\":200},\\\"SdkResponseMetadata\\\":{\\\"RequestId\\\":\\\"aecd7326-4461-4636-9db3-0080eb72f992\\\"},\\\"StatusCode\\\":200}}\", \"outputDetails\": {\"truncated\": false}}}, {\"timestamp\": 1622808051.73, \"type\": \"SucceedStateEntered\", \"id\": 31, \"previousEventId\": 30, \"stateEnteredEventDetails\": {\"name\": \"Model Error Acceptable\", \"input\": \"{\\\"ExperimentName\\\":\\\"mlops-modelexample\\\",\\\"TrialName\\\":\\\"mlops-modelexample-18714106-0eaa-48ad-924d-804c7a5b6392\\\",\\\"GitBranch\\\":\\\"master\\\",\\\"GitCommitHash\\\":\\\"58dd0d5bfdbb539684995d305bdce97f60be7104\\\",\\\"DataVersionId\\\":\\\"xDfDaEeQi3UeIsDlhKsD7jA8qMtvREhI\\\",\\\"BaselineJobName\\\":\\\"mlops-modelexample-pbl-18714106-0eaa-48ad-924d-804c7a5b6392\\\",\\\"BaselineOutputUri\\\":\\\"s3://sagemaker-eu-west-1-342965497847/modelexample/monitoring/baseline/mlops-modelexample-pbl-18714106-0eaa-48ad-924d-804c7a5b6392\\\",\\\"TrainingJobName\\\":\\\"mlops-modelexample-18714106-0eaa-48ad-924d-804c7a5b6392\\\",\\\"CreateTrialResults\\\":{\\\"ExecutedVersion\\\":\\\"$LATEST\\\",\\\"Payload\\\":{\\\"statusCode\\\":200,\\\"results\\\":{\\\"ExperimentCreated\\\":true,\\\"TrialCreated\\\":false}},\\\"SdkHttpMetadata\\\":{\\\"AllHttpHeaders\\\":{\\\"X-Amz-Executed-Version\\\":[\\\"$LATEST\\\"],\\\"x-amzn-Remapped-Content-Length\\\":[\\\"0\\\"],\\\"Connection\\\":[\\\"keep-alive\\\"],\\\"x-amzn-RequestId\\\":[\\\"7555adaa-7aab-4f9f-aa4f-e1c6bb06e997\\\"],\\\"Content-Length\\\":[\\\"82\\\"],\\\"Date\\\":[\\\"Fri, 04 Jun 2021 11:57:19 GMT\\\"],\\\"X-Amzn-Trace-Id\\\":[\\\"root=1-60ba151e-1a17c28c3a7bf7a153d9b0bc;sampled=0\\\"],\\\"Content-Type\\\":[\\\"application/json\\\"]},\\\"HttpHeaders\\\":{\\\"Connection\\\":\\\"keep-alive\\\",\\\"Content-Length\\\":\\\"82\\\",\\\"Content-Type\\\":\\\"application/json\\\",\\\"Date\\\":\\\"Fri, 04 Jun 2021 11:57:19 GMT\\\",\\\"X-Amz-Executed-Version\\\":\\\"$LATEST\\\",\\\"x-amzn-Remapped-Content-Length\\\":\\\"0\\\",\\\"x-amzn-RequestId\\\":\\\"7555adaa-7aab-4f9f-aa4f-e1c6bb06e997\\\",\\\"X-Amzn-Trace-Id\\\":\\\"root=1-60ba151e-1a17c28c3a7bf7a153d9b0bc;sampled=0\\\"},\\\"HttpStatusCode\\\":200},\\\"SdkResponseMetadata\\\":{\\\"RequestId\\\":\\\"7555adaa-7aab-4f9f-aa4f-e1c6bb06e997\\\"},\\\"StatusCode\\\":200},\\\"TrainingResults\\\":{\\\"TrainingJobName\\\":\\\"mlops-modelexample-18714106-0eaa-48ad-924d-804c7a5b6392\\\",\\\"TrainingJobArn\\\":\\\"arn:aws:sagemaker:eu-west-1:342965497847:training-job/mlops-modelexample-18714106-0eaa-48ad-924d-804c7a5b6392\\\",\\\"ModelArtifacts\\\":{\\\"S3ModelArtifacts\\\":\\\"s3://sagemaker-eu-west-1-342965497847/modelexample/mlops-modelexample-18714106-0eaa-48ad-924d-804c7a5b6392/output/model.tar.gz\\\"},\\\"TrainingJobStatus\\\":\\\"Completed\\\",\\\"SecondaryStatus\\\":\\\"Completed\\\",\\\"HyperParameters\\\":{\\\"eta\\\":\\\"0.2\\\",\\\"max_depth\\\":\\\"9\\\",\\\"early_stopping_rounds\\\":\\\"10\\\",\\\"num_round\\\":\\\"50\\\",\\\"subsample\\\":\\\"0.8\\\",\\\"gamma\\\":\\\"4\\\",\\\"min_child_weight\\\":\\\"300\\\",\\\"objective\\\":\\\"reg:linear\\\"},\\\"AlgorithmSpecification\\\":{\\\"TrainingImage\\\":\\\"685385470294.dkr.ecr.eu-west-1.amazonaws.com/xgboost:latest\\\",\\\"TrainingInputMode\\\":\\\"FILE\\\"},\\\"RoleArn\\\":\\\"arn:aws:iam::342965497847:role/exp01-dev-modelexample-sagemaker-role\\\",\\\"InputDataConfig\\\":[{\\\"ChannelName\\\":\\\"train\\\",\\\"DataSource\\\":{\\\"S3DataSource\\\":{\\\"S3DataType\\\":\\\"S3_PREFIX\\\",\\\"S3Uri\\\":\\\"s3://exp01-dev-modelexample-data/modelsplit/v1/data/training/train.csv\\\",\\\"S3DataDistributionType\\\":\\\"FULLY_REPLICATED\\\"}},\\\"ContentType\\\":\\\"csv\\\",\\\"CompressionType\\\":\\\"NONE\\\",\\\"RecordWrapperType\\\":\\\"NONE\\\"},{\\\"ChannelName\\\":\\\"validation\\\",\\\"DataSource\\\":{\\\"S3DataSource\\\":{\\\"S3DataType\\\":\\\"S3_PREFIX\\\",\\\"S3Uri\\\":\\\"s3://exp01-dev-modelexample-data/modelsplit/v1/data/validation/validation.csv\\\",\\\"S3DataDistributionType\\\":\\\"FULLY_REPLICATED\\\"}},\\\"ContentType\\\":\\\"csv\\\",\\\"CompressionType\\\":\\\"NONE\\\",\\\"RecordWrapperType\\\":\\\"NONE\\\"}],\\\"OutputDataConfig\\\":{\\\"S3OutputPath\\\":\\\"s3://sagemaker-eu-west-1-342965497847/modelexample\\\"},\\\"ResourceConfig\\\":{\\\"InstanceType\\\":\\\"ml.m4.xlarge\\\",\\\"InstanceCount\\\":1.0,\\\"VolumeSizeInGB\\\":30.0},\\\"StoppingCondition\\\":{\\\"MaxRuntimeInSeconds\\\":86400.0},\\\"CreationTime\\\":1.622807840058E12,\\\"TrainingStartTime\\\":1.6228079771E12,\\\"TrainingEndTime\\\":1.622808045679E12,\\\"LastModifiedTime\\\":1.622808045679E12,\\\"SecondaryStatusTransitions\\\":[{\\\"Status\\\":\\\"Starting\\\",\\\"StartTime\\\":1.622807840058E12,\\\"EndTime\\\":1.6228079771E12,\\\"StatusMessage\\\":\\\"Preparing the instances for training\\\"},{\\\"Status\\\":\\\"Downloading\\\",\\\"StartTime\\\":1.6228079771E12,\\\"EndTime\\\":1.622808006819E12,\\\"StatusMessage\\\":\\\"Downloading input data\\\"},{\\\"Status\\\":\\\"Training\\\",\\\"StartTime\\\":1.622808006819E12,\\\"EndTime\\\":1.62280803863E12,\\\"StatusMessage\\\":\\\"Training image download completed. Training in progress.\\\"},{\\\"Status\\\":\\\"Uploading\\\",\\\"StartTime\\\":1.62280803863E12,\\\"EndTime\\\":1.622808045679E12,\\\"StatusMessage\\\":\\\"Uploading generated training model\\\"},{\\\"Status\\\":\\\"Completed\\\",\\\"StartTime\\\":1.622808045679E12,\\\"EndTime\\\":1.622808045679E12,\\\"StatusMessage\\\":\\\"Training job completed\\\"}],\\\"Tags\\\":{\\\"GitBranch\\\":\\\"master\\\",\\\"MANAGED_BY_AWS\\\":\\\"STARTED_BY_STEP_FUNCTIONS\\\",\\\"DataVersionId\\\":\\\"xDfDaEeQi3UeIsDlhKsD7jA8qMtvREhI\\\",\\\"GitCommitHash\\\":\\\"58dd0d5bfdbb539684995d305bdce97f60be7104\\\",\\\"AWS_STEP_FUNCTIONS_EXECUTION_ARN\\\":\\\"arn:aws:states:eu-west-1:342965497847:execution:modelexample:ba075952-5fcd-4d7e-b31a-08dd199f2264\\\"}},\\\"ModelStepResults\\\":{\\\"ModelArn\\\":\\\"arn:aws:sagemaker:eu-west-1:342965497847:model/mlops-modelexample-18714106-0eaa-48ad-924d-804c7a5b6392\\\",\\\"SdkHttpMetadata\\\":{\\\"AllHttpHeaders\\\":{\\\"x-amzn-RequestId\\\":[\\\"b62ac0e6-3e11-45fe-ba4a-8345c6259b14\\\"],\\\"Content-Length\\\":[\\\"117\\\"],\\\"Date\\\":[\\\"Fri, 04 Jun 2021 12:00:50 GMT\\\"],\\\"Content-Type\\\":[\\\"application/x-amz-json-1.1\\\"]},\\\"HttpHeaders\\\":{\\\"Content-Length\\\":\\\"117\\\",\\\"Content-Type\\\":\\\"application/x-amz-json-1.1\\\",\\\"Date\\\":\\\"Fri, 04 Jun 2021 12:00:50 GMT\\\",\\\"x-amzn-RequestId\\\":\\\"b62ac0e6-3e11-45fe-ba4a-8345c6259b14\\\"},\\\"HttpStatusCode\\\":200},\\\"SdkResponseMetadata\\\":{\\\"RequestId\\\":\\\"b62ac0e6-3e11-45fe-ba4a-8345c6259b14\\\"}},\\\"QueryTrainingResults\\\":{\\\"ExecutedVersion\\\":\\\"$LATEST\\\",\\\"Payload\\\":{\\\"statusCode\\\":200,\\\"results\\\":{\\\"TrainingJobName\\\":\\\"mlops-modelexample-18714106-0eaa-48ad-924d-804c7a5b6392\\\",\\\"TrainingJobStatus\\\":\\\"Completed\\\",\\\"TrainingMetrics\\\":[{\\\"MetricName\\\":\\\"train:rmse\\\",\\\"Value\\\":3.6703100204467773,\\\"Timestamp\\\":1.622808034E9},{\\\"MetricName\\\":\\\"validation:rmse\\\",\\\"Value\\\":3.65408992767334,\\\"Timestamp\\\":1.622808034E9}]}},\\\"SdkHttpMetadata\\\":{\\\"AllHttpHeaders\\\":{\\\"X-Amz-Executed-Version\\\":[\\\"$LATEST\\\"],\\\"x-amzn-Remapped-Content-Length\\\":[\\\"0\\\"],\\\"Connection\\\":[\\\"keep-alive\\\"],\\\"x-amzn-RequestId\\\":[\\\"aecd7326-4461-4636-9db3-0080eb72f992\\\"],\\\"Content-Length\\\":[\\\"340\\\"],\\\"Date\\\":[\\\"Fri, 04 Jun 2021 12:00:51 GMT\\\"],\\\"X-Amzn-Trace-Id\\\":[\\\"root=1-60ba15f2-7c5972d12bf7105373aca10b;sampled=0\\\"],\\\"Content-Type\\\":[\\\"application/json\\\"]},\\\"HttpHeaders\\\":{\\\"Connection\\\":\\\"keep-alive\\\",\\\"Content-Length\\\":\\\"340\\\",\\\"Content-Type\\\":\\\"application/json\\\",\\\"Date\\\":\\\"Fri, 04 Jun 2021 12:00:51 GMT\\\",\\\"X-Amz-Executed-Version\\\":\\\"$LATEST\\\",\\\"x-amzn-Remapped-Content-Length\\\":\\\"0\\\",\\\"x-amzn-RequestId\\\":\\\"aecd7326-4461-4636-9db3-0080eb72f992\\\",\\\"X-Amzn-Trace-Id\\\":\\\"root=1-60ba15f2-7c5972d12bf7105373aca10b;sampled=0\\\"},\\\"HttpStatusCode\\\":200},\\\"SdkResponseMetadata\\\":{\\\"RequestId\\\":\\\"aecd7326-4461-4636-9db3-0080eb72f992\\\"},\\\"StatusCode\\\":200}}\", \"inputDetails\": {\"truncated\": false}}}, {\"timestamp\": 1622808051.73, \"type\": \"SucceedStateExited\", \"id\": 32, \"previousEventId\": 31, \"stateExitedEventDetails\": {\"name\": \"Model Error Acceptable\", \"output\": \"{\\\"ExperimentName\\\":\\\"mlops-modelexample\\\",\\\"TrialName\\\":\\\"mlops-modelexample-18714106-0eaa-48ad-924d-804c7a5b6392\\\",\\\"GitBranch\\\":\\\"master\\\",\\\"GitCommitHash\\\":\\\"58dd0d5bfdbb539684995d305bdce97f60be7104\\\",\\\"DataVersionId\\\":\\\"xDfDaEeQi3UeIsDlhKsD7jA8qMtvREhI\\\",\\\"BaselineJobName\\\":\\\"mlops-modelexample-pbl-18714106-0eaa-48ad-924d-804c7a5b6392\\\",\\\"BaselineOutputUri\\\":\\\"s3://sagemaker-eu-west-1-342965497847/modelexample/monitoring/baseline/mlops-modelexample-pbl-18714106-0eaa-48ad-924d-804c7a5b6392\\\",\\\"TrainingJobName\\\":\\\"mlops-modelexample-18714106-0eaa-48ad-924d-804c7a5b6392\\\",\\\"CreateTrialResults\\\":{\\\"ExecutedVersion\\\":\\\"$LATEST\\\",\\\"Payload\\\":{\\\"statusCode\\\":200,\\\"results\\\":{\\\"ExperimentCreated\\\":true,\\\"TrialCreated\\\":false}},\\\"SdkHttpMetadata\\\":{\\\"AllHttpHeaders\\\":{\\\"X-Amz-Executed-Version\\\":[\\\"$LATEST\\\"],\\\"x-amzn-Remapped-Content-Length\\\":[\\\"0\\\"],\\\"Connection\\\":[\\\"keep-alive\\\"],\\\"x-amzn-RequestId\\\":[\\\"7555adaa-7aab-4f9f-aa4f-e1c6bb06e997\\\"],\\\"Content-Length\\\":[\\\"82\\\"],\\\"Date\\\":[\\\"Fri, 04 Jun 2021 11:57:19 GMT\\\"],\\\"X-Amzn-Trace-Id\\\":[\\\"root=1-60ba151e-1a17c28c3a7bf7a153d9b0bc;sampled=0\\\"],\\\"Content-Type\\\":[\\\"application/json\\\"]},\\\"HttpHeaders\\\":{\\\"Connection\\\":\\\"keep-alive\\\",\\\"Content-Length\\\":\\\"82\\\",\\\"Content-Type\\\":\\\"application/json\\\",\\\"Date\\\":\\\"Fri, 04 Jun 2021 11:57:19 GMT\\\",\\\"X-Amz-Executed-Version\\\":\\\"$LATEST\\\",\\\"x-amzn-Remapped-Content-Length\\\":\\\"0\\\",\\\"x-amzn-RequestId\\\":\\\"7555adaa-7aab-4f9f-aa4f-e1c6bb06e997\\\",\\\"X-Amzn-Trace-Id\\\":\\\"root=1-60ba151e-1a17c28c3a7bf7a153d9b0bc;sampled=0\\\"},\\\"HttpStatusCode\\\":200},\\\"SdkResponseMetadata\\\":{\\\"RequestId\\\":\\\"7555adaa-7aab-4f9f-aa4f-e1c6bb06e997\\\"},\\\"StatusCode\\\":200},\\\"TrainingResults\\\":{\\\"TrainingJobName\\\":\\\"mlops-modelexample-18714106-0eaa-48ad-924d-804c7a5b6392\\\",\\\"TrainingJobArn\\\":\\\"arn:aws:sagemaker:eu-west-1:342965497847:training-job/mlops-modelexample-18714106-0eaa-48ad-924d-804c7a5b6392\\\",\\\"ModelArtifacts\\\":{\\\"S3ModelArtifacts\\\":\\\"s3://sagemaker-eu-west-1-342965497847/modelexample/mlops-modelexample-18714106-0eaa-48ad-924d-804c7a5b6392/output/model.tar.gz\\\"},\\\"TrainingJobStatus\\\":\\\"Completed\\\",\\\"SecondaryStatus\\\":\\\"Completed\\\",\\\"HyperParameters\\\":{\\\"eta\\\":\\\"0.2\\\",\\\"max_depth\\\":\\\"9\\\",\\\"early_stopping_rounds\\\":\\\"10\\\",\\\"num_round\\\":\\\"50\\\",\\\"subsample\\\":\\\"0.8\\\",\\\"gamma\\\":\\\"4\\\",\\\"min_child_weight\\\":\\\"300\\\",\\\"objective\\\":\\\"reg:linear\\\"},\\\"AlgorithmSpecification\\\":{\\\"TrainingImage\\\":\\\"685385470294.dkr.ecr.eu-west-1.amazonaws.com/xgboost:latest\\\",\\\"TrainingInputMode\\\":\\\"FILE\\\"},\\\"RoleArn\\\":\\\"arn:aws:iam::342965497847:role/exp01-dev-modelexample-sagemaker-role\\\",\\\"InputDataConfig\\\":[{\\\"ChannelName\\\":\\\"train\\\",\\\"DataSource\\\":{\\\"S3DataSource\\\":{\\\"S3DataType\\\":\\\"S3_PREFIX\\\",\\\"S3Uri\\\":\\\"s3://exp01-dev-modelexample-data/modelsplit/v1/data/training/train.csv\\\",\\\"S3DataDistributionType\\\":\\\"FULLY_REPLICATED\\\"}},\\\"ContentType\\\":\\\"csv\\\",\\\"CompressionType\\\":\\\"NONE\\\",\\\"RecordWrapperType\\\":\\\"NONE\\\"},{\\\"ChannelName\\\":\\\"validation\\\",\\\"DataSource\\\":{\\\"S3DataSource\\\":{\\\"S3DataType\\\":\\\"S3_PREFIX\\\",\\\"S3Uri\\\":\\\"s3://exp01-dev-modelexample-data/modelsplit/v1/data/validation/validation.csv\\\",\\\"S3DataDistributionType\\\":\\\"FULLY_REPLICATED\\\"}},\\\"ContentType\\\":\\\"csv\\\",\\\"CompressionType\\\":\\\"NONE\\\",\\\"RecordWrapperType\\\":\\\"NONE\\\"}],\\\"OutputDataConfig\\\":{\\\"S3OutputPath\\\":\\\"s3://sagemaker-eu-west-1-342965497847/modelexample\\\"},\\\"ResourceConfig\\\":{\\\"InstanceType\\\":\\\"ml.m4.xlarge\\\",\\\"InstanceCount\\\":1.0,\\\"VolumeSizeInGB\\\":30.0},\\\"StoppingCondition\\\":{\\\"MaxRuntimeInSeconds\\\":86400.0},\\\"CreationTime\\\":1.622807840058E12,\\\"TrainingStartTime\\\":1.6228079771E12,\\\"TrainingEndTime\\\":1.622808045679E12,\\\"LastModifiedTime\\\":1.622808045679E12,\\\"SecondaryStatusTransitions\\\":[{\\\"Status\\\":\\\"Starting\\\",\\\"StartTime\\\":1.622807840058E12,\\\"EndTime\\\":1.6228079771E12,\\\"StatusMessage\\\":\\\"Preparing the instances for training\\\"},{\\\"Status\\\":\\\"Downloading\\\",\\\"StartTime\\\":1.6228079771E12,\\\"EndTime\\\":1.622808006819E12,\\\"StatusMessage\\\":\\\"Downloading input data\\\"},{\\\"Status\\\":\\\"Training\\\",\\\"StartTime\\\":1.622808006819E12,\\\"EndTime\\\":1.62280803863E12,\\\"StatusMessage\\\":\\\"Training image download completed. Training in progress.\\\"},{\\\"Status\\\":\\\"Uploading\\\",\\\"StartTime\\\":1.62280803863E12,\\\"EndTime\\\":1.622808045679E12,\\\"StatusMessage\\\":\\\"Uploading generated training model\\\"},{\\\"Status\\\":\\\"Completed\\\",\\\"StartTime\\\":1.622808045679E12,\\\"EndTime\\\":1.622808045679E12,\\\"StatusMessage\\\":\\\"Training job completed\\\"}],\\\"Tags\\\":{\\\"GitBranch\\\":\\\"master\\\",\\\"MANAGED_BY_AWS\\\":\\\"STARTED_BY_STEP_FUNCTIONS\\\",\\\"DataVersionId\\\":\\\"xDfDaEeQi3UeIsDlhKsD7jA8qMtvREhI\\\",\\\"GitCommitHash\\\":\\\"58dd0d5bfdbb539684995d305bdce97f60be7104\\\",\\\"AWS_STEP_FUNCTIONS_EXECUTION_ARN\\\":\\\"arn:aws:states:eu-west-1:342965497847:execution:modelexample:ba075952-5fcd-4d7e-b31a-08dd199f2264\\\"}},\\\"ModelStepResults\\\":{\\\"ModelArn\\\":\\\"arn:aws:sagemaker:eu-west-1:342965497847:model/mlops-modelexample-18714106-0eaa-48ad-924d-804c7a5b6392\\\",\\\"SdkHttpMetadata\\\":{\\\"AllHttpHeaders\\\":{\\\"x-amzn-RequestId\\\":[\\\"b62ac0e6-3e11-45fe-ba4a-8345c6259b14\\\"],\\\"Content-Length\\\":[\\\"117\\\"],\\\"Date\\\":[\\\"Fri, 04 Jun 2021 12:00:50 GMT\\\"],\\\"Content-Type\\\":[\\\"application/x-amz-json-1.1\\\"]},\\\"HttpHeaders\\\":{\\\"Content-Length\\\":\\\"117\\\",\\\"Content-Type\\\":\\\"application/x-amz-json-1.1\\\",\\\"Date\\\":\\\"Fri, 04 Jun 2021 12:00:50 GMT\\\",\\\"x-amzn-RequestId\\\":\\\"b62ac0e6-3e11-45fe-ba4a-8345c6259b14\\\"},\\\"HttpStatusCode\\\":200},\\\"SdkResponseMetadata\\\":{\\\"RequestId\\\":\\\"b62ac0e6-3e11-45fe-ba4a-8345c6259b14\\\"}},\\\"QueryTrainingResults\\\":{\\\"ExecutedVersion\\\":\\\"$LATEST\\\",\\\"Payload\\\":{\\\"statusCode\\\":200,\\\"results\\\":{\\\"TrainingJobName\\\":\\\"mlops-modelexample-18714106-0eaa-48ad-924d-804c7a5b6392\\\",\\\"TrainingJobStatus\\\":\\\"Completed\\\",\\\"TrainingMetrics\\\":[{\\\"MetricName\\\":\\\"train:rmse\\\",\\\"Value\\\":3.6703100204467773,\\\"Timestamp\\\":1.622808034E9},{\\\"MetricName\\\":\\\"validation:rmse\\\",\\\"Value\\\":3.65408992767334,\\\"Timestamp\\\":1.622808034E9}]}},\\\"SdkHttpMetadata\\\":{\\\"AllHttpHeaders\\\":{\\\"X-Amz-Executed-Version\\\":[\\\"$LATEST\\\"],\\\"x-amzn-Remapped-Content-Length\\\":[\\\"0\\\"],\\\"Connection\\\":[\\\"keep-alive\\\"],\\\"x-amzn-RequestId\\\":[\\\"aecd7326-4461-4636-9db3-0080eb72f992\\\"],\\\"Content-Length\\\":[\\\"340\\\"],\\\"Date\\\":[\\\"Fri, 04 Jun 2021 12:00:51 GMT\\\"],\\\"X-Amzn-Trace-Id\\\":[\\\"root=1-60ba15f2-7c5972d12bf7105373aca10b;sampled=0\\\"],\\\"Content-Type\\\":[\\\"application/json\\\"]},\\\"HttpHeaders\\\":{\\\"Connection\\\":\\\"keep-alive\\\",\\\"Content-Length\\\":\\\"340\\\",\\\"Content-Type\\\":\\\"application/json\\\",\\\"Date\\\":\\\"Fri, 04 Jun 2021 12:00:51 GMT\\\",\\\"X-Amz-Executed-Version\\\":\\\"$LATEST\\\",\\\"x-amzn-Remapped-Content-Length\\\":\\\"0\\\",\\\"x-amzn-RequestId\\\":\\\"aecd7326-4461-4636-9db3-0080eb72f992\\\",\\\"X-Amzn-Trace-Id\\\":\\\"root=1-60ba15f2-7c5972d12bf7105373aca10b;sampled=0\\\"},\\\"HttpStatusCode\\\":200},\\\"SdkResponseMetadata\\\":{\\\"RequestId\\\":\\\"aecd7326-4461-4636-9db3-0080eb72f992\\\"},\\\"StatusCode\\\":200}}\", \"outputDetails\": {\"truncated\": false}}}, {\"timestamp\": 1622808157.323, \"type\": \"TaskSucceeded\", \"id\": 33, \"previousEventId\": 16, \"taskSucceededEventDetails\": {\"resourceType\": \"sagemaker\", \"resource\": \"createProcessingJob.sync\", \"output\": \"{\\\"ProcessingInputs\\\":[{\\\"InputName\\\":\\\"baseline_dataset_input\\\",\\\"AppManaged\\\":false,\\\"S3Input\\\":{\\\"S3Uri\\\":\\\"s3://exp01-dev-modelexample-data/modelsplit/v1/data/baseline/baseline.csv\\\",\\\"LocalPath\\\":\\\"/opt/ml/processing/input/baseline_dataset_input\\\",\\\"S3DataType\\\":\\\"S3_PREFIX\\\",\\\"S3InputMode\\\":\\\"FILE\\\",\\\"S3DataDistributionType\\\":\\\"FULLYREPLICATED\\\"}}],\\\"ProcessingOutputConfig\\\":{\\\"Outputs\\\":[{\\\"OutputName\\\":\\\"monitoring_output\\\",\\\"S3Output\\\":{\\\"S3Uri\\\":\\\"s3://sagemaker-eu-west-1-342965497847/modelexample/monitoring/baseline/mlops-modelexample-pbl-18714106-0eaa-48ad-924d-804c7a5b6392\\\",\\\"LocalPath\\\":\\\"/opt/ml/processing/output\\\",\\\"S3UploadMode\\\":\\\"END_OF_JOB\\\"},\\\"AppManaged\\\":false}]},\\\"ProcessingJobName\\\":\\\"mlops-modelexample-pbl-18714106-0eaa-48ad-924d-804c7a5b6392\\\",\\\"ProcessingResources\\\":{\\\"ClusterConfig\\\":{\\\"InstanceCount\\\":1.0,\\\"InstanceType\\\":\\\"ml.m5.xlarge\\\",\\\"VolumeSizeInGB\\\":30.0}},\\\"StoppingCondition\\\":{\\\"MaxRuntimeInSeconds\\\":1800.0},\\\"AppSpecification\\\":{\\\"ImageUri\\\":\\\"468650794304.dkr.ecr.eu-west-1.amazonaws.com/sagemaker-model-monitor-analyzer\\\"},\\\"Environment\\\":{\\\"publish_cloudwatch_metrics\\\":\\\"Disabled\\\",\\\"dataset_source\\\":\\\"/opt/ml/processing/input/baseline_dataset_input\\\",\\\"output_path\\\":\\\"/opt/ml/processing/output\\\",\\\"dataset_format\\\":\\\"{\\\\\\\"csv\\\\\\\": {\\\\\\\"header\\\\\\\": true, \\\\\\\"output_columns_position\\\\\\\": \\\\\\\"START\\\\\\\"}}\\\"},\\\"RoleArn\\\":\\\"arn:aws:iam::342965497847:role/exp01-dev-modelexample-sagemaker-role\\\",\\\"ExperimentConfig\\\":{\\\"ExperimentName\\\":\\\"mlops-modelexample\\\",\\\"TrialName\\\":\\\"mlops-modelexample-18714106-0eaa-48ad-924d-804c7a5b6392\\\",\\\"TrialComponentDisplayName\\\":\\\"Baseline\\\"},\\\"ProcessingJobArn\\\":\\\"arn:aws:sagemaker:eu-west-1:342965497847:processing-job/mlops-modelexample-pbl-18714106-0eaa-48ad-924d-804c7a5b6392\\\",\\\"ProcessingJobStatus\\\":\\\"Completed\\\",\\\"ExitMessage\\\":\\\"Completed: Job completed successfully with no violations.\\\",\\\"ProcessingEndTime\\\":1.622808148E12,\\\"ProcessingStartTime\\\":1.622808065E12,\\\"LastModifiedTime\\\":1.622808148E12,\\\"CreationTime\\\":1.62280784E12,\\\"Tags\\\":{\\\"GitBranch\\\":\\\"master\\\",\\\"MANAGED_BY_AWS\\\":\\\"STARTED_BY_STEP_FUNCTIONS\\\",\\\"DataVersionId\\\":\\\"xDfDaEeQi3UeIsDlhKsD7jA8qMtvREhI\\\",\\\"GitCommitHash\\\":\\\"58dd0d5bfdbb539684995d305bdce97f60be7104\\\",\\\"AWS_STEP_FUNCTIONS_EXECUTION_ARN\\\":\\\"arn:aws:states:eu-west-1:342965497847:execution:modelexample:ba075952-5fcd-4d7e-b31a-08dd199f2264\\\"}}\", \"outputDetails\": {\"truncated\": false}}}, {\"timestamp\": 1622808157.323, \"type\": \"TaskStateExited\", \"id\": 34, \"previousEventId\": 33, \"stateExitedEventDetails\": {\"name\": \"Baseline Job\", \"output\": \"{\\\"ProcessingInputs\\\":[{\\\"InputName\\\":\\\"baseline_dataset_input\\\",\\\"AppManaged\\\":false,\\\"S3Input\\\":{\\\"S3Uri\\\":\\\"s3://exp01-dev-modelexample-data/modelsplit/v1/data/baseline/baseline.csv\\\",\\\"LocalPath\\\":\\\"/opt/ml/processing/input/baseline_dataset_input\\\",\\\"S3DataType\\\":\\\"S3_PREFIX\\\",\\\"S3InputMode\\\":\\\"FILE\\\",\\\"S3DataDistributionType\\\":\\\"FULLYREPLICATED\\\"}}],\\\"ProcessingOutputConfig\\\":{\\\"Outputs\\\":[{\\\"OutputName\\\":\\\"monitoring_output\\\",\\\"S3Output\\\":{\\\"S3Uri\\\":\\\"s3://sagemaker-eu-west-1-342965497847/modelexample/monitoring/baseline/mlops-modelexample-pbl-18714106-0eaa-48ad-924d-804c7a5b6392\\\",\\\"LocalPath\\\":\\\"/opt/ml/processing/output\\\",\\\"S3UploadMode\\\":\\\"END_OF_JOB\\\"},\\\"AppManaged\\\":false}]},\\\"ProcessingJobName\\\":\\\"mlops-modelexample-pbl-18714106-0eaa-48ad-924d-804c7a5b6392\\\",\\\"ProcessingResources\\\":{\\\"ClusterConfig\\\":{\\\"InstanceCount\\\":1.0,\\\"InstanceType\\\":\\\"ml.m5.xlarge\\\",\\\"VolumeSizeInGB\\\":30.0}},\\\"StoppingCondition\\\":{\\\"MaxRuntimeInSeconds\\\":1800.0},\\\"AppSpecification\\\":{\\\"ImageUri\\\":\\\"468650794304.dkr.ecr.eu-west-1.amazonaws.com/sagemaker-model-monitor-analyzer\\\"},\\\"Environment\\\":{\\\"publish_cloudwatch_metrics\\\":\\\"Disabled\\\",\\\"dataset_source\\\":\\\"/opt/ml/processing/input/baseline_dataset_input\\\",\\\"output_path\\\":\\\"/opt/ml/processing/output\\\",\\\"dataset_format\\\":\\\"{\\\\\\\"csv\\\\\\\": {\\\\\\\"header\\\\\\\": true, \\\\\\\"output_columns_position\\\\\\\": \\\\\\\"START\\\\\\\"}}\\\"},\\\"RoleArn\\\":\\\"arn:aws:iam::342965497847:role/exp01-dev-modelexample-sagemaker-role\\\",\\\"ExperimentConfig\\\":{\\\"ExperimentName\\\":\\\"mlops-modelexample\\\",\\\"TrialName\\\":\\\"mlops-modelexample-18714106-0eaa-48ad-924d-804c7a5b6392\\\",\\\"TrialComponentDisplayName\\\":\\\"Baseline\\\"},\\\"ProcessingJobArn\\\":\\\"arn:aws:sagemaker:eu-west-1:342965497847:processing-job/mlops-modelexample-pbl-18714106-0eaa-48ad-924d-804c7a5b6392\\\",\\\"ProcessingJobStatus\\\":\\\"Completed\\\",\\\"ExitMessage\\\":\\\"Completed: Job completed successfully with no violations.\\\",\\\"ProcessingEndTime\\\":1.622808148E12,\\\"ProcessingStartTime\\\":1.622808065E12,\\\"LastModifiedTime\\\":1.622808148E12,\\\"CreationTime\\\":1.62280784E12,\\\"Tags\\\":{\\\"GitBranch\\\":\\\"master\\\",\\\"MANAGED_BY_AWS\\\":\\\"STARTED_BY_STEP_FUNCTIONS\\\",\\\"DataVersionId\\\":\\\"xDfDaEeQi3UeIsDlhKsD7jA8qMtvREhI\\\",\\\"GitCommitHash\\\":\\\"58dd0d5bfdbb539684995d305bdce97f60be7104\\\",\\\"AWS_STEP_FUNCTIONS_EXECUTION_ARN\\\":\\\"arn:aws:states:eu-west-1:342965497847:execution:modelexample:ba075952-5fcd-4d7e-b31a-08dd199f2264\\\"}}\", \"outputDetails\": {\"truncated\": false}}}, {\"timestamp\": 1622808157.323, \"type\": \"ParallelStateSucceeded\", \"id\": 35, \"previousEventId\": 34}, {\"timestamp\": 1622808157.323, \"type\": \"ParallelStateExited\", \"id\": 36, \"previousEventId\": 34, \"stateExitedEventDetails\": {\"name\": \"SageMaker Jobs\", \"output\": \"[{\\\"ProcessingInputs\\\":[{\\\"InputName\\\":\\\"baseline_dataset_input\\\",\\\"AppManaged\\\":false,\\\"S3Input\\\":{\\\"S3Uri\\\":\\\"s3://exp01-dev-modelexample-data/modelsplit/v1/data/baseline/baseline.csv\\\",\\\"LocalPath\\\":\\\"/opt/ml/processing/input/baseline_dataset_input\\\",\\\"S3DataType\\\":\\\"S3_PREFIX\\\",\\\"S3InputMode\\\":\\\"FILE\\\",\\\"S3DataDistributionType\\\":\\\"FULLYREPLICATED\\\"}}],\\\"ProcessingOutputConfig\\\":{\\\"Outputs\\\":[{\\\"OutputName\\\":\\\"monitoring_output\\\",\\\"S3Output\\\":{\\\"S3Uri\\\":\\\"s3://sagemaker-eu-west-1-342965497847/modelexample/monitoring/baseline/mlops-modelexample-pbl-18714106-0eaa-48ad-924d-804c7a5b6392\\\",\\\"LocalPath\\\":\\\"/opt/ml/processing/output\\\",\\\"S3UploadMode\\\":\\\"END_OF_JOB\\\"},\\\"AppManaged\\\":false}]},\\\"ProcessingJobName\\\":\\\"mlops-modelexample-pbl-18714106-0eaa-48ad-924d-804c7a5b6392\\\",\\\"ProcessingResources\\\":{\\\"ClusterConfig\\\":{\\\"InstanceCount\\\":1.0,\\\"InstanceType\\\":\\\"ml.m5.xlarge\\\",\\\"VolumeSizeInGB\\\":30.0}},\\\"StoppingCondition\\\":{\\\"MaxRuntimeInSeconds\\\":1800.0},\\\"AppSpecification\\\":{\\\"ImageUri\\\":\\\"468650794304.dkr.ecr.eu-west-1.amazonaws.com/sagemaker-model-monitor-analyzer\\\"},\\\"Environment\\\":{\\\"publish_cloudwatch_metrics\\\":\\\"Disabled\\\",\\\"dataset_source\\\":\\\"/opt/ml/processing/input/baseline_dataset_input\\\",\\\"output_path\\\":\\\"/opt/ml/processing/output\\\",\\\"dataset_format\\\":\\\"{\\\\\\\"csv\\\\\\\": {\\\\\\\"header\\\\\\\": true, \\\\\\\"output_columns_position\\\\\\\": \\\\\\\"START\\\\\\\"}}\\\"},\\\"RoleArn\\\":\\\"arn:aws:iam::342965497847:role/exp01-dev-modelexample-sagemaker-role\\\",\\\"ExperimentConfig\\\":{\\\"ExperimentName\\\":\\\"mlops-modelexample\\\",\\\"TrialName\\\":\\\"mlops-modelexample-18714106-0eaa-48ad-924d-804c7a5b6392\\\",\\\"TrialComponentDisplayName\\\":\\\"Baseline\\\"},\\\"ProcessingJobArn\\\":\\\"arn:aws:sagemaker:eu-west-1:342965497847:processing-job/mlops-modelexample-pbl-18714106-0eaa-48ad-924d-804c7a5b6392\\\",\\\"ProcessingJobStatus\\\":\\\"Completed\\\",\\\"ExitMessage\\\":\\\"Completed: Job completed successfully with no violations.\\\",\\\"ProcessingEndTime\\\":1.622808148E12,\\\"ProcessingStartTime\\\":1.622808065E12,\\\"LastModifiedTime\\\":1.622808148E12,\\\"CreationTime\\\":1.62280784E12,\\\"Tags\\\":{\\\"GitBranch\\\":\\\"master\\\",\\\"MANAGED_BY_AWS\\\":\\\"STARTED_BY_STEP_FUNCTIONS\\\",\\\"DataVersionId\\\":\\\"xDfDaEeQi3UeIsDlhKsD7jA8qMtvREhI\\\",\\\"GitCommitHash\\\":\\\"58dd0d5bfdbb539684995d305bdce97f60be7104\\\",\\\"AWS_STEP_FUNCTIONS_EXECUTION_ARN\\\":\\\"arn:aws:states:eu-west-1:342965497847:execution:modelexample:ba075952-5fcd-4d7e-b31a-08dd199f2264\\\"}},{\\\"ExperimentName\\\":\\\"mlops-modelexample\\\",\\\"TrialName\\\":\\\"mlops-modelexample-18714106-0eaa-48ad-924d-804c7a5b6392\\\",\\\"GitBranch\\\":\\\"master\\\",\\\"GitCommitHash\\\":\\\"58dd0d5bfdbb539684995d305bdce97f60be7104\\\",\\\"DataVersionId\\\":\\\"xDfDaEeQi3UeIsDlhKsD7jA8qMtvREhI\\\",\\\"BaselineJobName\\\":\\\"mlops-modelexample-pbl-18714106-0eaa-48ad-924d-804c7a5b6392\\\",\\\"BaselineOutputUri\\\":\\\"s3://sagemaker-eu-west-1-342965497847/modelexample/monitoring/baseline/mlops-modelexample-pbl-18714106-0eaa-48ad-924d-804c7a5b6392\\\",\\\"TrainingJobName\\\":\\\"mlops-modelexample-18714106-0eaa-48ad-924d-804c7a5b6392\\\",\\\"CreateTrialResults\\\":{\\\"ExecutedVersion\\\":\\\"$LATEST\\\",\\\"Payload\\\":{\\\"statusCode\\\":200,\\\"results\\\":{\\\"ExperimentCreated\\\":true,\\\"TrialCreated\\\":false}},\\\"SdkHttpMetadata\\\":{\\\"AllHttpHeaders\\\":{\\\"X-Amz-Executed-Version\\\":[\\\"$LATEST\\\"],\\\"x-amzn-Remapped-Content-Length\\\":[\\\"0\\\"],\\\"Connection\\\":[\\\"keep-alive\\\"],\\\"x-amzn-RequestId\\\":[\\\"7555adaa-7aab-4f9f-aa4f-e1c6bb06e997\\\"],\\\"Content-Length\\\":[\\\"82\\\"],\\\"Date\\\":[\\\"Fri, 04 Jun 2021 11:57:19 GMT\\\"],\\\"X-Amzn-Trace-Id\\\":[\\\"root=1-60ba151e-1a17c28c3a7bf7a153d9b0bc;sampled=0\\\"],\\\"Content-Type\\\":[\\\"application/json\\\"]},\\\"HttpHeaders\\\":{\\\"Connection\\\":\\\"keep-alive\\\",\\\"Content-Length\\\":\\\"82\\\",\\\"Content-Type\\\":\\\"application/json\\\",\\\"Date\\\":\\\"Fri, 04 Jun 2021 11:57:19 GMT\\\",\\\"X-Amz-Executed-Version\\\":\\\"$LATEST\\\",\\\"x-amzn-Remapped-Content-Length\\\":\\\"0\\\",\\\"x-amzn-RequestId\\\":\\\"7555adaa-7aab-4f9f-aa4f-e1c6bb06e997\\\",\\\"X-Amzn-Trace-Id\\\":\\\"root=1-60ba151e-1a17c28c3a7bf7a153d9b0bc;sampled=0\\\"},\\\"HttpStatusCode\\\":200},\\\"SdkResponseMetadata\\\":{\\\"RequestId\\\":\\\"7555adaa-7aab-4f9f-aa4f-e1c6bb06e997\\\"},\\\"StatusCode\\\":200},\\\"TrainingResults\\\":{\\\"TrainingJobName\\\":\\\"mlops-modelexample-18714106-0eaa-48ad-924d-804c7a5b6392\\\",\\\"TrainingJobArn\\\":\\\"arn:aws:sagemaker:eu-west-1:342965497847:training-job/mlops-modelexample-18714106-0eaa-48ad-924d-804c7a5b6392\\\",\\\"ModelArtifacts\\\":{\\\"S3ModelArtifacts\\\":\\\"s3://sagemaker-eu-west-1-342965497847/modelexample/mlops-modelexample-18714106-0eaa-48ad-924d-804c7a5b6392/output/model.tar.gz\\\"},\\\"TrainingJobStatus\\\":\\\"Completed\\\",\\\"SecondaryStatus\\\":\\\"Completed\\\",\\\"HyperParameters\\\":{\\\"eta\\\":\\\"0.2\\\",\\\"max_depth\\\":\\\"9\\\",\\\"early_stopping_rounds\\\":\\\"10\\\",\\\"num_round\\\":\\\"50\\\",\\\"subsample\\\":\\\"0.8\\\",\\\"gamma\\\":\\\"4\\\",\\\"min_child_weight\\\":\\\"300\\\",\\\"objective\\\":\\\"reg:linear\\\"},\\\"AlgorithmSpecification\\\":{\\\"TrainingImage\\\":\\\"685385470294.dkr.ecr.eu-west-1.amazonaws.com/xgboost:latest\\\",\\\"TrainingInputMode\\\":\\\"FILE\\\"},\\\"RoleArn\\\":\\\"arn:aws:iam::342965497847:role/exp01-dev-modelexample-sagemaker-role\\\",\\\"InputDataConfig\\\":[{\\\"ChannelName\\\":\\\"train\\\",\\\"DataSource\\\":{\\\"S3DataSource\\\":{\\\"S3DataType\\\":\\\"S3_PREFIX\\\",\\\"S3Uri\\\":\\\"s3://exp01-dev-modelexample-data/modelsplit/v1/data/training/train.csv\\\",\\\"S3DataDistributionType\\\":\\\"FULLY_REPLICATED\\\"}},\\\"ContentType\\\":\\\"csv\\\",\\\"CompressionType\\\":\\\"NONE\\\",\\\"RecordWrapperType\\\":\\\"NONE\\\"},{\\\"ChannelName\\\":\\\"validation\\\",\\\"DataSource\\\":{\\\"S3DataSource\\\":{\\\"S3DataType\\\":\\\"S3_PREFIX\\\",\\\"S3Uri\\\":\\\"s3://exp01-dev-modelexample-data/modelsplit/v1/data/validation/validation.csv\\\",\\\"S3DataDistributionType\\\":\\\"FULLY_REPLICATED\\\"}},\\\"ContentType\\\":\\\"csv\\\",\\\"CompressionType\\\":\\\"NONE\\\",\\\"RecordWrapperType\\\":\\\"NONE\\\"}],\\\"OutputDataConfig\\\":{\\\"S3OutputPath\\\":\\\"s3://sagemaker-eu-west-1-342965497847/modelexample\\\"},\\\"ResourceConfig\\\":{\\\"InstanceType\\\":\\\"ml.m4.xlarge\\\",\\\"InstanceCount\\\":1.0,\\\"VolumeSizeInGB\\\":30.0},\\\"StoppingCondition\\\":{\\\"MaxRuntimeInSeconds\\\":86400.0},\\\"CreationTime\\\":1.622807840058E12,\\\"TrainingStartTime\\\":1.6228079771E12,\\\"TrainingEndTime\\\":1.622808045679E12,\\\"LastModifiedTime\\\":1.622808045679E12,\\\"SecondaryStatusTransitions\\\":[{\\\"Status\\\":\\\"Starting\\\",\\\"StartTime\\\":1.622807840058E12,\\\"EndTime\\\":1.6228079771E12,\\\"StatusMessage\\\":\\\"Preparing the instances for training\\\"},{\\\"Status\\\":\\\"Downloading\\\",\\\"StartTime\\\":1.6228079771E12,\\\"EndTime\\\":1.622808006819E12,\\\"StatusMessage\\\":\\\"Downloading input data\\\"},{\\\"Status\\\":\\\"Training\\\",\\\"StartTime\\\":1.622808006819E12,\\\"EndTime\\\":1.62280803863E12,\\\"StatusMessage\\\":\\\"Training image download completed. Training in progress.\\\"},{\\\"Status\\\":\\\"Uploading\\\",\\\"StartTime\\\":1.62280803863E12,\\\"EndTime\\\":1.622808045679E12,\\\"StatusMessage\\\":\\\"Uploading generated training model\\\"},{\\\"Status\\\":\\\"Completed\\\",\\\"StartTime\\\":1.622808045679E12,\\\"EndTime\\\":1.622808045679E12,\\\"StatusMessage\\\":\\\"Training job completed\\\"}],\\\"Tags\\\":{\\\"GitBranch\\\":\\\"master\\\",\\\"MANAGED_BY_AWS\\\":\\\"STARTED_BY_STEP_FUNCTIONS\\\",\\\"DataVersionId\\\":\\\"xDfDaEeQi3UeIsDlhKsD7jA8qMtvREhI\\\",\\\"GitCommitHash\\\":\\\"58dd0d5bfdbb539684995d305bdce97f60be7104\\\",\\\"AWS_STEP_FUNCTIONS_EXECUTION_ARN\\\":\\\"arn:aws:states:eu-west-1:342965497847:execution:modelexample:ba075952-5fcd-4d7e-b31a-08dd199f2264\\\"}},\\\"ModelStepResults\\\":{\\\"ModelArn\\\":\\\"arn:aws:sagemaker:eu-west-1:342965497847:model/mlops-modelexample-18714106-0eaa-48ad-924d-804c7a5b6392\\\",\\\"SdkHttpMetadata\\\":{\\\"AllHttpHeaders\\\":{\\\"x-amzn-RequestId\\\":[\\\"b62ac0e6-3e11-45fe-ba4a-8345c6259b14\\\"],\\\"Content-Length\\\":[\\\"117\\\"],\\\"Date\\\":[\\\"Fri, 04 Jun 2021 12:00:50 GMT\\\"],\\\"Content-Type\\\":[\\\"application/x-amz-json-1.1\\\"]},\\\"HttpHeaders\\\":{\\\"Content-Length\\\":\\\"117\\\",\\\"Content-Type\\\":\\\"application/x-amz-json-1.1\\\",\\\"Date\\\":\\\"Fri, 04 Jun 2021 12:00:50 GMT\\\",\\\"x-amzn-RequestId\\\":\\\"b62ac0e6-3e11-45fe-ba4a-8345c6259b14\\\"},\\\"HttpStatusCode\\\":200},\\\"SdkResponseMetadata\\\":{\\\"RequestId\\\":\\\"b62ac0e6-3e11-45fe-ba4a-8345c6259b14\\\"}},\\\"QueryTrainingResults\\\":{\\\"ExecutedVersion\\\":\\\"$LATEST\\\",\\\"Payload\\\":{\\\"statusCode\\\":200,\\\"results\\\":{\\\"TrainingJobName\\\":\\\"mlops-modelexample-18714106-0eaa-48ad-924d-804c7a5b6392\\\",\\\"TrainingJobStatus\\\":\\\"Completed\\\",\\\"TrainingMetrics\\\":[{\\\"MetricName\\\":\\\"train:rmse\\\",\\\"Value\\\":3.6703100204467773,\\\"Timestamp\\\":1.622808034E9},{\\\"MetricName\\\":\\\"validation:rmse\\\",\\\"Value\\\":3.65408992767334,\\\"Timestamp\\\":1.622808034E9}]}},\\\"SdkHttpMetadata\\\":{\\\"AllHttpHeaders\\\":{\\\"X-Amz-Executed-Version\\\":[\\\"$LATEST\\\"],\\\"x-amzn-Remapped-Content-Length\\\":[\\\"0\\\"],\\\"Connection\\\":[\\\"keep-alive\\\"],\\\"x-amzn-RequestId\\\":[\\\"aecd7326-4461-4636-9db3-0080eb72f992\\\"],\\\"Content-Length\\\":[\\\"340\\\"],\\\"Date\\\":[\\\"Fri, 04 Jun 2021 12:00:51 GMT\\\"],\\\"X-Amzn-Trace-Id\\\":[\\\"root=1-60ba15f2-7c5972d12bf7105373aca10b;sampled=0\\\"],\\\"Content-Type\\\":[\\\"application/json\\\"]},\\\"HttpHeaders\\\":{\\\"Connection\\\":\\\"keep-alive\\\",\\\"Content-Length\\\":\\\"340\\\",\\\"Content-Type\\\":\\\"application/json\\\",\\\"Date\\\":\\\"Fri, 04 Jun 2021 12:00:51 GMT\\\",\\\"X-Amz-Executed-Version\\\":\\\"$LATEST\\\",\\\"x-amzn-Remapped-Content-Length\\\":\\\"0\\\",\\\"x-amzn-RequestId\\\":\\\"aecd7326-4461-4636-9db3-0080eb72f992\\\",\\\"X-Amzn-Trace-Id\\\":\\\"root=1-60ba15f2-7c5972d12bf7105373aca10b;sampled=0\\\"},\\\"HttpStatusCode\\\":200},\\\"SdkResponseMetadata\\\":{\\\"RequestId\\\":\\\"aecd7326-4461-4636-9db3-0080eb72f992\\\"},\\\"StatusCode\\\":200}}]\", \"outputDetails\": {\"truncated\": false}}}, {\"timestamp\": 1622808157.323, \"type\": \"ExecutionSucceeded\", \"id\": 37, \"previousEventId\": 36, \"executionSucceededEventDetails\": {\"output\": \"[{\\\"ProcessingInputs\\\":[{\\\"InputName\\\":\\\"baseline_dataset_input\\\",\\\"AppManaged\\\":false,\\\"S3Input\\\":{\\\"S3Uri\\\":\\\"s3://exp01-dev-modelexample-data/modelsplit/v1/data/baseline/baseline.csv\\\",\\\"LocalPath\\\":\\\"/opt/ml/processing/input/baseline_dataset_input\\\",\\\"S3DataType\\\":\\\"S3_PREFIX\\\",\\\"S3InputMode\\\":\\\"FILE\\\",\\\"S3DataDistributionType\\\":\\\"FULLYREPLICATED\\\"}}],\\\"ProcessingOutputConfig\\\":{\\\"Outputs\\\":[{\\\"OutputName\\\":\\\"monitoring_output\\\",\\\"S3Output\\\":{\\\"S3Uri\\\":\\\"s3://sagemaker-eu-west-1-342965497847/modelexample/monitoring/baseline/mlops-modelexample-pbl-18714106-0eaa-48ad-924d-804c7a5b6392\\\",\\\"LocalPath\\\":\\\"/opt/ml/processing/output\\\",\\\"S3UploadMode\\\":\\\"END_OF_JOB\\\"},\\\"AppManaged\\\":false}]},\\\"ProcessingJobName\\\":\\\"mlops-modelexample-pbl-18714106-0eaa-48ad-924d-804c7a5b6392\\\",\\\"ProcessingResources\\\":{\\\"ClusterConfig\\\":{\\\"InstanceCount\\\":1.0,\\\"InstanceType\\\":\\\"ml.m5.xlarge\\\",\\\"VolumeSizeInGB\\\":30.0}},\\\"StoppingCondition\\\":{\\\"MaxRuntimeInSeconds\\\":1800.0},\\\"AppSpecification\\\":{\\\"ImageUri\\\":\\\"468650794304.dkr.ecr.eu-west-1.amazonaws.com/sagemaker-model-monitor-analyzer\\\"},\\\"Environment\\\":{\\\"publish_cloudwatch_metrics\\\":\\\"Disabled\\\",\\\"dataset_source\\\":\\\"/opt/ml/processing/input/baseline_dataset_input\\\",\\\"output_path\\\":\\\"/opt/ml/processing/output\\\",\\\"dataset_format\\\":\\\"{\\\\\\\"csv\\\\\\\": {\\\\\\\"header\\\\\\\": true, \\\\\\\"output_columns_position\\\\\\\": \\\\\\\"START\\\\\\\"}}\\\"},\\\"RoleArn\\\":\\\"arn:aws:iam::342965497847:role/exp01-dev-modelexample-sagemaker-role\\\",\\\"ExperimentConfig\\\":{\\\"ExperimentName\\\":\\\"mlops-modelexample\\\",\\\"TrialName\\\":\\\"mlops-modelexample-18714106-0eaa-48ad-924d-804c7a5b6392\\\",\\\"TrialComponentDisplayName\\\":\\\"Baseline\\\"},\\\"ProcessingJobArn\\\":\\\"arn:aws:sagemaker:eu-west-1:342965497847:processing-job/mlops-modelexample-pbl-18714106-0eaa-48ad-924d-804c7a5b6392\\\",\\\"ProcessingJobStatus\\\":\\\"Completed\\\",\\\"ExitMessage\\\":\\\"Completed: Job completed successfully with no violations.\\\",\\\"ProcessingEndTime\\\":1.622808148E12,\\\"ProcessingStartTime\\\":1.622808065E12,\\\"LastModifiedTime\\\":1.622808148E12,\\\"CreationTime\\\":1.62280784E12,\\\"Tags\\\":{\\\"GitBranch\\\":\\\"master\\\",\\\"MANAGED_BY_AWS\\\":\\\"STARTED_BY_STEP_FUNCTIONS\\\",\\\"DataVersionId\\\":\\\"xDfDaEeQi3UeIsDlhKsD7jA8qMtvREhI\\\",\\\"GitCommitHash\\\":\\\"58dd0d5bfdbb539684995d305bdce97f60be7104\\\",\\\"AWS_STEP_FUNCTIONS_EXECUTION_ARN\\\":\\\"arn:aws:states:eu-west-1:342965497847:execution:modelexample:ba075952-5fcd-4d7e-b31a-08dd199f2264\\\"}},{\\\"ExperimentName\\\":\\\"mlops-modelexample\\\",\\\"TrialName\\\":\\\"mlops-modelexample-18714106-0eaa-48ad-924d-804c7a5b6392\\\",\\\"GitBranch\\\":\\\"master\\\",\\\"GitCommitHash\\\":\\\"58dd0d5bfdbb539684995d305bdce97f60be7104\\\",\\\"DataVersionId\\\":\\\"xDfDaEeQi3UeIsDlhKsD7jA8qMtvREhI\\\",\\\"BaselineJobName\\\":\\\"mlops-modelexample-pbl-18714106-0eaa-48ad-924d-804c7a5b6392\\\",\\\"BaselineOutputUri\\\":\\\"s3://sagemaker-eu-west-1-342965497847/modelexample/monitoring/baseline/mlops-modelexample-pbl-18714106-0eaa-48ad-924d-804c7a5b6392\\\",\\\"TrainingJobName\\\":\\\"mlops-modelexample-18714106-0eaa-48ad-924d-804c7a5b6392\\\",\\\"CreateTrialResults\\\":{\\\"ExecutedVersion\\\":\\\"$LATEST\\\",\\\"Payload\\\":{\\\"statusCode\\\":200,\\\"results\\\":{\\\"ExperimentCreated\\\":true,\\\"TrialCreated\\\":false}},\\\"SdkHttpMetadata\\\":{\\\"AllHttpHeaders\\\":{\\\"X-Amz-Executed-Version\\\":[\\\"$LATEST\\\"],\\\"x-amzn-Remapped-Content-Length\\\":[\\\"0\\\"],\\\"Connection\\\":[\\\"keep-alive\\\"],\\\"x-amzn-RequestId\\\":[\\\"7555adaa-7aab-4f9f-aa4f-e1c6bb06e997\\\"],\\\"Content-Length\\\":[\\\"82\\\"],\\\"Date\\\":[\\\"Fri, 04 Jun 2021 11:57:19 GMT\\\"],\\\"X-Amzn-Trace-Id\\\":[\\\"root=1-60ba151e-1a17c28c3a7bf7a153d9b0bc;sampled=0\\\"],\\\"Content-Type\\\":[\\\"application/json\\\"]},\\\"HttpHeaders\\\":{\\\"Connection\\\":\\\"keep-alive\\\",\\\"Content-Length\\\":\\\"82\\\",\\\"Content-Type\\\":\\\"application/json\\\",\\\"Date\\\":\\\"Fri, 04 Jun 2021 11:57:19 GMT\\\",\\\"X-Amz-Executed-Version\\\":\\\"$LATEST\\\",\\\"x-amzn-Remapped-Content-Length\\\":\\\"0\\\",\\\"x-amzn-RequestId\\\":\\\"7555adaa-7aab-4f9f-aa4f-e1c6bb06e997\\\",\\\"X-Amzn-Trace-Id\\\":\\\"root=1-60ba151e-1a17c28c3a7bf7a153d9b0bc;sampled=0\\\"},\\\"HttpStatusCode\\\":200},\\\"SdkResponseMetadata\\\":{\\\"RequestId\\\":\\\"7555adaa-7aab-4f9f-aa4f-e1c6bb06e997\\\"},\\\"StatusCode\\\":200},\\\"TrainingResults\\\":{\\\"TrainingJobName\\\":\\\"mlops-modelexample-18714106-0eaa-48ad-924d-804c7a5b6392\\\",\\\"TrainingJobArn\\\":\\\"arn:aws:sagemaker:eu-west-1:342965497847:training-job/mlops-modelexample-18714106-0eaa-48ad-924d-804c7a5b6392\\\",\\\"ModelArtifacts\\\":{\\\"S3ModelArtifacts\\\":\\\"s3://sagemaker-eu-west-1-342965497847/modelexample/mlops-modelexample-18714106-0eaa-48ad-924d-804c7a5b6392/output/model.tar.gz\\\"},\\\"TrainingJobStatus\\\":\\\"Completed\\\",\\\"SecondaryStatus\\\":\\\"Completed\\\",\\\"HyperParameters\\\":{\\\"eta\\\":\\\"0.2\\\",\\\"max_depth\\\":\\\"9\\\",\\\"early_stopping_rounds\\\":\\\"10\\\",\\\"num_round\\\":\\\"50\\\",\\\"subsample\\\":\\\"0.8\\\",\\\"gamma\\\":\\\"4\\\",\\\"min_child_weight\\\":\\\"300\\\",\\\"objective\\\":\\\"reg:linear\\\"},\\\"AlgorithmSpecification\\\":{\\\"TrainingImage\\\":\\\"685385470294.dkr.ecr.eu-west-1.amazonaws.com/xgboost:latest\\\",\\\"TrainingInputMode\\\":\\\"FILE\\\"},\\\"RoleArn\\\":\\\"arn:aws:iam::342965497847:role/exp01-dev-modelexample-sagemaker-role\\\",\\\"InputDataConfig\\\":[{\\\"ChannelName\\\":\\\"train\\\",\\\"DataSource\\\":{\\\"S3DataSource\\\":{\\\"S3DataType\\\":\\\"S3_PREFIX\\\",\\\"S3Uri\\\":\\\"s3://exp01-dev-modelexample-data/modelsplit/v1/data/training/train.csv\\\",\\\"S3DataDistributionType\\\":\\\"FULLY_REPLICATED\\\"}},\\\"ContentType\\\":\\\"csv\\\",\\\"CompressionType\\\":\\\"NONE\\\",\\\"RecordWrapperType\\\":\\\"NONE\\\"},{\\\"ChannelName\\\":\\\"validation\\\",\\\"DataSource\\\":{\\\"S3DataSource\\\":{\\\"S3DataType\\\":\\\"S3_PREFIX\\\",\\\"S3Uri\\\":\\\"s3://exp01-dev-modelexample-data/modelsplit/v1/data/validation/validation.csv\\\",\\\"S3DataDistributionType\\\":\\\"FULLY_REPLICATED\\\"}},\\\"ContentType\\\":\\\"csv\\\",\\\"CompressionType\\\":\\\"NONE\\\",\\\"RecordWrapperType\\\":\\\"NONE\\\"}],\\\"OutputDataConfig\\\":{\\\"S3OutputPath\\\":\\\"s3://sagemaker-eu-west-1-342965497847/modelexample\\\"},\\\"ResourceConfig\\\":{\\\"InstanceType\\\":\\\"ml.m4.xlarge\\\",\\\"InstanceCount\\\":1.0,\\\"VolumeSizeInGB\\\":30.0},\\\"StoppingCondition\\\":{\\\"MaxRuntimeInSeconds\\\":86400.0},\\\"CreationTime\\\":1.622807840058E12,\\\"TrainingStartTime\\\":1.6228079771E12,\\\"TrainingEndTime\\\":1.622808045679E12,\\\"LastModifiedTime\\\":1.622808045679E12,\\\"SecondaryStatusTransitions\\\":[{\\\"Status\\\":\\\"Starting\\\",\\\"StartTime\\\":1.622807840058E12,\\\"EndTime\\\":1.6228079771E12,\\\"StatusMessage\\\":\\\"Preparing the instances for training\\\"},{\\\"Status\\\":\\\"Downloading\\\",\\\"StartTime\\\":1.6228079771E12,\\\"EndTime\\\":1.622808006819E12,\\\"StatusMessage\\\":\\\"Downloading input data\\\"},{\\\"Status\\\":\\\"Training\\\",\\\"StartTime\\\":1.622808006819E12,\\\"EndTime\\\":1.62280803863E12,\\\"StatusMessage\\\":\\\"Training image download completed. Training in progress.\\\"},{\\\"Status\\\":\\\"Uploading\\\",\\\"StartTime\\\":1.62280803863E12,\\\"EndTime\\\":1.622808045679E12,\\\"StatusMessage\\\":\\\"Uploading generated training model\\\"},{\\\"Status\\\":\\\"Completed\\\",\\\"StartTime\\\":1.622808045679E12,\\\"EndTime\\\":1.622808045679E12,\\\"StatusMessage\\\":\\\"Training job completed\\\"}],\\\"Tags\\\":{\\\"GitBranch\\\":\\\"master\\\",\\\"MANAGED_BY_AWS\\\":\\\"STARTED_BY_STEP_FUNCTIONS\\\",\\\"DataVersionId\\\":\\\"xDfDaEeQi3UeIsDlhKsD7jA8qMtvREhI\\\",\\\"GitCommitHash\\\":\\\"58dd0d5bfdbb539684995d305bdce97f60be7104\\\",\\\"AWS_STEP_FUNCTIONS_EXECUTION_ARN\\\":\\\"arn:aws:states:eu-west-1:342965497847:execution:modelexample:ba075952-5fcd-4d7e-b31a-08dd199f2264\\\"}},\\\"ModelStepResults\\\":{\\\"ModelArn\\\":\\\"arn:aws:sagemaker:eu-west-1:342965497847:model/mlops-modelexample-18714106-0eaa-48ad-924d-804c7a5b6392\\\",\\\"SdkHttpMetadata\\\":{\\\"AllHttpHeaders\\\":{\\\"x-amzn-RequestId\\\":[\\\"b62ac0e6-3e11-45fe-ba4a-8345c6259b14\\\"],\\\"Content-Length\\\":[\\\"117\\\"],\\\"Date\\\":[\\\"Fri, 04 Jun 2021 12:00:50 GMT\\\"],\\\"Content-Type\\\":[\\\"application/x-amz-json-1.1\\\"]},\\\"HttpHeaders\\\":{\\\"Content-Length\\\":\\\"117\\\",\\\"Content-Type\\\":\\\"application/x-amz-json-1.1\\\",\\\"Date\\\":\\\"Fri, 04 Jun 2021 12:00:50 GMT\\\",\\\"x-amzn-RequestId\\\":\\\"b62ac0e6-3e11-45fe-ba4a-8345c6259b14\\\"},\\\"HttpStatusCode\\\":200},\\\"SdkResponseMetadata\\\":{\\\"RequestId\\\":\\\"b62ac0e6-3e11-45fe-ba4a-8345c6259b14\\\"}},\\\"QueryTrainingResults\\\":{\\\"ExecutedVersion\\\":\\\"$LATEST\\\",\\\"Payload\\\":{\\\"statusCode\\\":200,\\\"results\\\":{\\\"TrainingJobName\\\":\\\"mlops-modelexample-18714106-0eaa-48ad-924d-804c7a5b6392\\\",\\\"TrainingJobStatus\\\":\\\"Completed\\\",\\\"TrainingMetrics\\\":[{\\\"MetricName\\\":\\\"train:rmse\\\",\\\"Value\\\":3.6703100204467773,\\\"Timestamp\\\":1.622808034E9},{\\\"MetricName\\\":\\\"validation:rmse\\\",\\\"Value\\\":3.65408992767334,\\\"Timestamp\\\":1.622808034E9}]}},\\\"SdkHttpMetadata\\\":{\\\"AllHttpHeaders\\\":{\\\"X-Amz-Executed-Version\\\":[\\\"$LATEST\\\"],\\\"x-amzn-Remapped-Content-Length\\\":[\\\"0\\\"],\\\"Connection\\\":[\\\"keep-alive\\\"],\\\"x-amzn-RequestId\\\":[\\\"aecd7326-4461-4636-9db3-0080eb72f992\\\"],\\\"Content-Length\\\":[\\\"340\\\"],\\\"Date\\\":[\\\"Fri, 04 Jun 2021 12:00:51 GMT\\\"],\\\"X-Amzn-Trace-Id\\\":[\\\"root=1-60ba15f2-7c5972d12bf7105373aca10b;sampled=0\\\"],\\\"Content-Type\\\":[\\\"application/json\\\"]},\\\"HttpHeaders\\\":{\\\"Connection\\\":\\\"keep-alive\\\",\\\"Content-Length\\\":\\\"340\\\",\\\"Content-Type\\\":\\\"application/json\\\",\\\"Date\\\":\\\"Fri, 04 Jun 2021 12:00:51 GMT\\\",\\\"X-Amz-Executed-Version\\\":\\\"$LATEST\\\",\\\"x-amzn-Remapped-Content-Length\\\":\\\"0\\\",\\\"x-amzn-RequestId\\\":\\\"aecd7326-4461-4636-9db3-0080eb72f992\\\",\\\"X-Amzn-Trace-Id\\\":\\\"root=1-60ba15f2-7c5972d12bf7105373aca10b;sampled=0\\\"},\\\"HttpStatusCode\\\":200},\\\"SdkResponseMetadata\\\":{\\\"RequestId\\\":\\\"aecd7326-4461-4636-9db3-0080eb72f992\\\"},\\\"StatusCode\\\":200}}]\", \"outputDetails\": {\"truncated\": false}}}] };\n",
       "\n",
       "    var graph = new sfn.StateMachineExecutionGraph(definition, events, elementId, options);\n",
       "    graph.render();\n",
       "});\n",
       "\n",
       "</script>\n"
      ],
      "text/plain": [
       "<IPython.core.display.HTML object>"
      ]
     },
     "execution_count": 79,
     "metadata": {},
     "output_type": "execute_result"
    }
   ],
   "source": [
    "executions = workflow.list_executions()\n",
    "if not executions:\n",
    "    raise(Exception('Please wait.  Training not started'))\n",
    "    \n",
    "executions[0].render_progress()"
   ]
  },
  {
   "cell_type": "markdown",
   "metadata": {},
   "source": [
    "### Review Build Script\n",
    "\n",
    "While you wait for the training job to complete, let's take a look at the `run.py` code which was used by the AWS CodeBuild process.\n",
    "\n",
    "This script takes all of the input parameters, including the dataset locations and hyperparameters which you saved to JSON files earlier in this notebook, and uses them to generate the templates which the pipeline needs to run the training job. It *does not* create the actual Step Functions instance - it only generates the templates which define the Step Functions workflow, as well as the CloudFormation input templates which CodePipeline uses to instantiate the Step Functions instance.\n",
    "\n",
    "Step-by-step, the script does the following:\n",
    "\n",
    "1. It collects all the input parameters it needs to generate the templates. This includes information about the environment container needed to run the training job, the input and output data locations, IAM roles needed by various components, encryption keys, and more. It then sets up some basic parameters like the AWS region and the function names.\n",
    "1. If the input parameters specify an environment container stored in ECR, it fetches that container. Otherwise, it fetches the URI of the AWS managed environment container needed for the training job.\n",
    "1. It reads the input data JSON file which you generated earlier in this notebook (and which was included in the zip source for the pipeline), thereby fetching the locations of the train, validation, and baseline data files. Then it formats more parameters which will be needed later in the script, including version IDs and output data locations.\n",
    "1. It reads the hyperparameter JSON file which you generated earlier in this notebook.\n",
    "1. It defines the Step Functions workflow, starting with the input schema, followed by each step of the workflow (i.e. Create Experiment, Baseline Job, Training Job), and finally combines those steps into a workflow graph. \n",
    "1. The workflow graph is saved to file, along with a file containing all of the input parameters saved according to the schema defined in the workflow.\n",
    "1. It saves parameters to file which will be used by CloudFormation to instantiate the Step Functions workflow."
   ]
  },
  {
   "cell_type": "code",
   "execution_count": 80,
   "metadata": {},
   "outputs": [
    {
     "name": "stdout",
     "output_type": "stream",
     "text": [
      "\u001b[34mimport\u001b[39;49;00m \u001b[04m\u001b[36margparse\u001b[39;49;00m\n",
      "\u001b[34mimport\u001b[39;49;00m \u001b[04m\u001b[36mjson\u001b[39;49;00m\n",
      "\u001b[34mimport\u001b[39;49;00m \u001b[04m\u001b[36mos\u001b[39;49;00m\n",
      "\u001b[34mimport\u001b[39;49;00m \u001b[04m\u001b[36msys\u001b[39;49;00m\n",
      "\u001b[34mimport\u001b[39;49;00m \u001b[04m\u001b[36mtime\u001b[39;49;00m\n",
      "\n",
      "\u001b[34mimport\u001b[39;49;00m \u001b[04m\u001b[36mboto3\u001b[39;49;00m\n",
      "\n",
      "\u001b[34mimport\u001b[39;49;00m \u001b[04m\u001b[36msagemaker\u001b[39;49;00m\n",
      "\u001b[34mfrom\u001b[39;49;00m \u001b[04m\u001b[36msagemaker\u001b[39;49;00m\u001b[04m\u001b[36m.\u001b[39;49;00m\u001b[04m\u001b[36mimage_uris\u001b[39;49;00m \u001b[34mimport\u001b[39;49;00m retrieve\n",
      "\u001b[34mfrom\u001b[39;49;00m \u001b[04m\u001b[36msagemaker\u001b[39;49;00m\u001b[04m\u001b[36m.\u001b[39;49;00m\u001b[04m\u001b[36mprocessing\u001b[39;49;00m \u001b[34mimport\u001b[39;49;00m Processor, ProcessingInput, ProcessingOutput\n",
      "\u001b[34mfrom\u001b[39;49;00m \u001b[04m\u001b[36msagemaker\u001b[39;49;00m\u001b[04m\u001b[36m.\u001b[39;49;00m\u001b[04m\u001b[36mmodel_monitor\u001b[39;49;00m\u001b[04m\u001b[36m.\u001b[39;49;00m\u001b[04m\u001b[36mdataset_format\u001b[39;49;00m \u001b[34mimport\u001b[39;49;00m DatasetFormat\n",
      "\n",
      "\u001b[34mimport\u001b[39;49;00m \u001b[04m\u001b[36mstepfunctions\u001b[39;49;00m\n",
      "\u001b[34mfrom\u001b[39;49;00m \u001b[04m\u001b[36mstepfunctions\u001b[39;49;00m \u001b[34mimport\u001b[39;49;00m steps\n",
      "\u001b[34mfrom\u001b[39;49;00m \u001b[04m\u001b[36mstepfunctions\u001b[39;49;00m\u001b[04m\u001b[36m.\u001b[39;49;00m\u001b[04m\u001b[36minputs\u001b[39;49;00m \u001b[34mimport\u001b[39;49;00m ExecutionInput\n",
      "\u001b[34mfrom\u001b[39;49;00m \u001b[04m\u001b[36mstepfunctions\u001b[39;49;00m\u001b[04m\u001b[36m.\u001b[39;49;00m\u001b[04m\u001b[36mworkflow\u001b[39;49;00m \u001b[34mimport\u001b[39;49;00m Workflow\n",
      "\n",
      "\n",
      "\u001b[34mdef\u001b[39;49;00m \u001b[32mcreate_experiment_step\u001b[39;49;00m(create_experiment_function_name):\n",
      "    create_experiment_step = steps.compute.LambdaStep(\n",
      "        \u001b[33m\"\u001b[39;49;00m\u001b[33mCreate Experiment\u001b[39;49;00m\u001b[33m\"\u001b[39;49;00m,\n",
      "        parameters={\n",
      "            \u001b[33m\"\u001b[39;49;00m\u001b[33mFunctionName\u001b[39;49;00m\u001b[33m\"\u001b[39;49;00m: create_experiment_function_name,\n",
      "            \u001b[33m\"\u001b[39;49;00m\u001b[33mPayload\u001b[39;49;00m\u001b[33m\"\u001b[39;49;00m: {\u001b[33m\"\u001b[39;49;00m\u001b[33mExperimentName.$\u001b[39;49;00m\u001b[33m\"\u001b[39;49;00m: \u001b[33m\"\u001b[39;49;00m\u001b[33m$.ExperimentName\u001b[39;49;00m\u001b[33m\"\u001b[39;49;00m, \u001b[33m\"\u001b[39;49;00m\u001b[33mTrialName.$\u001b[39;49;00m\u001b[33m\"\u001b[39;49;00m: \u001b[33m\"\u001b[39;49;00m\u001b[33m$.TrialName\u001b[39;49;00m\u001b[33m\"\u001b[39;49;00m,},\n",
      "        },\n",
      "        result_path=\u001b[33m\"\u001b[39;49;00m\u001b[33m$.CreateTrialResults\u001b[39;49;00m\u001b[33m\"\u001b[39;49;00m,\n",
      "    )\n",
      "    \u001b[34mreturn\u001b[39;49;00m create_experiment_step\n",
      "\n",
      "\n",
      "\u001b[34mdef\u001b[39;49;00m \u001b[32mcreate_baseline_step\u001b[39;49;00m(input_data, execution_input, region, role):\n",
      "    \u001b[37m# Define the enviornment\u001b[39;49;00m\n",
      "    dataset_format = DatasetFormat.csv()\n",
      "    env = {\n",
      "        \u001b[33m\"\u001b[39;49;00m\u001b[33mdataset_format\u001b[39;49;00m\u001b[33m\"\u001b[39;49;00m: json.dumps(dataset_format),\n",
      "        \u001b[33m\"\u001b[39;49;00m\u001b[33mdataset_source\u001b[39;49;00m\u001b[33m\"\u001b[39;49;00m: \u001b[33m\"\u001b[39;49;00m\u001b[33m/opt/ml/processing/input/baseline_dataset_input\u001b[39;49;00m\u001b[33m\"\u001b[39;49;00m,\n",
      "        \u001b[33m\"\u001b[39;49;00m\u001b[33moutput_path\u001b[39;49;00m\u001b[33m\"\u001b[39;49;00m: \u001b[33m\"\u001b[39;49;00m\u001b[33m/opt/ml/processing/output\u001b[39;49;00m\u001b[33m\"\u001b[39;49;00m,\n",
      "        \u001b[33m\"\u001b[39;49;00m\u001b[33mpublish_cloudwatch_metrics\u001b[39;49;00m\u001b[33m\"\u001b[39;49;00m: \u001b[33m\"\u001b[39;49;00m\u001b[33mDisabled\u001b[39;49;00m\u001b[33m\"\u001b[39;49;00m,  \u001b[37m# Have to be disabled from processing job?\u001b[39;49;00m\n",
      "    }\n",
      "\n",
      "    \u001b[37m# Define the inputs and outputs\u001b[39;49;00m\n",
      "    inputs = [\n",
      "        ProcessingInput(\n",
      "            source=input_data[\u001b[33m\"\u001b[39;49;00m\u001b[33mBaselineUri\u001b[39;49;00m\u001b[33m\"\u001b[39;49;00m],\n",
      "            destination=\u001b[33m\"\u001b[39;49;00m\u001b[33m/opt/ml/processing/input/baseline_dataset_input\u001b[39;49;00m\u001b[33m\"\u001b[39;49;00m,\n",
      "            input_name=\u001b[33m\"\u001b[39;49;00m\u001b[33mbaseline_dataset_input\u001b[39;49;00m\u001b[33m\"\u001b[39;49;00m,\n",
      "        ),\n",
      "    ]\n",
      "    outputs = [\n",
      "        ProcessingOutput(\n",
      "            source=\u001b[33m\"\u001b[39;49;00m\u001b[33m/opt/ml/processing/output\u001b[39;49;00m\u001b[33m\"\u001b[39;49;00m,\n",
      "            destination=execution_input[\u001b[33m\"\u001b[39;49;00m\u001b[33mBaselineOutputUri\u001b[39;49;00m\u001b[33m\"\u001b[39;49;00m],\n",
      "            output_name=\u001b[33m\"\u001b[39;49;00m\u001b[33mmonitoring_output\u001b[39;49;00m\u001b[33m\"\u001b[39;49;00m,\n",
      "        ),\n",
      "    ]\n",
      "\n",
      "    \u001b[37m# Get the default model monitor container\u001b[39;49;00m\n",
      "    monor_monitor_container_uri = retrieve(\n",
      "        region=region, framework=\u001b[33m\"\u001b[39;49;00m\u001b[33mmodel-monitor\u001b[39;49;00m\u001b[33m\"\u001b[39;49;00m, version=\u001b[33m\"\u001b[39;49;00m\u001b[33mlatest\u001b[39;49;00m\u001b[33m\"\u001b[39;49;00m\n",
      "    )\n",
      "\n",
      "    \u001b[37m# Create the processor\u001b[39;49;00m\n",
      "    monitor_analyzer = Processor(\n",
      "        image_uri=monor_monitor_container_uri,\n",
      "        role=role,\n",
      "        instance_count=\u001b[34m1\u001b[39;49;00m,\n",
      "        instance_type=\u001b[33m\"\u001b[39;49;00m\u001b[33mml.m5.xlarge\u001b[39;49;00m\u001b[33m\"\u001b[39;49;00m,\n",
      "        max_runtime_in_seconds=\u001b[34m1800\u001b[39;49;00m,\n",
      "        env=env,\n",
      "    )\n",
      "\n",
      "    \u001b[37m# Create the processing step\u001b[39;49;00m\n",
      "    baseline_step = steps.sagemaker.ProcessingStep(\n",
      "        \u001b[33m\"\u001b[39;49;00m\u001b[33mBaseline Job\u001b[39;49;00m\u001b[33m\"\u001b[39;49;00m,\n",
      "        processor=monitor_analyzer,\n",
      "        job_name=execution_input[\u001b[33m\"\u001b[39;49;00m\u001b[33mBaselineJobName\u001b[39;49;00m\u001b[33m\"\u001b[39;49;00m],\n",
      "        inputs=inputs,\n",
      "        outputs=outputs,\n",
      "        experiment_config={\n",
      "            \u001b[33m\"\u001b[39;49;00m\u001b[33mExperimentName\u001b[39;49;00m\u001b[33m\"\u001b[39;49;00m: execution_input[\u001b[33m\"\u001b[39;49;00m\u001b[33mExperimentName\u001b[39;49;00m\u001b[33m\"\u001b[39;49;00m],  \u001b[37m# '$.ExperimentName',\u001b[39;49;00m\n",
      "            \u001b[33m\"\u001b[39;49;00m\u001b[33mTrialName\u001b[39;49;00m\u001b[33m\"\u001b[39;49;00m: execution_input[\u001b[33m\"\u001b[39;49;00m\u001b[33mTrialName\u001b[39;49;00m\u001b[33m\"\u001b[39;49;00m],\n",
      "            \u001b[33m\"\u001b[39;49;00m\u001b[33mTrialComponentDisplayName\u001b[39;49;00m\u001b[33m\"\u001b[39;49;00m: \u001b[33m\"\u001b[39;49;00m\u001b[33mBaseline\u001b[39;49;00m\u001b[33m\"\u001b[39;49;00m,\n",
      "        },\n",
      "        tags={\n",
      "            \u001b[33m\"\u001b[39;49;00m\u001b[33mGitBranch\u001b[39;49;00m\u001b[33m\"\u001b[39;49;00m: execution_input[\u001b[33m\"\u001b[39;49;00m\u001b[33mGitBranch\u001b[39;49;00m\u001b[33m\"\u001b[39;49;00m],\n",
      "            \u001b[33m\"\u001b[39;49;00m\u001b[33mGitCommitHash\u001b[39;49;00m\u001b[33m\"\u001b[39;49;00m: execution_input[\u001b[33m\"\u001b[39;49;00m\u001b[33mGitCommitHash\u001b[39;49;00m\u001b[33m\"\u001b[39;49;00m],\n",
      "            \u001b[33m\"\u001b[39;49;00m\u001b[33mDataVersionId\u001b[39;49;00m\u001b[33m\"\u001b[39;49;00m: execution_input[\u001b[33m\"\u001b[39;49;00m\u001b[33mDataVersionId\u001b[39;49;00m\u001b[33m\"\u001b[39;49;00m],\n",
      "        },\n",
      "    )\n",
      "\n",
      "    \u001b[37m# Add the catch\u001b[39;49;00m\n",
      "    baseline_step.add_catch(\n",
      "        steps.states.Catch(\n",
      "            error_equals=[\u001b[33m\"\u001b[39;49;00m\u001b[33mStates.TaskFailed\u001b[39;49;00m\u001b[33m\"\u001b[39;49;00m],\n",
      "            next_step=stepfunctions.steps.states.Fail(\n",
      "                \u001b[33m\"\u001b[39;49;00m\u001b[33mBaseline failed\u001b[39;49;00m\u001b[33m\"\u001b[39;49;00m, cause=\u001b[33m\"\u001b[39;49;00m\u001b[33mSageMakerBaselineJobFailed\u001b[39;49;00m\u001b[33m\"\u001b[39;49;00m\n",
      "            ),\n",
      "        )\n",
      "    )\n",
      "    \u001b[34mreturn\u001b[39;49;00m baseline_step\n",
      "\n",
      "\n",
      "\u001b[34mdef\u001b[39;49;00m \u001b[32mget_training_image\u001b[39;49;00m(region):\n",
      "    \u001b[34mreturn\u001b[39;49;00m sagemaker.image_uris.retrieve(region=region, framework=\u001b[33m\"\u001b[39;49;00m\u001b[33mxgboost\u001b[39;49;00m\u001b[33m\"\u001b[39;49;00m, version=\u001b[33m\"\u001b[39;49;00m\u001b[33mlatest\u001b[39;49;00m\u001b[33m\"\u001b[39;49;00m)\n",
      "\n",
      "\n",
      "\u001b[34mdef\u001b[39;49;00m \u001b[32mcreate_training_step\u001b[39;49;00m(\n",
      "    image_uri,\n",
      "    hyperparameters,\n",
      "    input_data,\n",
      "    output_data,\n",
      "    execution_input,\n",
      "    query_training_function_name,\n",
      "    region,\n",
      "    role,\n",
      "):\n",
      "    \u001b[37m# Create the estimator\u001b[39;49;00m\n",
      "    xgb = sagemaker.estimator.Estimator(\n",
      "        image_uri,\n",
      "        role,\n",
      "        instance_count=\u001b[34m1\u001b[39;49;00m,\n",
      "        instance_type=\u001b[33m\"\u001b[39;49;00m\u001b[33mml.m4.xlarge\u001b[39;49;00m\u001b[33m\"\u001b[39;49;00m,\n",
      "        output_path=output_data[\u001b[33m\"\u001b[39;49;00m\u001b[33mModelOutputUri\u001b[39;49;00m\u001b[33m\"\u001b[39;49;00m],  \u001b[37m# NOTE: Can't use execution_input here\u001b[39;49;00m\n",
      "    )\n",
      "\n",
      "    \u001b[37m# Set the hyperparameters overriding with any defaults\u001b[39;49;00m\n",
      "    hp = {\n",
      "        \u001b[33m\"\u001b[39;49;00m\u001b[33mmax_depth\u001b[39;49;00m\u001b[33m\"\u001b[39;49;00m: \u001b[33m\"\u001b[39;49;00m\u001b[33m9\u001b[39;49;00m\u001b[33m\"\u001b[39;49;00m,\n",
      "        \u001b[33m\"\u001b[39;49;00m\u001b[33meta\u001b[39;49;00m\u001b[33m\"\u001b[39;49;00m: \u001b[33m\"\u001b[39;49;00m\u001b[33m0.2\u001b[39;49;00m\u001b[33m\"\u001b[39;49;00m,\n",
      "        \u001b[33m\"\u001b[39;49;00m\u001b[33mgamma\u001b[39;49;00m\u001b[33m\"\u001b[39;49;00m: \u001b[33m\"\u001b[39;49;00m\u001b[33m4\u001b[39;49;00m\u001b[33m\"\u001b[39;49;00m,\n",
      "        \u001b[33m\"\u001b[39;49;00m\u001b[33mmin_child_weight\u001b[39;49;00m\u001b[33m\"\u001b[39;49;00m: \u001b[33m\"\u001b[39;49;00m\u001b[33m300\u001b[39;49;00m\u001b[33m\"\u001b[39;49;00m,\n",
      "        \u001b[33m\"\u001b[39;49;00m\u001b[33msubsample\u001b[39;49;00m\u001b[33m\"\u001b[39;49;00m: \u001b[33m\"\u001b[39;49;00m\u001b[33m0.8\u001b[39;49;00m\u001b[33m\"\u001b[39;49;00m,\n",
      "        \u001b[33m\"\u001b[39;49;00m\u001b[33mobjective\u001b[39;49;00m\u001b[33m\"\u001b[39;49;00m: \u001b[33m\"\u001b[39;49;00m\u001b[33mreg:linear\u001b[39;49;00m\u001b[33m\"\u001b[39;49;00m,\n",
      "        \u001b[33m\"\u001b[39;49;00m\u001b[33mearly_stopping_rounds\u001b[39;49;00m\u001b[33m\"\u001b[39;49;00m: \u001b[33m\"\u001b[39;49;00m\u001b[33m10\u001b[39;49;00m\u001b[33m\"\u001b[39;49;00m,\n",
      "        \u001b[33m\"\u001b[39;49;00m\u001b[33mnum_round\u001b[39;49;00m\u001b[33m\"\u001b[39;49;00m: \u001b[33m\"\u001b[39;49;00m\u001b[33m100\u001b[39;49;00m\u001b[33m\"\u001b[39;49;00m,\n",
      "    }\n",
      "    xgb.set_hyperparameters(**{**hp, **hyperparameters})\n",
      "\n",
      "    \u001b[37m# Specify the data source\u001b[39;49;00m\n",
      "    s3_input_train = sagemaker.inputs.TrainingInput(\n",
      "        s3_data=input_data[\u001b[33m\"\u001b[39;49;00m\u001b[33mTrainingUri\u001b[39;49;00m\u001b[33m\"\u001b[39;49;00m], content_type=\u001b[33m\"\u001b[39;49;00m\u001b[33mcsv\u001b[39;49;00m\u001b[33m\"\u001b[39;49;00m\n",
      "    )\n",
      "    s3_input_val = sagemaker.inputs.TrainingInput(\n",
      "        s3_data=input_data[\u001b[33m\"\u001b[39;49;00m\u001b[33mValidationUri\u001b[39;49;00m\u001b[33m\"\u001b[39;49;00m], content_type=\u001b[33m\"\u001b[39;49;00m\u001b[33mcsv\u001b[39;49;00m\u001b[33m\"\u001b[39;49;00m\n",
      "    )\n",
      "    data = {\u001b[33m\"\u001b[39;49;00m\u001b[33mtrain\u001b[39;49;00m\u001b[33m\"\u001b[39;49;00m: s3_input_train, \u001b[33m\"\u001b[39;49;00m\u001b[33mvalidation\u001b[39;49;00m\u001b[33m\"\u001b[39;49;00m: s3_input_val}\n",
      "\n",
      "    \u001b[37m# Create the training step\u001b[39;49;00m\n",
      "    training_step = steps.TrainingStep(\n",
      "        \u001b[33m\"\u001b[39;49;00m\u001b[33mTraining Job\u001b[39;49;00m\u001b[33m\"\u001b[39;49;00m,\n",
      "        estimator=xgb,\n",
      "        data=data,\n",
      "        job_name=execution_input[\u001b[33m\"\u001b[39;49;00m\u001b[33mTrainingJobName\u001b[39;49;00m\u001b[33m\"\u001b[39;49;00m],\n",
      "        experiment_config={\n",
      "            \u001b[33m\"\u001b[39;49;00m\u001b[33mExperimentName\u001b[39;49;00m\u001b[33m\"\u001b[39;49;00m: execution_input[\u001b[33m\"\u001b[39;49;00m\u001b[33mExperimentName\u001b[39;49;00m\u001b[33m\"\u001b[39;49;00m],\n",
      "            \u001b[33m\"\u001b[39;49;00m\u001b[33mTrialName\u001b[39;49;00m\u001b[33m\"\u001b[39;49;00m: execution_input[\u001b[33m\"\u001b[39;49;00m\u001b[33mTrialName\u001b[39;49;00m\u001b[33m\"\u001b[39;49;00m],\n",
      "            \u001b[33m\"\u001b[39;49;00m\u001b[33mTrialComponentDisplayName\u001b[39;49;00m\u001b[33m\"\u001b[39;49;00m: \u001b[33m\"\u001b[39;49;00m\u001b[33mTraining\u001b[39;49;00m\u001b[33m\"\u001b[39;49;00m,\n",
      "        },\n",
      "        tags={\n",
      "            \u001b[33m\"\u001b[39;49;00m\u001b[33mGitBranch\u001b[39;49;00m\u001b[33m\"\u001b[39;49;00m: execution_input[\u001b[33m\"\u001b[39;49;00m\u001b[33mGitBranch\u001b[39;49;00m\u001b[33m\"\u001b[39;49;00m],\n",
      "            \u001b[33m\"\u001b[39;49;00m\u001b[33mGitCommitHash\u001b[39;49;00m\u001b[33m\"\u001b[39;49;00m: execution_input[\u001b[33m\"\u001b[39;49;00m\u001b[33mGitCommitHash\u001b[39;49;00m\u001b[33m\"\u001b[39;49;00m],\n",
      "            \u001b[33m\"\u001b[39;49;00m\u001b[33mDataVersionId\u001b[39;49;00m\u001b[33m\"\u001b[39;49;00m: execution_input[\u001b[33m\"\u001b[39;49;00m\u001b[33mDataVersionId\u001b[39;49;00m\u001b[33m\"\u001b[39;49;00m],\n",
      "        },\n",
      "        result_path=\u001b[33m\"\u001b[39;49;00m\u001b[33m$.TrainingResults\u001b[39;49;00m\u001b[33m\"\u001b[39;49;00m,\n",
      "    )\n",
      "\n",
      "    \u001b[37m# Add the catch\u001b[39;49;00m\n",
      "    training_step.add_catch(\n",
      "        stepfunctions.steps.states.Catch(\n",
      "            error_equals=[\u001b[33m\"\u001b[39;49;00m\u001b[33mStates.TaskFailed\u001b[39;49;00m\u001b[33m\"\u001b[39;49;00m],\n",
      "            next_step=stepfunctions.steps.states.Fail(\n",
      "                \u001b[33m\"\u001b[39;49;00m\u001b[33mTraining failed\u001b[39;49;00m\u001b[33m\"\u001b[39;49;00m, cause=\u001b[33m\"\u001b[39;49;00m\u001b[33mSageMakerTrainingJobFailed\u001b[39;49;00m\u001b[33m\"\u001b[39;49;00m\n",
      "            ),\n",
      "        )\n",
      "    )\n",
      "\n",
      "    \u001b[37m# Must follow the training test\u001b[39;49;00m\n",
      "    model_step = steps.sagemaker.ModelStep(\n",
      "        \u001b[33m\"\u001b[39;49;00m\u001b[33mSave Model\u001b[39;49;00m\u001b[33m\"\u001b[39;49;00m,\n",
      "        input_path=\u001b[33m\"\u001b[39;49;00m\u001b[33m$.TrainingResults\u001b[39;49;00m\u001b[33m\"\u001b[39;49;00m,\n",
      "        model=training_step.get_expected_model(),\n",
      "        model_name=execution_input[\u001b[33m\"\u001b[39;49;00m\u001b[33mTrainingJobName\u001b[39;49;00m\u001b[33m\"\u001b[39;49;00m],\n",
      "        result_path=\u001b[33m\"\u001b[39;49;00m\u001b[33m$.ModelStepResults\u001b[39;49;00m\u001b[33m\"\u001b[39;49;00m,\n",
      "    )\n",
      "\n",
      "    \u001b[37m# Query the training step\u001b[39;49;00m\n",
      "    training_query_step = steps.compute.LambdaStep(\n",
      "        \u001b[33m\"\u001b[39;49;00m\u001b[33mQuery Training Results\u001b[39;49;00m\u001b[33m\"\u001b[39;49;00m,\n",
      "        parameters={\n",
      "            \u001b[33m\"\u001b[39;49;00m\u001b[33mFunctionName\u001b[39;49;00m\u001b[33m\"\u001b[39;49;00m: query_training_function_name,\n",
      "            \u001b[33m\"\u001b[39;49;00m\u001b[33mPayload\u001b[39;49;00m\u001b[33m\"\u001b[39;49;00m: {\u001b[33m\"\u001b[39;49;00m\u001b[33mTrainingJobName.$\u001b[39;49;00m\u001b[33m\"\u001b[39;49;00m: \u001b[33m\"\u001b[39;49;00m\u001b[33m$.TrainingJobName\u001b[39;49;00m\u001b[33m\"\u001b[39;49;00m},\n",
      "        },\n",
      "        result_path=\u001b[33m\"\u001b[39;49;00m\u001b[33m$.QueryTrainingResults\u001b[39;49;00m\u001b[33m\"\u001b[39;49;00m,\n",
      "    )\n",
      "\n",
      "    check_accuracy_fail_step = steps.states.Fail(\n",
      "        \u001b[33m\"\u001b[39;49;00m\u001b[33mModel Error Too Low\u001b[39;49;00m\u001b[33m\"\u001b[39;49;00m, comment=\u001b[33m\"\u001b[39;49;00m\u001b[33mRMSE accuracy higher than threshold\u001b[39;49;00m\u001b[33m\"\u001b[39;49;00m\n",
      "    )\n",
      "\n",
      "    check_accuracy_succeed_step = steps.states.Succeed(\u001b[33m\"\u001b[39;49;00m\u001b[33mModel Error Acceptable\u001b[39;49;00m\u001b[33m\"\u001b[39;49;00m)\n",
      "\n",
      "    \u001b[37m# TODO: Update query method to query validation error using better result path\u001b[39;49;00m\n",
      "    threshold_rule = steps.choice_rule.ChoiceRule.NumericLessThan(\n",
      "        variable=training_query_step.output()[\u001b[33m\"\u001b[39;49;00m\u001b[33mQueryTrainingResults\u001b[39;49;00m\u001b[33m\"\u001b[39;49;00m][\u001b[33m\"\u001b[39;49;00m\u001b[33mPayload\u001b[39;49;00m\u001b[33m\"\u001b[39;49;00m][\u001b[33m\"\u001b[39;49;00m\u001b[33mresults\u001b[39;49;00m\u001b[33m\"\u001b[39;49;00m][\n",
      "            \u001b[33m\"\u001b[39;49;00m\u001b[33mTrainingMetrics\u001b[39;49;00m\u001b[33m\"\u001b[39;49;00m\n",
      "        ][\u001b[34m0\u001b[39;49;00m][\u001b[33m\"\u001b[39;49;00m\u001b[33mValue\u001b[39;49;00m\u001b[33m\"\u001b[39;49;00m],\n",
      "        value=\u001b[34m10\u001b[39;49;00m,\n",
      "    )\n",
      "\n",
      "    check_accuracy_step = steps.states.Choice(\u001b[33m\"\u001b[39;49;00m\u001b[33mRMSE < 10\u001b[39;49;00m\u001b[33m\"\u001b[39;49;00m)\n",
      "\n",
      "    check_accuracy_step.add_choice(rule=threshold_rule, next_step=check_accuracy_succeed_step)\n",
      "    check_accuracy_step.default_choice(next_step=check_accuracy_fail_step)\n",
      "\n",
      "    \u001b[37m# Return the chain of these steps\u001b[39;49;00m\n",
      "    \u001b[34mreturn\u001b[39;49;00m steps.states.Chain([training_step, model_step, training_query_step, check_accuracy_step])\n",
      "\n",
      "\n",
      "\u001b[34mdef\u001b[39;49;00m \u001b[32mcreate_graph\u001b[39;49;00m(create_experiment_step, baseline_step, training_step):\n",
      "    sagemaker_jobs = steps.states.Parallel(\u001b[33m\"\u001b[39;49;00m\u001b[33mSageMaker Jobs\u001b[39;49;00m\u001b[33m\"\u001b[39;49;00m)\n",
      "    sagemaker_jobs.add_branch(baseline_step)\n",
      "    sagemaker_jobs.add_branch(training_step)\n",
      "\n",
      "    \u001b[37m# Do we need specific failure for the jobs for group?\u001b[39;49;00m\n",
      "    sagemaker_jobs.add_catch(\n",
      "        stepfunctions.steps.states.Catch(\n",
      "            error_equals=[\u001b[33m\"\u001b[39;49;00m\u001b[33mStates.TaskFailed\u001b[39;49;00m\u001b[33m\"\u001b[39;49;00m],\n",
      "            next_step=stepfunctions.steps.states.Fail(\n",
      "                \u001b[33m\"\u001b[39;49;00m\u001b[33mSageMaker Jobs failed\u001b[39;49;00m\u001b[33m\"\u001b[39;49;00m, cause=\u001b[33m\"\u001b[39;49;00m\u001b[33mSageMakerJobsFailed\u001b[39;49;00m\u001b[33m\"\u001b[39;49;00m\n",
      "            ),\n",
      "        )\n",
      "    )\n",
      "\n",
      "    \u001b[37m# Return the workflow graph\u001b[39;49;00m\n",
      "    \u001b[34mreturn\u001b[39;49;00m steps.states.Chain([create_experiment_step, sagemaker_jobs])\n",
      "\n",
      "\n",
      "\u001b[34mdef\u001b[39;49;00m \u001b[32mget_dev_config\u001b[39;49;00m(model_name, job_id, role, image_uri, kms_key_id):\n",
      "    \u001b[34mreturn\u001b[39;49;00m {\n",
      "        \u001b[33m\"\u001b[39;49;00m\u001b[33mParameters\u001b[39;49;00m\u001b[33m\"\u001b[39;49;00m: {\n",
      "            \u001b[33m\"\u001b[39;49;00m\u001b[33mImageRepoUri\u001b[39;49;00m\u001b[33m\"\u001b[39;49;00m: image_uri,\n",
      "            \u001b[33m\"\u001b[39;49;00m\u001b[33mModelName\u001b[39;49;00m\u001b[33m\"\u001b[39;49;00m: model_name,\n",
      "            \u001b[33m\"\u001b[39;49;00m\u001b[33mTrainJobId\u001b[39;49;00m\u001b[33m\"\u001b[39;49;00m: job_id,\n",
      "            \u001b[33m\"\u001b[39;49;00m\u001b[33mDeployRoleArn\u001b[39;49;00m\u001b[33m\"\u001b[39;49;00m: role,\n",
      "            \u001b[33m\"\u001b[39;49;00m\u001b[33mModelVariant\u001b[39;49;00m\u001b[33m\"\u001b[39;49;00m: \u001b[33m\"\u001b[39;49;00m\u001b[33mdev\u001b[39;49;00m\u001b[33m\"\u001b[39;49;00m,\n",
      "            \u001b[33m\"\u001b[39;49;00m\u001b[33mKmsKeyId\u001b[39;49;00m\u001b[33m\"\u001b[39;49;00m: kms_key_id,\n",
      "        },\n",
      "        \u001b[33m\"\u001b[39;49;00m\u001b[33mTags\u001b[39;49;00m\u001b[33m\"\u001b[39;49;00m: {\u001b[33m\"\u001b[39;49;00m\u001b[33mmlops:model-name\u001b[39;49;00m\u001b[33m\"\u001b[39;49;00m: model_name, \u001b[33m\"\u001b[39;49;00m\u001b[33mmlops:stage\u001b[39;49;00m\u001b[33m\"\u001b[39;49;00m: \u001b[33m\"\u001b[39;49;00m\u001b[33mdev\u001b[39;49;00m\u001b[33m\"\u001b[39;49;00m},\n",
      "    }\n",
      "\n",
      "\n",
      "\u001b[34mdef\u001b[39;49;00m \u001b[32mget_prd_config\u001b[39;49;00m(model_name, job_id, role, image_uri, kms_key_id, notification_arn):\n",
      "    dev_config = get_dev_config(model_name, job_id, role, image_uri, kms_key_id)\n",
      "    prod_params = {\n",
      "        \u001b[33m\"\u001b[39;49;00m\u001b[33mModelVariant\u001b[39;49;00m\u001b[33m\"\u001b[39;49;00m: \u001b[33m\"\u001b[39;49;00m\u001b[33mprd\u001b[39;49;00m\u001b[33m\"\u001b[39;49;00m,\n",
      "        \u001b[33m\"\u001b[39;49;00m\u001b[33mScheduleMetricName\u001b[39;49;00m\u001b[33m\"\u001b[39;49;00m: \u001b[33m\"\u001b[39;49;00m\u001b[33mfeature_baseline_drift_total_amount\u001b[39;49;00m\u001b[33m\"\u001b[39;49;00m,\n",
      "        \u001b[33m\"\u001b[39;49;00m\u001b[33mScheduleMetricThreshold\u001b[39;49;00m\u001b[33m\"\u001b[39;49;00m: \u001b[36mstr\u001b[39;49;00m(\u001b[33m\"\u001b[39;49;00m\u001b[33m0.20\u001b[39;49;00m\u001b[33m\"\u001b[39;49;00m),\n",
      "        \u001b[33m\"\u001b[39;49;00m\u001b[33mNotificationArn\u001b[39;49;00m\u001b[33m\"\u001b[39;49;00m: notification_arn,\n",
      "    }\n",
      "    prod_tags = {\n",
      "        \u001b[33m\"\u001b[39;49;00m\u001b[33mmlops:stage\u001b[39;49;00m\u001b[33m\"\u001b[39;49;00m: \u001b[33m\"\u001b[39;49;00m\u001b[33mprd\u001b[39;49;00m\u001b[33m\"\u001b[39;49;00m,\n",
      "    }\n",
      "    \u001b[34mreturn\u001b[39;49;00m {\n",
      "        \u001b[33m\"\u001b[39;49;00m\u001b[33mParameters\u001b[39;49;00m\u001b[33m\"\u001b[39;49;00m: \u001b[36mdict\u001b[39;49;00m(dev_config[\u001b[33m\"\u001b[39;49;00m\u001b[33mParameters\u001b[39;49;00m\u001b[33m\"\u001b[39;49;00m], **prod_params),\n",
      "        \u001b[33m\"\u001b[39;49;00m\u001b[33mTags\u001b[39;49;00m\u001b[33m\"\u001b[39;49;00m: \u001b[36mdict\u001b[39;49;00m(dev_config[\u001b[33m\"\u001b[39;49;00m\u001b[33mTags\u001b[39;49;00m\u001b[33m\"\u001b[39;49;00m], **prod_tags),\n",
      "    }\n",
      "\n",
      "\n",
      "\u001b[34mdef\u001b[39;49;00m \u001b[32mget_pipeline_execution_id\u001b[39;49;00m(pipeline_name, codebuild_id):\n",
      "    codepipeline = boto3.client(\u001b[33m\"\u001b[39;49;00m\u001b[33mcodepipeline\u001b[39;49;00m\u001b[33m\"\u001b[39;49;00m)\n",
      "    response = codepipeline.get_pipeline_state(name=pipeline_name)\n",
      "    \u001b[34mfor\u001b[39;49;00m stage \u001b[35min\u001b[39;49;00m response[\u001b[33m\"\u001b[39;49;00m\u001b[33mstageStates\u001b[39;49;00m\u001b[33m\"\u001b[39;49;00m]:\n",
      "        \u001b[34mfor\u001b[39;49;00m action \u001b[35min\u001b[39;49;00m stage[\u001b[33m\"\u001b[39;49;00m\u001b[33mactionStates\u001b[39;49;00m\u001b[33m\"\u001b[39;49;00m]:\n",
      "            \u001b[37m# Return the matching stage with the same external id\u001b[39;49;00m\n",
      "            \u001b[34mif\u001b[39;49;00m (\n",
      "                \u001b[33m\"\u001b[39;49;00m\u001b[33mlatestExecution\u001b[39;49;00m\u001b[33m\"\u001b[39;49;00m \u001b[35min\u001b[39;49;00m action\n",
      "                \u001b[35mand\u001b[39;49;00m \u001b[33m\"\u001b[39;49;00m\u001b[33mexternalExecutionId\u001b[39;49;00m\u001b[33m\"\u001b[39;49;00m \u001b[35min\u001b[39;49;00m action[\u001b[33m\"\u001b[39;49;00m\u001b[33mlatestExecution\u001b[39;49;00m\u001b[33m\"\u001b[39;49;00m]\n",
      "                \u001b[35mand\u001b[39;49;00m action[\u001b[33m\"\u001b[39;49;00m\u001b[33mlatestExecution\u001b[39;49;00m\u001b[33m\"\u001b[39;49;00m][\u001b[33m\"\u001b[39;49;00m\u001b[33mexternalExecutionId\u001b[39;49;00m\u001b[33m\"\u001b[39;49;00m] == codebuild_id\n",
      "            ):\n",
      "                \u001b[34mreturn\u001b[39;49;00m stage[\u001b[33m\"\u001b[39;49;00m\u001b[33mlatestExecution\u001b[39;49;00m\u001b[33m\"\u001b[39;49;00m][\u001b[33m\"\u001b[39;49;00m\u001b[33mpipelineExecutionId\u001b[39;49;00m\u001b[33m\"\u001b[39;49;00m]\n",
      "\n",
      "\n",
      "\u001b[34mdef\u001b[39;49;00m \u001b[32mget_pipeline_revisions\u001b[39;49;00m(pipeline_name, execution_id):\n",
      "    codepipeline = boto3.client(\u001b[33m\"\u001b[39;49;00m\u001b[33mcodepipeline\u001b[39;49;00m\u001b[33m\"\u001b[39;49;00m)\n",
      "    response = codepipeline.get_pipeline_execution(\n",
      "        pipelineName=pipeline_name, pipelineExecutionId=execution_id\n",
      "    )\n",
      "    \u001b[34mreturn\u001b[39;49;00m \u001b[36mdict\u001b[39;49;00m(\n",
      "        (r[\u001b[33m\"\u001b[39;49;00m\u001b[33mname\u001b[39;49;00m\u001b[33m\"\u001b[39;49;00m], r[\u001b[33m\"\u001b[39;49;00m\u001b[33mrevisionId\u001b[39;49;00m\u001b[33m\"\u001b[39;49;00m]) \u001b[34mfor\u001b[39;49;00m r \u001b[35min\u001b[39;49;00m response[\u001b[33m\"\u001b[39;49;00m\u001b[33mpipelineExecution\u001b[39;49;00m\u001b[33m\"\u001b[39;49;00m][\u001b[33m\"\u001b[39;49;00m\u001b[33martifactRevisions\u001b[39;49;00m\u001b[33m\"\u001b[39;49;00m]\n",
      "    )\n",
      "\n",
      "\n",
      "\u001b[34mdef\u001b[39;49;00m \u001b[32mmain\u001b[39;49;00m(\n",
      "    git_branch,\n",
      "    codebuild_id,\n",
      "    pipeline_name,\n",
      "    model_name,\n",
      "    deploy_role,\n",
      "    sagemaker_role,\n",
      "    sagemaker_bucket,\n",
      "    data_dir,\n",
      "    output_dir,\n",
      "    ecr_dir,\n",
      "    kms_key_id,\n",
      "    workflow_role_arn,\n",
      "    notification_arn,\n",
      "):\n",
      "    \u001b[37m# Define the function names\u001b[39;49;00m\n",
      "    create_experiment_function_name = \u001b[33m\"\u001b[39;49;00m\u001b[33mmlops-create-experiment\u001b[39;49;00m\u001b[33m\"\u001b[39;49;00m\n",
      "    query_training_function_name = \u001b[33m\"\u001b[39;49;00m\u001b[33mmlops-query-training\u001b[39;49;00m\u001b[33m\"\u001b[39;49;00m\n",
      "\n",
      "    \u001b[37m# Get the region\u001b[39;49;00m\n",
      "    region = boto3.Session().region_name\n",
      "    \u001b[36mprint\u001b[39;49;00m(\u001b[33m\"\u001b[39;49;00m\u001b[33mregion: \u001b[39;49;00m\u001b[33m{}\u001b[39;49;00m\u001b[33m\"\u001b[39;49;00m.format(region))\n",
      "\n",
      "    \u001b[34mif\u001b[39;49;00m ecr_dir:\n",
      "        \u001b[37m# Load the image uri and input data config\u001b[39;49;00m\n",
      "        \u001b[34mwith\u001b[39;49;00m \u001b[36mopen\u001b[39;49;00m(os.path.join(ecr_dir, \u001b[33m\"\u001b[39;49;00m\u001b[33mimageDetail.json\u001b[39;49;00m\u001b[33m\"\u001b[39;49;00m), \u001b[33m\"\u001b[39;49;00m\u001b[33mr\u001b[39;49;00m\u001b[33m\"\u001b[39;49;00m) \u001b[34mas\u001b[39;49;00m f:\n",
      "            image_uri = json.load(f)[\u001b[33m\"\u001b[39;49;00m\u001b[33mImageURI\u001b[39;49;00m\u001b[33m\"\u001b[39;49;00m]\n",
      "    \u001b[34melse\u001b[39;49;00m:\n",
      "        \u001b[37m# Get the the managed image uri for current region\u001b[39;49;00m\n",
      "        image_uri = get_training_image(region)\n",
      "    \u001b[36mprint\u001b[39;49;00m(\u001b[33m\"\u001b[39;49;00m\u001b[33mimage uri: \u001b[39;49;00m\u001b[33m{}\u001b[39;49;00m\u001b[33m\"\u001b[39;49;00m.format(image_uri))\n",
      "\n",
      "    \u001b[34mwith\u001b[39;49;00m \u001b[36mopen\u001b[39;49;00m(os.path.join(data_dir, \u001b[33m\"\u001b[39;49;00m\u001b[33minputData.json\u001b[39;49;00m\u001b[33m\"\u001b[39;49;00m), \u001b[33m\"\u001b[39;49;00m\u001b[33mr\u001b[39;49;00m\u001b[33m\"\u001b[39;49;00m) \u001b[34mas\u001b[39;49;00m f:\n",
      "        input_data = json.load(f)\n",
      "        \u001b[36mprint\u001b[39;49;00m(\u001b[33m\"\u001b[39;49;00m\u001b[33mtraining uri: \u001b[39;49;00m\u001b[33m{}\u001b[39;49;00m\u001b[33m\"\u001b[39;49;00m.format(input_data[\u001b[33m\"\u001b[39;49;00m\u001b[33mTrainingUri\u001b[39;49;00m\u001b[33m\"\u001b[39;49;00m]))\n",
      "        \u001b[36mprint\u001b[39;49;00m(\u001b[33m\"\u001b[39;49;00m\u001b[33mvalidation uri: \u001b[39;49;00m\u001b[33m{}\u001b[39;49;00m\u001b[33m\"\u001b[39;49;00m.format(input_data[\u001b[33m\"\u001b[39;49;00m\u001b[33mValidationUri\u001b[39;49;00m\u001b[33m\"\u001b[39;49;00m]))\n",
      "        \u001b[36mprint\u001b[39;49;00m(\u001b[33m\"\u001b[39;49;00m\u001b[33mbaseline uri: \u001b[39;49;00m\u001b[33m{}\u001b[39;49;00m\u001b[33m\"\u001b[39;49;00m.format(input_data[\u001b[33m\"\u001b[39;49;00m\u001b[33mBaselineUri\u001b[39;49;00m\u001b[33m\"\u001b[39;49;00m]))\n",
      "\n",
      "    \u001b[37m# Get the job id and source revisions\u001b[39;49;00m\n",
      "    job_id = get_pipeline_execution_id(pipeline_name, codebuild_id)\n",
      "    revisions = get_pipeline_revisions(pipeline_name, job_id)\n",
      "    git_commit_id = revisions[\u001b[33m\"\u001b[39;49;00m\u001b[33mModelSourceOutput\u001b[39;49;00m\u001b[33m\"\u001b[39;49;00m]\n",
      "    data_verison_id = revisions[\u001b[33m\"\u001b[39;49;00m\u001b[33mDataSourceOutput\u001b[39;49;00m\u001b[33m\"\u001b[39;49;00m]\n",
      "    \u001b[36mprint\u001b[39;49;00m(\u001b[33m\"\u001b[39;49;00m\u001b[33mjob id: \u001b[39;49;00m\u001b[33m{}\u001b[39;49;00m\u001b[33m\"\u001b[39;49;00m.format(job_id))\n",
      "    \u001b[36mprint\u001b[39;49;00m(\u001b[33m\"\u001b[39;49;00m\u001b[33mgit commit: \u001b[39;49;00m\u001b[33m{}\u001b[39;49;00m\u001b[33m\"\u001b[39;49;00m.format(git_commit_id))\n",
      "    \u001b[36mprint\u001b[39;49;00m(\u001b[33m\"\u001b[39;49;00m\u001b[33mdata version: \u001b[39;49;00m\u001b[33m{}\u001b[39;49;00m\u001b[33m\"\u001b[39;49;00m.format(data_verison_id))\n",
      "\n",
      "    \u001b[37m# Set the output Data\u001b[39;49;00m\n",
      "    output_data = {\n",
      "        \u001b[33m\"\u001b[39;49;00m\u001b[33mModelOutputUri\u001b[39;49;00m\u001b[33m\"\u001b[39;49;00m: \u001b[33m\"\u001b[39;49;00m\u001b[33ms3://\u001b[39;49;00m\u001b[33m{}\u001b[39;49;00m\u001b[33m/\u001b[39;49;00m\u001b[33m{}\u001b[39;49;00m\u001b[33m\"\u001b[39;49;00m.format(sagemaker_bucket, model_name),\n",
      "        \u001b[33m\"\u001b[39;49;00m\u001b[33mBaselineOutputUri\u001b[39;49;00m\u001b[33m\"\u001b[39;49;00m: \u001b[33mf\u001b[39;49;00m\u001b[33m\"\u001b[39;49;00m\u001b[33ms3://\u001b[39;49;00m\u001b[33m{\u001b[39;49;00msagemaker_bucket\u001b[33m}\u001b[39;49;00m\u001b[33m/\u001b[39;49;00m\u001b[33m{\u001b[39;49;00mmodel_name\u001b[33m}\u001b[39;49;00m\u001b[33m/monitoring/baseline/mlops-\u001b[39;49;00m\u001b[33m{\u001b[39;49;00mmodel_name\u001b[33m}\u001b[39;49;00m\u001b[33m-pbl-\u001b[39;49;00m\u001b[33m{\u001b[39;49;00mjob_id\u001b[33m}\u001b[39;49;00m\u001b[33m\"\u001b[39;49;00m,\n",
      "    }\n",
      "    \u001b[36mprint\u001b[39;49;00m(\u001b[33m\"\u001b[39;49;00m\u001b[33mmodel output uri: \u001b[39;49;00m\u001b[33m{}\u001b[39;49;00m\u001b[33m\"\u001b[39;49;00m.format(output_data[\u001b[33m\"\u001b[39;49;00m\u001b[33mModelOutputUri\u001b[39;49;00m\u001b[33m\"\u001b[39;49;00m]))\n",
      "\n",
      "    \u001b[37m# Pass these into the training method\u001b[39;49;00m\n",
      "    hyperparameters = {}\n",
      "    \u001b[34mif\u001b[39;49;00m os.path.exists(os.path.join(data_dir, \u001b[33m\"\u001b[39;49;00m\u001b[33mhyperparameters.json\u001b[39;49;00m\u001b[33m\"\u001b[39;49;00m)):\n",
      "        \u001b[34mwith\u001b[39;49;00m \u001b[36mopen\u001b[39;49;00m(os.path.join(data_dir, \u001b[33m\"\u001b[39;49;00m\u001b[33mhyperparameters.json\u001b[39;49;00m\u001b[33m\"\u001b[39;49;00m), \u001b[33m\"\u001b[39;49;00m\u001b[33mr\u001b[39;49;00m\u001b[33m\"\u001b[39;49;00m) \u001b[34mas\u001b[39;49;00m f:\n",
      "            hyperparameters = json.load(f)\n",
      "            \u001b[34mfor\u001b[39;49;00m i \u001b[35min\u001b[39;49;00m hyperparameters:\n",
      "                hyperparameters[i] = \u001b[36mstr\u001b[39;49;00m(hyperparameters[i])\n",
      "\n",
      "    \u001b[37m# Define the step functions execution input schema\u001b[39;49;00m\n",
      "    execution_input = ExecutionInput(\n",
      "        schema={\n",
      "            \u001b[33m\"\u001b[39;49;00m\u001b[33mGitBranch\u001b[39;49;00m\u001b[33m\"\u001b[39;49;00m: \u001b[36mstr\u001b[39;49;00m,\n",
      "            \u001b[33m\"\u001b[39;49;00m\u001b[33mGitCommitHash\u001b[39;49;00m\u001b[33m\"\u001b[39;49;00m: \u001b[36mstr\u001b[39;49;00m,\n",
      "            \u001b[33m\"\u001b[39;49;00m\u001b[33mDataVersionId\u001b[39;49;00m\u001b[33m\"\u001b[39;49;00m: \u001b[36mstr\u001b[39;49;00m,\n",
      "            \u001b[33m\"\u001b[39;49;00m\u001b[33mExperimentName\u001b[39;49;00m\u001b[33m\"\u001b[39;49;00m: \u001b[36mstr\u001b[39;49;00m,\n",
      "            \u001b[33m\"\u001b[39;49;00m\u001b[33mTrialName\u001b[39;49;00m\u001b[33m\"\u001b[39;49;00m: \u001b[36mstr\u001b[39;49;00m,\n",
      "            \u001b[33m\"\u001b[39;49;00m\u001b[33mBaselineJobName\u001b[39;49;00m\u001b[33m\"\u001b[39;49;00m: \u001b[36mstr\u001b[39;49;00m,\n",
      "            \u001b[33m\"\u001b[39;49;00m\u001b[33mBaselineOutputUri\u001b[39;49;00m\u001b[33m\"\u001b[39;49;00m: \u001b[36mstr\u001b[39;49;00m,\n",
      "            \u001b[33m\"\u001b[39;49;00m\u001b[33mTrainingJobName\u001b[39;49;00m\u001b[33m\"\u001b[39;49;00m: \u001b[36mstr\u001b[39;49;00m,\n",
      "        }\n",
      "    )\n",
      "\n",
      "    \u001b[37m# Create experiment step\u001b[39;49;00m\n",
      "    experiment_step = create_experiment_step(create_experiment_function_name)\n",
      "    baseline_step = create_baseline_step(input_data, execution_input, region, sagemaker_role)\n",
      "    training_step = create_training_step(\n",
      "        image_uri,\n",
      "        hyperparameters,\n",
      "        input_data,\n",
      "        output_data,\n",
      "        execution_input,\n",
      "        query_training_function_name,\n",
      "        region,\n",
      "        sagemaker_role,\n",
      "    )\n",
      "    workflow_definition = create_graph(experiment_step, baseline_step, training_step)\n",
      "\n",
      "    \u001b[37m# Create the workflow as the model name\u001b[39;49;00m\n",
      "    workflow = Workflow(model_name, workflow_definition, workflow_role_arn)\n",
      "    \u001b[36mprint\u001b[39;49;00m(\u001b[33m\"\u001b[39;49;00m\u001b[33mCreating workflow: \u001b[39;49;00m\u001b[33m{}\u001b[39;49;00m\u001b[33m\"\u001b[39;49;00m.format(model_name))\n",
      "\n",
      "    \u001b[37m# Create output directory\u001b[39;49;00m\n",
      "    \u001b[34mif\u001b[39;49;00m \u001b[35mnot\u001b[39;49;00m os.path.exists(output_dir):\n",
      "        os.mkdir(output_dir)\n",
      "\n",
      "    \u001b[37m# Write the workflow graph to json\u001b[39;49;00m\n",
      "    \u001b[34mwith\u001b[39;49;00m \u001b[36mopen\u001b[39;49;00m(os.path.join(output_dir, \u001b[33m\"\u001b[39;49;00m\u001b[33mworkflow-graph.json\u001b[39;49;00m\u001b[33m\"\u001b[39;49;00m), \u001b[33m\"\u001b[39;49;00m\u001b[33mw\u001b[39;49;00m\u001b[33m\"\u001b[39;49;00m) \u001b[34mas\u001b[39;49;00m f:\n",
      "        f.write(workflow.definition.to_json(pretty=\u001b[34mTrue\u001b[39;49;00m))\n",
      "\n",
      "    \u001b[37m# Write the workflow graph to yml\u001b[39;49;00m\n",
      "    \u001b[34mwith\u001b[39;49;00m \u001b[36mopen\u001b[39;49;00m(os.path.join(output_dir, \u001b[33m\"\u001b[39;49;00m\u001b[33mworkflow-graph.yml\u001b[39;49;00m\u001b[33m\"\u001b[39;49;00m), \u001b[33m\"\u001b[39;49;00m\u001b[33mw\u001b[39;49;00m\u001b[33m\"\u001b[39;49;00m) \u001b[34mas\u001b[39;49;00m f:\n",
      "        f.write(workflow.get_cloudformation_template())\n",
      "\n",
      "    \u001b[37m# Write the workflow inputs to file\u001b[39;49;00m\n",
      "    \u001b[34mwith\u001b[39;49;00m \u001b[36mopen\u001b[39;49;00m(os.path.join(output_dir, \u001b[33m\"\u001b[39;49;00m\u001b[33mworkflow-input.json\u001b[39;49;00m\u001b[33m\"\u001b[39;49;00m), \u001b[33m\"\u001b[39;49;00m\u001b[33mw\u001b[39;49;00m\u001b[33m\"\u001b[39;49;00m) \u001b[34mas\u001b[39;49;00m f:\n",
      "        workflow_inputs = {\n",
      "            \u001b[33m\"\u001b[39;49;00m\u001b[33mExperimentName\u001b[39;49;00m\u001b[33m\"\u001b[39;49;00m: \u001b[33m\"\u001b[39;49;00m\u001b[33mmlops-\u001b[39;49;00m\u001b[33m{}\u001b[39;49;00m\u001b[33m\"\u001b[39;49;00m.format(model_name),\n",
      "            \u001b[33m\"\u001b[39;49;00m\u001b[33mTrialName\u001b[39;49;00m\u001b[33m\"\u001b[39;49;00m: \u001b[33m\"\u001b[39;49;00m\u001b[33mmlops-\u001b[39;49;00m\u001b[33m{}\u001b[39;49;00m\u001b[33m-\u001b[39;49;00m\u001b[33m{}\u001b[39;49;00m\u001b[33m\"\u001b[39;49;00m.format(model_name, job_id),\n",
      "            \u001b[33m\"\u001b[39;49;00m\u001b[33mGitBranch\u001b[39;49;00m\u001b[33m\"\u001b[39;49;00m: git_branch,\n",
      "            \u001b[33m\"\u001b[39;49;00m\u001b[33mGitCommitHash\u001b[39;49;00m\u001b[33m\"\u001b[39;49;00m: git_commit_id,\n",
      "            \u001b[33m\"\u001b[39;49;00m\u001b[33mDataVersionId\u001b[39;49;00m\u001b[33m\"\u001b[39;49;00m: data_verison_id,\n",
      "            \u001b[33m\"\u001b[39;49;00m\u001b[33mBaselineJobName\u001b[39;49;00m\u001b[33m\"\u001b[39;49;00m: \u001b[33m\"\u001b[39;49;00m\u001b[33mmlops-\u001b[39;49;00m\u001b[33m{}\u001b[39;49;00m\u001b[33m-pbl-\u001b[39;49;00m\u001b[33m{}\u001b[39;49;00m\u001b[33m\"\u001b[39;49;00m.format(model_name, job_id),\n",
      "            \u001b[33m\"\u001b[39;49;00m\u001b[33mBaselineOutputUri\u001b[39;49;00m\u001b[33m\"\u001b[39;49;00m: output_data[\u001b[33m\"\u001b[39;49;00m\u001b[33mBaselineOutputUri\u001b[39;49;00m\u001b[33m\"\u001b[39;49;00m],\n",
      "            \u001b[33m\"\u001b[39;49;00m\u001b[33mTrainingJobName\u001b[39;49;00m\u001b[33m\"\u001b[39;49;00m: \u001b[33m\"\u001b[39;49;00m\u001b[33mmlops-\u001b[39;49;00m\u001b[33m{}\u001b[39;49;00m\u001b[33m-\u001b[39;49;00m\u001b[33m{}\u001b[39;49;00m\u001b[33m\"\u001b[39;49;00m.format(model_name, job_id),\n",
      "        }\n",
      "        json.dump(workflow_inputs, f)\n",
      "\n",
      "    \u001b[37m# Write the dev & prod params for CFN\u001b[39;49;00m\n",
      "    \u001b[34mwith\u001b[39;49;00m \u001b[36mopen\u001b[39;49;00m(os.path.join(output_dir, \u001b[33m\"\u001b[39;49;00m\u001b[33mdeploy-model-dev.json\u001b[39;49;00m\u001b[33m\"\u001b[39;49;00m), \u001b[33m\"\u001b[39;49;00m\u001b[33mw\u001b[39;49;00m\u001b[33m\"\u001b[39;49;00m) \u001b[34mas\u001b[39;49;00m f:\n",
      "        config = get_dev_config(model_name, job_id, deploy_role, image_uri, kms_key_id)\n",
      "        json.dump(config, f)\n",
      "    \u001b[34mwith\u001b[39;49;00m \u001b[36mopen\u001b[39;49;00m(os.path.join(output_dir, \u001b[33m\"\u001b[39;49;00m\u001b[33mdeploy-model-prd.json\u001b[39;49;00m\u001b[33m\"\u001b[39;49;00m), \u001b[33m\"\u001b[39;49;00m\u001b[33mw\u001b[39;49;00m\u001b[33m\"\u001b[39;49;00m) \u001b[34mas\u001b[39;49;00m f:\n",
      "        config = get_prd_config(\n",
      "            model_name, job_id, deploy_role, image_uri, kms_key_id, notification_arn\n",
      "        )\n",
      "        json.dump(config, f)\n",
      "\n",
      "\n",
      "\u001b[34mif\u001b[39;49;00m \u001b[31m__name__\u001b[39;49;00m == \u001b[33m\"\u001b[39;49;00m\u001b[33m__main__\u001b[39;49;00m\u001b[33m\"\u001b[39;49;00m:\n",
      "    parser = argparse.ArgumentParser(description=\u001b[33m\"\u001b[39;49;00m\u001b[33mLoad parameters\u001b[39;49;00m\u001b[33m\"\u001b[39;49;00m)\n",
      "    parser.add_argument(\u001b[33m\"\u001b[39;49;00m\u001b[33m--codebuild-id\u001b[39;49;00m\u001b[33m\"\u001b[39;49;00m, required=\u001b[34mTrue\u001b[39;49;00m)\n",
      "    parser.add_argument(\u001b[33m\"\u001b[39;49;00m\u001b[33m--data-dir\u001b[39;49;00m\u001b[33m\"\u001b[39;49;00m, required=\u001b[34mTrue\u001b[39;49;00m)\n",
      "    parser.add_argument(\u001b[33m\"\u001b[39;49;00m\u001b[33m--output-dir\u001b[39;49;00m\u001b[33m\"\u001b[39;49;00m, required=\u001b[34mTrue\u001b[39;49;00m)\n",
      "    parser.add_argument(\u001b[33m\"\u001b[39;49;00m\u001b[33m--ecr-dir\u001b[39;49;00m\u001b[33m\"\u001b[39;49;00m, required=\u001b[34mFalse\u001b[39;49;00m)\n",
      "    parser.add_argument(\u001b[33m\"\u001b[39;49;00m\u001b[33m--pipeline-name\u001b[39;49;00m\u001b[33m\"\u001b[39;49;00m, required=\u001b[34mTrue\u001b[39;49;00m)\n",
      "    parser.add_argument(\u001b[33m\"\u001b[39;49;00m\u001b[33m--model-name\u001b[39;49;00m\u001b[33m\"\u001b[39;49;00m, required=\u001b[34mTrue\u001b[39;49;00m)\n",
      "    parser.add_argument(\u001b[33m\"\u001b[39;49;00m\u001b[33m--deploy-role\u001b[39;49;00m\u001b[33m\"\u001b[39;49;00m, required=\u001b[34mTrue\u001b[39;49;00m)\n",
      "    parser.add_argument(\u001b[33m\"\u001b[39;49;00m\u001b[33m--sagemaker-role\u001b[39;49;00m\u001b[33m\"\u001b[39;49;00m, required=\u001b[34mTrue\u001b[39;49;00m)\n",
      "    parser.add_argument(\u001b[33m\"\u001b[39;49;00m\u001b[33m--sagemaker-bucket\u001b[39;49;00m\u001b[33m\"\u001b[39;49;00m, required=\u001b[34mTrue\u001b[39;49;00m)\n",
      "    parser.add_argument(\u001b[33m\"\u001b[39;49;00m\u001b[33m--kms-key-id\u001b[39;49;00m\u001b[33m\"\u001b[39;49;00m, required=\u001b[34mTrue\u001b[39;49;00m)\n",
      "    parser.add_argument(\u001b[33m\"\u001b[39;49;00m\u001b[33m--git-branch\u001b[39;49;00m\u001b[33m\"\u001b[39;49;00m, required=\u001b[34mTrue\u001b[39;49;00m)\n",
      "    parser.add_argument(\u001b[33m\"\u001b[39;49;00m\u001b[33m--workflow-role-arn\u001b[39;49;00m\u001b[33m\"\u001b[39;49;00m, required=\u001b[34mTrue\u001b[39;49;00m)\n",
      "    parser.add_argument(\u001b[33m\"\u001b[39;49;00m\u001b[33m--notification-arn\u001b[39;49;00m\u001b[33m\"\u001b[39;49;00m, required=\u001b[34mTrue\u001b[39;49;00m)\n",
      "    args = \u001b[36mvars\u001b[39;49;00m(parser.parse_args())\n",
      "    \u001b[36mprint\u001b[39;49;00m(\u001b[33m\"\u001b[39;49;00m\u001b[33margs: \u001b[39;49;00m\u001b[33m{}\u001b[39;49;00m\u001b[33m\"\u001b[39;49;00m.format(args))\n",
      "    main(**args)\n"
     ]
    }
   ],
   "source": [
    "!pygmentize ../model/run.py"
   ]
  },
  {
   "cell_type": "markdown",
   "metadata": {},
   "source": [
    "### Customize Workflow (Optional)\n",
    "\n",
    "If you are interested in customising the workflow used in the Build Script, store the `input_data` to be used within the local [workflow.ipynb](workflow.ipynb) notebook. The workflow notebook can be used to experiment with the Step Functions workflow and training job definitions for your model."
   ]
  },
  {
   "cell_type": "code",
   "execution_count": 81,
   "metadata": {
    "scrolled": true
   },
   "outputs": [
    {
     "name": "stdout",
     "output_type": "stream",
     "text": [
      "Stored 'input_data' (dict)\n"
     ]
    }
   ],
   "source": [
    "%store input_data"
   ]
  },
  {
   "cell_type": "markdown",
   "metadata": {},
   "source": [
    "### Training Analytics\n",
    "\n",
    "Once the training and baseline jobs are complete (meaning they are displayed in a green color in the Step Functions workflow, this takes around 5 minutes), you can inspect the experiment metrics. The code below will display all experiments in a table. Note that the baseline processing job won't have RMSE metrics - it calculates metrics based on the training data, but does not train a machine learning model. \n",
    "\n",
    "You will [explore the baseline](#Explore-Baseline) results later in this notebook. <a id=\"validation-results\"></a>"
   ]
  },
  {
   "cell_type": "code",
   "execution_count": 59,
   "metadata": {},
   "outputs": [
    {
     "name": "stdout",
     "output_type": "stream",
     "text": [
      "TrialNames:\n",
      "\n",
      "mlops-ModelExample-1623dab1-0342-46f1-8dea-4b4de8ff7ed1\n",
      "\tTrialComponentNames:\n",
      "\tmlops-ModelExample-1623dab1-0342-46f1-8dea-4b4de8ff7ed1-aws-training-job\n",
      "\tmlops-modelexample-pbl-1623dab1-0342-46f1-8dea-4b4de8ff7ed1-aws-processing-job\n",
      "\n",
      "mlops-ModelExample-8737d433-e952-4e50-bf87-ee9eac1bde06\n",
      "\tTrialComponentNames:\n",
      "\n",
      "Experiment mlops-ModelExample deleted\n"
     ]
    }
   ],
   "source": [
    "'''\n",
    "import boto3\n",
    "sm = boto3.Session().client('sagemaker')\n",
    "\n",
    "def cleanup_boto3(experiment_name):\n",
    "    trials = sm.list_trials(ExperimentName=experiment_name)['TrialSummaries']\n",
    "    print('TrialNames:')\n",
    "    for trial in trials:\n",
    "        trial_name = trial['TrialName']\n",
    "        print(f\"\\n{trial_name}\")\n",
    "\n",
    "        components_in_trial = sm.list_trial_components(TrialName=trial_name)\n",
    "        print('\\tTrialComponentNames:')\n",
    "        for component in components_in_trial['TrialComponentSummaries']:\n",
    "            component_name = component['TrialComponentName']\n",
    "            print(f\"\\t{component_name}\")\n",
    "            sm.disassociate_trial_component(TrialComponentName=component_name, TrialName=trial_name)\n",
    "            try:\n",
    "                # comment out to keep trial components\n",
    "                sm.delete_trial_component(TrialComponentName=component_name)\n",
    "            except:\n",
    "                # component is associated with another trial\n",
    "                continue\n",
    "            # to prevent throttling\n",
    "            time.sleep(.5)\n",
    "        sm.delete_trial(TrialName=trial_name)\n",
    "    sm.delete_experiment(ExperimentName=experiment_name)\n",
    "    print(f\"\\nExperiment {experiment_name} deleted\")\n",
    "    \n",
    "# Use experiment name not display name\n",
    "experiment_name = 'mlops-ModelExample'\n",
    "cleanup_boto3(experiment_name)\n",
    "'''"
   ]
  },
  {
   "cell_type": "code",
   "execution_count": 82,
   "metadata": {},
   "outputs": [
    {
     "data": {
      "text/plain": [
       "<bound method AnalyticsMetricsBase.dataframe of <sagemaker.ExperimentAnalytics for mlops-modelexample>>"
      ]
     },
     "execution_count": 82,
     "metadata": {},
     "output_type": "execute_result"
    }
   ],
   "source": [
    "from sagemaker import analytics\n",
    "experiment_name = 'mlops-{}'.format(model_name)\n",
    "model_analytics = analytics.ExperimentAnalytics(experiment_name=experiment_name)\n",
    "analytics_df = model_analytics.dataframe()\n",
    "model_analytics.dataframe"
   ]
  },
  {
   "cell_type": "code",
   "execution_count": 83,
   "metadata": {},
   "outputs": [
    {
     "data": {
      "text/html": [
       "<div>\n",
       "<style scoped>\n",
       "    .dataframe tbody tr th:only-of-type {\n",
       "        vertical-align: middle;\n",
       "    }\n",
       "\n",
       "    .dataframe tbody tr th {\n",
       "        vertical-align: top;\n",
       "    }\n",
       "\n",
       "    .dataframe thead th {\n",
       "        text-align: right;\n",
       "    }\n",
       "</style>\n",
       "<table border=\"1\" class=\"dataframe\">\n",
       "  <thead>\n",
       "    <tr style=\"text-align: right;\">\n",
       "      <th></th>\n",
       "      <th>TrialComponentName</th>\n",
       "      <th>DisplayName</th>\n",
       "      <th>SageMaker.InstanceType</th>\n",
       "      <th>train:rmse - Last</th>\n",
       "      <th>validation:rmse - Last</th>\n",
       "    </tr>\n",
       "  </thead>\n",
       "  <tbody>\n",
       "    <tr>\n",
       "      <th>0</th>\n",
       "      <td>mlops-modelexample-pbl-18714106-0eaa-48ad-924d-804c7a5b6392-aws-processing-job</td>\n",
       "      <td>Baseline</td>\n",
       "      <td>ml.m5.xlarge</td>\n",
       "      <td>NaN</td>\n",
       "      <td>NaN</td>\n",
       "    </tr>\n",
       "    <tr>\n",
       "      <th>1</th>\n",
       "      <td>mlops-modelexample-18714106-0eaa-48ad-924d-804c7a5b6392-aws-training-job</td>\n",
       "      <td>Training</td>\n",
       "      <td>ml.m4.xlarge</td>\n",
       "      <td>3.67031</td>\n",
       "      <td>3.65409</td>\n",
       "    </tr>\n",
       "  </tbody>\n",
       "</table>\n",
       "</div>"
      ],
      "text/plain": [
       "                                                               TrialComponentName  \\\n",
       "0  mlops-modelexample-pbl-18714106-0eaa-48ad-924d-804c7a5b6392-aws-processing-job   \n",
       "1        mlops-modelexample-18714106-0eaa-48ad-924d-804c7a5b6392-aws-training-job   \n",
       "\n",
       "  DisplayName SageMaker.InstanceType  train:rmse - Last  \\\n",
       "0    Baseline           ml.m5.xlarge                NaN   \n",
       "1    Training           ml.m4.xlarge            3.67031   \n",
       "\n",
       "   validation:rmse - Last  \n",
       "0                     NaN  \n",
       "1                 3.65409  "
      ]
     },
     "execution_count": 83,
     "metadata": {},
     "output_type": "execute_result"
    }
   ],
   "source": [
    "if (analytics_df.shape[0] == 0):\n",
    "    raise(Exception('Please wait.  No training or baseline jobs'))\n",
    "\n",
    "pd.set_option('display.max_colwidth', 100) # Increase column width to show full copmontent name\n",
    "cols = ['TrialComponentName', 'DisplayName', 'SageMaker.InstanceType', \n",
    "        'train:rmse - Last', 'validation:rmse - Last'] # return the last rmse for training and validation\n",
    "analytics_df[analytics_df.columns & cols].head(2)"
   ]
  },
  {
   "cell_type": "markdown",
   "metadata": {},
   "source": [
    "## Deploy Dev\n",
    "\n",
    "### Test Dev Deployment\n",
    "\n",
    "When the pipeline has finished training a model, it automatically moves to the next step, where the model is deployed as a SageMaker Endpoint. This endpoint is part of your dev deployment, therefore, in this section, you will run some tests on the endpoint to decide if you want to deploy this model into production.\n",
    "\n",
    "First, run the cell below to fetch the name of the SageMaker Endpoint."
   ]
  },
  {
   "cell_type": "code",
   "execution_count": 84,
   "metadata": {},
   "outputs": [
    {
     "name": "stdout",
     "output_type": "stream",
     "text": [
      "endpoint name: mlops-modelexample-dev-18714106-0eaa-48ad-924d-804c7a5b6392\n"
     ]
    }
   ],
   "source": [
    "codepipeline = boto3.client('codepipeline')\n",
    "\n",
    "deploy_dev = get_pipeline_stage(pipeline_name, 'DeployDev')\n",
    "if not 'latestExecution' in deploy_dev:\n",
    "    raise(Exception('Please wait.  Deploy dev not started'))\n",
    "    \n",
    "execution_id = deploy_dev['latestExecution']['pipelineExecutionId']\n",
    "dev_endpoint_name = 'mlops-{}-dev-{}'.format(model_name, execution_id)\n",
    "\n",
    "print('endpoint name: {}'.format(dev_endpoint_name))"
   ]
  },
  {
   "cell_type": "markdown",
   "metadata": {},
   "source": [
    "If you moved through the previous section very quickly, you will need to wait until the dev endpoint has been successfully deployed and the pipeline is waiting for approval to deploy to production (see screenshot). It can take up to 10 minutes for SageMaker to create an endpoint.\n",
    "\n",
    "![Deploying dev endpoint in code pipeline](../docs/dev-deploy-ready.png)\n",
    "\n",
    "Alternatively, run the code below to check the status of your endpoint. Wait until the status of the endpoint is 'InService'."
   ]
  },
  {
   "cell_type": "code",
   "execution_count": 85,
   "metadata": {},
   "outputs": [
    {
     "name": "stdout",
     "output_type": "stream",
     "text": [
      "Endpoint status: Creating\n",
      "Endpoint status: Creating\n",
      "Endpoint status: Creating\n",
      "Endpoint status: Creating\n",
      "Endpoint status: Creating\n",
      "Endpoint status: Creating\n",
      "Endpoint status: Creating\n",
      "Endpoint status: Creating\n",
      "Endpoint status: Creating\n",
      "Endpoint status: Creating\n",
      "Endpoint status: Creating\n",
      "Endpoint status: Creating\n",
      "Endpoint status: Creating\n",
      "Endpoint status: Creating\n",
      "Endpoint status: Creating\n",
      "Endpoint status: Creating\n",
      "Endpoint status: Creating\n",
      "Endpoint status: Creating\n",
      "Endpoint status: Creating\n",
      "Endpoint status: Creating\n",
      "Endpoint status: Creating\n",
      "Endpoint status: Creating\n",
      "Endpoint status: Creating\n",
      "Endpoint status: Creating\n",
      "Endpoint status: Creating\n",
      "Endpoint status: Creating\n",
      "Endpoint status: Creating\n",
      "Endpoint status: Creating\n",
      "Endpoint status: Creating\n",
      "Endpoint status: Creating\n",
      "Endpoint status: Creating\n",
      "Endpoint status: Creating\n",
      "Endpoint status: Creating\n",
      "Endpoint status: Creating\n",
      "Endpoint status: Creating\n",
      "Endpoint status: Creating\n",
      "Endpoint status: Creating\n",
      "Endpoint status: Creating\n",
      "Endpoint status: Creating\n",
      "Endpoint status: InService\n"
     ]
    }
   ],
   "source": [
    "sm = boto3.client('sagemaker')\n",
    "\n",
    "while True:\n",
    "    try:\n",
    "        response = sm.describe_endpoint(EndpointName=dev_endpoint_name)\n",
    "        print(\"Endpoint status: {}\".format(response['EndpointStatus']))\n",
    "        if response['EndpointStatus'] == 'InService':\n",
    "            break\n",
    "    except ClientError as e:\n",
    "        print(e.response[\"Error\"][\"Message\"])\n",
    "    time.sleep(10)"
   ]
  },
  {
   "cell_type": "markdown",
   "metadata": {},
   "source": [
    "Now that your endpoint is ready, let's write some code to run the test data (which you split off from the dataset and saved to file at the start of this notebook) through the endpoint for inference. The code below supports both v1 and v2 of the SageMaker SDK, but we recommend using v2 of the SDK in all of your future projects."
   ]
  },
  {
   "cell_type": "code",
   "execution_count": 86,
   "metadata": {},
   "outputs": [],
   "source": [
    "import numpy as np\n",
    "from tqdm import tqdm\n",
    "\n",
    "try:\n",
    "    # Support SageMaker v2 SDK: https://sagemaker.readthedocs.io/en/stable/v2.html\n",
    "    from sagemaker.predictor import Predictor\n",
    "    from sagemaker.serializers import CSVSerializer\n",
    "    def get_predictor(endpoint_name):\n",
    "        xgb_predictor = Predictor(endpoint_name)\n",
    "        xgb_predictor.serializer = CSVSerializer()\n",
    "        return xgb_predictor\n",
    "except:\n",
    "    # Fallback to SageMaker v1.70 SDK\n",
    "    from sagemaker.predictor import RealTimePredictor, csv_serializer\n",
    "    def get_predictor(endpoint_name):\n",
    "        xgb_predictor = RealTimePredictor(endpoint_name)\n",
    "        xgb_predictor.content_type = 'text/csv'\n",
    "        xgb_predictor.serializer = csv_serializer\n",
    "        return xgb_predictor\n",
    "\n",
    "def predict(predictor, data, rows=500):\n",
    "    split_array = np.array_split(data, round(data.shape[0] / float(rows)))\n",
    "    predictions = ''\n",
    "    for array in tqdm(split_array):\n",
    "        predictions = ','.join([predictions, predictor.predict(array).decode('utf-8')])\n",
    "    return np.fromstring(predictions[1:], sep=',')"
   ]
  },
  {
   "cell_type": "markdown",
   "metadata": {},
   "source": [
    "Now use the `predict` function, which was defined in the code above, to run the test data through the endpoint and generate the predictions."
   ]
  },
  {
   "cell_type": "code",
   "execution_count": 87,
   "metadata": {},
   "outputs": [
    {
     "name": "stderr",
     "output_type": "stream",
     "text": [
      "100%|██████████| 6/6 [00:00<00:00, 20.83it/s]\n"
     ]
    }
   ],
   "source": [
    "dev_predictor = get_predictor(dev_endpoint_name)\n",
    "predictions = predict(dev_predictor, test_df[test_df.columns[1:]].values)"
   ]
  },
  {
   "cell_type": "markdown",
   "metadata": {},
   "source": [
    "Next, load the predictions into a data frame, and join it with your test data. Then, calculate absolute error as the difference between the actual taxi fare and the predicted taxi fare. Display the results in a table, sorted by the highest absolute error values."
   ]
  },
  {
   "cell_type": "code",
   "execution_count": 88,
   "metadata": {},
   "outputs": [
    {
     "data": {
      "text/html": [
       "<div>\n",
       "<style scoped>\n",
       "    .dataframe tbody tr th:only-of-type {\n",
       "        vertical-align: middle;\n",
       "    }\n",
       "\n",
       "    .dataframe tbody tr th {\n",
       "        vertical-align: top;\n",
       "    }\n",
       "\n",
       "    .dataframe thead th {\n",
       "        text-align: right;\n",
       "    }\n",
       "</style>\n",
       "<table border=\"1\" class=\"dataframe\">\n",
       "  <thead>\n",
       "    <tr style=\"text-align: right;\">\n",
       "      <th></th>\n",
       "      <th>total_amount</th>\n",
       "      <th>duration_minutes</th>\n",
       "      <th>passenger_count</th>\n",
       "      <th>trip_distance</th>\n",
       "      <th>total_amount_predictions</th>\n",
       "      <th>error</th>\n",
       "    </tr>\n",
       "  </thead>\n",
       "  <tbody>\n",
       "    <tr>\n",
       "      <th>64</th>\n",
       "      <td>130.80</td>\n",
       "      <td>84.533333</td>\n",
       "      <td>2.0</td>\n",
       "      <td>0.52</td>\n",
       "      <td>22.481468</td>\n",
       "      <td>108.318532</td>\n",
       "    </tr>\n",
       "    <tr>\n",
       "      <th>1117</th>\n",
       "      <td>103.86</td>\n",
       "      <td>18.583333</td>\n",
       "      <td>1.0</td>\n",
       "      <td>3.50</td>\n",
       "      <td>19.095339</td>\n",
       "      <td>84.764661</td>\n",
       "    </tr>\n",
       "    <tr>\n",
       "      <th>142</th>\n",
       "      <td>90.50</td>\n",
       "      <td>6.266667</td>\n",
       "      <td>2.0</td>\n",
       "      <td>2.90</td>\n",
       "      <td>12.548207</td>\n",
       "      <td>77.951793</td>\n",
       "    </tr>\n",
       "    <tr>\n",
       "      <th>1953</th>\n",
       "      <td>78.10</td>\n",
       "      <td>20.133333</td>\n",
       "      <td>5.0</td>\n",
       "      <td>6.00</td>\n",
       "      <td>26.407524</td>\n",
       "      <td>51.692476</td>\n",
       "    </tr>\n",
       "    <tr>\n",
       "      <th>2095</th>\n",
       "      <td>50.30</td>\n",
       "      <td>1.166667</td>\n",
       "      <td>4.0</td>\n",
       "      <td>0.09</td>\n",
       "      <td>6.508444</td>\n",
       "      <td>43.791556</td>\n",
       "    </tr>\n",
       "  </tbody>\n",
       "</table>\n",
       "</div>"
      ],
      "text/plain": [
       "      total_amount  duration_minutes  passenger_count  trip_distance  \\\n",
       "64          130.80         84.533333              2.0           0.52   \n",
       "1117        103.86         18.583333              1.0           3.50   \n",
       "142          90.50          6.266667              2.0           2.90   \n",
       "1953         78.10         20.133333              5.0           6.00   \n",
       "2095         50.30          1.166667              4.0           0.09   \n",
       "\n",
       "      total_amount_predictions       error  \n",
       "64                   22.481468  108.318532  \n",
       "1117                 19.095339   84.764661  \n",
       "142                  12.548207   77.951793  \n",
       "1953                 26.407524   51.692476  \n",
       "2095                  6.508444   43.791556  "
      ]
     },
     "execution_count": 88,
     "metadata": {},
     "output_type": "execute_result"
    }
   ],
   "source": [
    "pred_df = pd.DataFrame({'total_amount_predictions': predictions })\n",
    "pred_df = test_df.join(pred_df) # Join on all\n",
    "pred_df['error'] = abs(pred_df['total_amount']-pred_df['total_amount_predictions'])\n",
    "\n",
    "pred_df.sort_values('error', ascending=False).head()"
   ]
  },
  {
   "cell_type": "markdown",
   "metadata": {},
   "source": [
    "From this table, we note that some short trip distances have large errors because the low predicted fare does not match the high actual fare. This could be the result of a generous tip which we haven't included in this dataset.\n",
    "\n",
    "You can also analyze the results by plotting the absolute error to visualize outliers. In this graph, we see that most of the outliers are cases where the model predicted a much lower fare than the actual fare. There are only a few outliers where the model predicted a higher fare than the actual fare."
   ]
  },
  {
   "cell_type": "code",
   "execution_count": 89,
   "metadata": {},
   "outputs": [
    {
     "data": {
      "text/plain": [
       "<AxesSubplot:xlabel='total_amount_predictions', ylabel='total_amount'>"
      ]
     },
     "execution_count": 89,
     "metadata": {},
     "output_type": "execute_result"
    },
    {
     "data": {
      "image/png": "[encoded data removed]",
      "text/plain": [
       "<Figure size 432x288 with 1 Axes>"
      ]
     },
     "metadata": {
      "needs_background": "light"
     },
     "output_type": "display_data"
    }
   ],
   "source": [
    "sns.scatterplot(data=pred_df, x='total_amount_predictions', y='total_amount', hue='error')"
   ]
  },
  {
   "cell_type": "markdown",
   "metadata": {},
   "source": [
    "If you want one overall measure of quality for the model, you can calculate the root mean square error (RMSE) for the predicted fares compared to the actual fares. Compare this to the [results calculated on the validation set](#validation-results) at the end of the 'Inspect Training Job' section."
   ]
  },
  {
   "cell_type": "code",
   "execution_count": 90,
   "metadata": {},
   "outputs": [
    {
     "name": "stdout",
     "output_type": "stream",
     "text": [
      "RMSE: 4.395918149503103\n"
     ]
    }
   ],
   "source": [
    "from math import sqrt\n",
    "from sklearn.metrics import mean_squared_error\n",
    "\n",
    "def rmse(pred_df):\n",
    "    return sqrt(mean_squared_error(pred_df['total_amount'], pred_df['total_amount_predictions']))\n",
    "\n",
    "print('RMSE: {}'.format(rmse(pred_df)))"
   ]
  },
  {
   "cell_type": "markdown",
   "metadata": {},
   "source": [
    "## Deploy Prod\n",
    "\n",
    "### Approve Deployment to Production\n",
    "\n",
    "If you are happy with the results of the model, you can go ahead and approve the model to be deployed into production. You can do so by clicking the **Review** button in the CodePipeline UI, leaving a comment to explain why you approve this model, and clicking on **Approve**. \n",
    "\n",
    "Alternatively, you can create a Jupyter widget which (when enabled) allows you to comment and approve the model directly from this notebook. Run the cell below to see this in action."
   ]
  },
  {
   "cell_type": "code",
   "execution_count": 93,
   "metadata": {},
   "outputs": [
    {
     "name": "stdout",
     "output_type": "stream",
     "text": [
      "Dev approved: Approved by arn:aws:iam::342965497847:user/adminsaravg\n"
     ]
    }
   ],
   "source": [
    "import ipywidgets as widgets\n",
    "\n",
    "def on_click(obj):\n",
    "    result = { 'summary': approval_text.value, 'status': obj.description }\n",
    "    response = codepipeline.put_approval_result(\n",
    "      pipelineName=pipeline_name,\n",
    "      stageName='DeployDev',\n",
    "      actionName='ApproveDeploy',\n",
    "      result=result,\n",
    "      token=approval_action['token']\n",
    "    )\n",
    "    button_box.close()\n",
    "    print(result)\n",
    "    \n",
    "# Create the widget if we are ready for approval\n",
    "deploy_dev = get_pipeline_stage(pipeline_name, 'DeployDev')\n",
    "if not 'latestExecution' in deploy_dev['actionStates'][-1]:\n",
    "    raise(Exception('Please wait.  Deploy dev not complete'))\n",
    "\n",
    "approval_action = deploy_dev['actionStates'][-1]['latestExecution']\n",
    "if approval_action['status'] == 'Succeeded':\n",
    "    print('Dev approved: {}'.format(approval_action['summary']))\n",
    "elif 'token' in approval_action:\n",
    "    approval_text = widgets.Text(placeholder='Optional approval message')   \n",
    "    approve_btn = widgets.Button(description=\"Approved\", button_style='success', icon='check')\n",
    "    reject_btn = widgets.Button(description=\"Rejected\", button_style='danger', icon='close')\n",
    "    approve_btn.on_click(on_click)\n",
    "    reject_btn.on_click(on_click)\n",
    "    button_box = widgets.HBox([approval_text, approve_btn, reject_btn])\n",
    "    display(button_box)\n",
    "else:\n",
    "    raise(Exception('Please wait. No dev approval'))"
   ]
  },
  {
   "cell_type": "code",
   "execution_count": null,
   "metadata": {},
   "outputs": [],
   "source": [
    "deploy_prd = get_pipeline_stage(pipeline_name, 'DeployPrd')"
   ]
  },
  {
   "cell_type": "markdown",
   "metadata": {},
   "source": [
    "### Test Production Deployment\n",
    "\n",
    "Within about a minute after approving the model deployment, you should see the pipeline start on the final step: deploying your model into production. In this section, you will check the deployment status and test the production endpoint after it has been deployed.\n",
    "\n",
    "![Deploy production endpoint in code pipeline](../docs/deploy-production.png)\n",
    "\n",
    "This step of the pipeline uses CloudFormation to deploy a number of resources on your behalf. In particular, it creates:\n",
    "\n",
    "1. A production-ready SageMaker Endpoint for your model, with [data capture](https://docs.aws.amazon.com/sagemaker/latest/dg/model-monitor-data-capture.html)⇗  (used by SageMaker Model Monitor) and [autoscaling](https://docs.aws.amazon.com/sagemaker/latest/dg/endpoint-auto-scaling.html)⇗ enabled.\n",
    "1. A [model monitoring schedule](https://docs.aws.amazon.com/sagemaker/latest/dg/model-monitor-scheduling.html)⇗ which outputs the results to CloudWatch metrics, along with a [CloudWatch Alarm](https://docs.aws.amazon.com/AmazonCloudWatch/latest/monitoring/AlarmThatSendsEmail.html)⇗ which will notify you when a violation occurs. \n",
    "1. A CodeDeploy instance which creates a simple app by deploying API Gateway, three Lambda functions, and an alarm to notify of the success or failure of this deployment. The code for the Lambda functions can be found in `api/app.py`, `api/pre_traffic_hook.py`, and `api/post_traffic_hook.py`. These functions update the endpoint to enable data capture, format and submit incoming traffic to the SageMaker endpoint, and capture the data logs.\n",
    "\n",
    "![Components of production deployment](../docs/cloud-formation.png)\n",
    "\n",
    "Let's check how the deployment is progressing. Use the code below to fetch the execution ID of the depoyment step. Then generate a table which lists the resources created by the CloudFormation stack and their creation status. You can re-run the cell after a few minutes to see how the steps are progressing."
   ]
  },
  {
   "cell_type": "code",
   "execution_count": 102,
   "metadata": {},
   "outputs": [
    {
     "ename": "ClientError",
     "evalue": "An error occurred (AccessDeniedException) when calling the GetPipelineState operation: User: arn:aws:sts::342965497847:assumed-role/exp01-dev-modelexample-sagemaker-role/SageMaker is not authorized to perform: codepipeline:GetPipelineState on resource: arn:aws:codepipeline:eu-west-1:342965497847:modelexample",
     "output_type": "error",
     "traceback": [
      "\u001b[0;31m---------------------------------------------------------------------------\u001b[0m",
      "\u001b[0;31mClientError\u001b[0m                               Traceback (most recent call last)",
      "\u001b[0;32m<ipython-input-102-9ecd90c302d6>\u001b[0m in \u001b[0;36m<module>\u001b[0;34m\u001b[0m\n\u001b[0;32m----> 1\u001b[0;31m \u001b[0mdeploy_prd\u001b[0m \u001b[0;34m=\u001b[0m \u001b[0mget_pipeline_stage\u001b[0m\u001b[0;34m(\u001b[0m\u001b[0mmodel_name\u001b[0m\u001b[0;34m,\u001b[0m \u001b[0;34m'DeployPrd'\u001b[0m\u001b[0;34m)\u001b[0m\u001b[0;34m\u001b[0m\u001b[0;34m\u001b[0m\u001b[0m\n\u001b[0m\u001b[1;32m      2\u001b[0m \u001b[0mdeploy_prd\u001b[0m\u001b[0;34m\u001b[0m\u001b[0;34m\u001b[0m\u001b[0m\n",
      "\u001b[0;32m<ipython-input-77-59b15dffb02f>\u001b[0m in \u001b[0;36mget_pipeline_stage\u001b[0;34m(pipeline_name, stage_name)\u001b[0m\n\u001b[1;32m      2\u001b[0m \u001b[0;34m\u001b[0m\u001b[0m\n\u001b[1;32m      3\u001b[0m \u001b[0;32mdef\u001b[0m \u001b[0mget_pipeline_stage\u001b[0m\u001b[0;34m(\u001b[0m\u001b[0mpipeline_name\u001b[0m\u001b[0;34m,\u001b[0m \u001b[0mstage_name\u001b[0m\u001b[0;34m)\u001b[0m\u001b[0;34m:\u001b[0m\u001b[0;34m\u001b[0m\u001b[0;34m\u001b[0m\u001b[0m\n\u001b[0;32m----> 4\u001b[0;31m     \u001b[0mresponse\u001b[0m \u001b[0;34m=\u001b[0m \u001b[0mcodepipeline\u001b[0m\u001b[0;34m.\u001b[0m\u001b[0mget_pipeline_state\u001b[0m\u001b[0;34m(\u001b[0m\u001b[0mname\u001b[0m\u001b[0;34m=\u001b[0m\u001b[0mpipeline_name\u001b[0m\u001b[0;34m)\u001b[0m\u001b[0;34m\u001b[0m\u001b[0;34m\u001b[0m\u001b[0m\n\u001b[0m\u001b[1;32m      5\u001b[0m     \u001b[0;32mfor\u001b[0m \u001b[0mstage\u001b[0m \u001b[0;32min\u001b[0m \u001b[0mresponse\u001b[0m\u001b[0;34m[\u001b[0m\u001b[0;34m'stageStates'\u001b[0m\u001b[0;34m]\u001b[0m\u001b[0;34m:\u001b[0m\u001b[0;34m\u001b[0m\u001b[0;34m\u001b[0m\u001b[0m\n\u001b[1;32m      6\u001b[0m         \u001b[0;32mif\u001b[0m \u001b[0mstage\u001b[0m\u001b[0;34m[\u001b[0m\u001b[0;34m'stageName'\u001b[0m\u001b[0;34m]\u001b[0m \u001b[0;34m==\u001b[0m \u001b[0mstage_name\u001b[0m\u001b[0;34m:\u001b[0m\u001b[0;34m\u001b[0m\u001b[0;34m\u001b[0m\u001b[0m\n",
      "\u001b[0;32m~/anaconda3/envs/python3/lib/python3.6/site-packages/botocore/client.py\u001b[0m in \u001b[0;36m_api_call\u001b[0;34m(self, *args, **kwargs)\u001b[0m\n\u001b[1;32m    384\u001b[0m                     \"%s() only accepts keyword arguments.\" % py_operation_name)\n\u001b[1;32m    385\u001b[0m             \u001b[0;31m# The \"self\" in this scope is referring to the BaseClient.\u001b[0m\u001b[0;34m\u001b[0m\u001b[0;34m\u001b[0m\u001b[0;34m\u001b[0m\u001b[0m\n\u001b[0;32m--> 386\u001b[0;31m             \u001b[0;32mreturn\u001b[0m \u001b[0mself\u001b[0m\u001b[0;34m.\u001b[0m\u001b[0m_make_api_call\u001b[0m\u001b[0;34m(\u001b[0m\u001b[0moperation_name\u001b[0m\u001b[0;34m,\u001b[0m \u001b[0mkwargs\u001b[0m\u001b[0;34m)\u001b[0m\u001b[0;34m\u001b[0m\u001b[0;34m\u001b[0m\u001b[0m\n\u001b[0m\u001b[1;32m    387\u001b[0m \u001b[0;34m\u001b[0m\u001b[0m\n\u001b[1;32m    388\u001b[0m         \u001b[0m_api_call\u001b[0m\u001b[0;34m.\u001b[0m\u001b[0m__name__\u001b[0m \u001b[0;34m=\u001b[0m \u001b[0mstr\u001b[0m\u001b[0;34m(\u001b[0m\u001b[0mpy_operation_name\u001b[0m\u001b[0;34m)\u001b[0m\u001b[0;34m\u001b[0m\u001b[0;34m\u001b[0m\u001b[0m\n",
      "\u001b[0;32m~/anaconda3/envs/python3/lib/python3.6/site-packages/botocore/client.py\u001b[0m in \u001b[0;36m_make_api_call\u001b[0;34m(self, operation_name, api_params)\u001b[0m\n\u001b[1;32m    703\u001b[0m             \u001b[0merror_code\u001b[0m \u001b[0;34m=\u001b[0m \u001b[0mparsed_response\u001b[0m\u001b[0;34m.\u001b[0m\u001b[0mget\u001b[0m\u001b[0;34m(\u001b[0m\u001b[0;34m\"Error\"\u001b[0m\u001b[0;34m,\u001b[0m \u001b[0;34m{\u001b[0m\u001b[0;34m}\u001b[0m\u001b[0;34m)\u001b[0m\u001b[0;34m.\u001b[0m\u001b[0mget\u001b[0m\u001b[0;34m(\u001b[0m\u001b[0;34m\"Code\"\u001b[0m\u001b[0;34m)\u001b[0m\u001b[0;34m\u001b[0m\u001b[0;34m\u001b[0m\u001b[0m\n\u001b[1;32m    704\u001b[0m             \u001b[0merror_class\u001b[0m \u001b[0;34m=\u001b[0m \u001b[0mself\u001b[0m\u001b[0;34m.\u001b[0m\u001b[0mexceptions\u001b[0m\u001b[0;34m.\u001b[0m\u001b[0mfrom_code\u001b[0m\u001b[0;34m(\u001b[0m\u001b[0merror_code\u001b[0m\u001b[0;34m)\u001b[0m\u001b[0;34m\u001b[0m\u001b[0;34m\u001b[0m\u001b[0m\n\u001b[0;32m--> 705\u001b[0;31m             \u001b[0;32mraise\u001b[0m \u001b[0merror_class\u001b[0m\u001b[0;34m(\u001b[0m\u001b[0mparsed_response\u001b[0m\u001b[0;34m,\u001b[0m \u001b[0moperation_name\u001b[0m\u001b[0;34m)\u001b[0m\u001b[0;34m\u001b[0m\u001b[0;34m\u001b[0m\u001b[0m\n\u001b[0m\u001b[1;32m    706\u001b[0m         \u001b[0;32melse\u001b[0m\u001b[0;34m:\u001b[0m\u001b[0;34m\u001b[0m\u001b[0;34m\u001b[0m\u001b[0m\n\u001b[1;32m    707\u001b[0m             \u001b[0;32mreturn\u001b[0m \u001b[0mparsed_response\u001b[0m\u001b[0;34m\u001b[0m\u001b[0;34m\u001b[0m\u001b[0m\n",
      "\u001b[0;31mClientError\u001b[0m: An error occurred (AccessDeniedException) when calling the GetPipelineState operation: User: arn:aws:sts::342965497847:assumed-role/exp01-dev-modelexample-sagemaker-role/SageMaker is not authorized to perform: codepipeline:GetPipelineState on resource: arn:aws:codepipeline:eu-west-1:342965497847:modelexample"
     ]
    }
   ],
   "source": [
    "deploy_prd = get_pipeline_stage(pipeline_name, 'DeployPrd')\n",
    "deploy_prd"
   ]
  },
  {
   "cell_type": "code",
   "execution_count": 99,
   "metadata": {},
   "outputs": [
    {
     "ename": "TypeError",
     "evalue": "argument of type 'NoneType' is not iterable",
     "output_type": "error",
     "traceback": [
      "\u001b[0;31m---------------------------------------------------------------------------\u001b[0m",
      "\u001b[0;31mTypeError\u001b[0m                                 Traceback (most recent call last)",
      "\u001b[0;32m<ipython-input-99-8c5e6e137b16>\u001b[0m in \u001b[0;36m<module>\u001b[0;34m\u001b[0m\n\u001b[1;32m      1\u001b[0m \u001b[0mdeploy_prd\u001b[0m \u001b[0;34m=\u001b[0m \u001b[0mget_pipeline_stage\u001b[0m\u001b[0;34m(\u001b[0m\u001b[0mpipeline_name\u001b[0m\u001b[0;34m,\u001b[0m \u001b[0;34m'DeployPrd'\u001b[0m\u001b[0;34m)\u001b[0m\u001b[0;34m\u001b[0m\u001b[0;34m\u001b[0m\u001b[0m\n\u001b[0;32m----> 2\u001b[0;31m \u001b[0;32mif\u001b[0m \u001b[0;32mnot\u001b[0m \u001b[0;34m'latestExecution'\u001b[0m \u001b[0;32min\u001b[0m \u001b[0mdeploy_prd\u001b[0m \u001b[0;32mor\u001b[0m \u001b[0;32mnot\u001b[0m \u001b[0;34m'latestExecution'\u001b[0m \u001b[0;32min\u001b[0m \u001b[0mdeploy_prd\u001b[0m\u001b[0;34m[\u001b[0m\u001b[0;34m'actionStates'\u001b[0m\u001b[0;34m]\u001b[0m\u001b[0;34m[\u001b[0m\u001b[0;36m0\u001b[0m\u001b[0;34m]\u001b[0m\u001b[0;34m:\u001b[0m\u001b[0;34m\u001b[0m\u001b[0;34m\u001b[0m\u001b[0m\n\u001b[0m\u001b[1;32m      3\u001b[0m     \u001b[0;32mraise\u001b[0m\u001b[0;34m(\u001b[0m\u001b[0mException\u001b[0m\u001b[0;34m(\u001b[0m\u001b[0;34m'Please wait.  Deploy prd not started'\u001b[0m\u001b[0;34m)\u001b[0m\u001b[0;34m)\u001b[0m\u001b[0;34m\u001b[0m\u001b[0;34m\u001b[0m\u001b[0m\n\u001b[1;32m      4\u001b[0m \u001b[0mdeploy_prd\u001b[0m\u001b[0;34m\u001b[0m\u001b[0;34m\u001b[0m\u001b[0m\n\u001b[1;32m      5\u001b[0m \u001b[0mexecution_id\u001b[0m \u001b[0;34m=\u001b[0m \u001b[0mdeploy_prd\u001b[0m\u001b[0;34m[\u001b[0m\u001b[0;34m'latestExecution'\u001b[0m\u001b[0;34m]\u001b[0m\u001b[0;34m[\u001b[0m\u001b[0;34m'pipelineExecutionId'\u001b[0m\u001b[0;34m]\u001b[0m\u001b[0;34m\u001b[0m\u001b[0;34m\u001b[0m\u001b[0m\n",
      "\u001b[0;31mTypeError\u001b[0m: argument of type 'NoneType' is not iterable"
     ]
    }
   ],
   "source": [
    "\n",
    "if not 'latestExecution' in deploy_prd or not 'latestExecution' in deploy_prd['actionStates'][0]:\n",
    "    raise(Exception('Please wait.  Deploy prd not started'))\n",
    "\n",
    "execution_id = deploy_prd['latestExecution']['pipelineExecutionId']"
   ]
  },
  {
   "cell_type": "code",
   "execution_count": null,
   "metadata": {},
   "outputs": [],
   "source": [
    "from datetime import datetime, timedelta\n",
    "from dateutil.tz import tzlocal\n",
    "\n",
    "def get_event_dataframe(events):\n",
    "    stack_cols = ['LogicalResourceId', 'ResourceStatus', 'ResourceStatusReason', 'Timestamp']\n",
    "    stack_event_df = pd.DataFrame(events)[stack_cols].fillna('')\n",
    "    stack_event_df['TimeAgo'] = (datetime.now(tzlocal())-stack_event_df['Timestamp'])\n",
    "    return stack_event_df.drop('Timestamp', axis=1)\n",
    "\n",
    "cfn = boto3.client('cloudformation')\n",
    "\n",
    "stack_name = stack_name='{}-deploy-prd'.format(pipeline_name)\n",
    "print('stack name: {}'.format(stack_name))\n",
    "\n",
    "# Get latest stack events\n",
    "while True:\n",
    "    try:\n",
    "        response = cfn.describe_stack_events(StackName=stack_name)\n",
    "        break\n",
    "    except ClientError as e:\n",
    "        print(e.response[\"Error\"][\"Message\"])\n",
    "    time.sleep(10)\n",
    "    \n",
    "get_event_dataframe(response['StackEvents']).head()"
   ]
  },
  {
   "cell_type": "markdown",
   "metadata": {},
   "source": [
    "The resource of most interest to us is the endpoint. This takes on average 10 minutes to deploy.  In the meantime, you can take a look at the Python code used for the application. \n",
    "\n",
    "The `app.py` is the main entry point invoking the Amazon SageMaker endpoint.  It returns results along with a custom header for the endpoint we invoked."
   ]
  },
  {
   "cell_type": "code",
   "execution_count": null,
   "metadata": {},
   "outputs": [],
   "source": [
    "!pygmentize ../api/app.py"
   ]
  },
  {
   "cell_type": "markdown",
   "metadata": {},
   "source": [
    "The `pre_traffic_hook.py` lambda is invoked prior to deployment and confirms the endpoint has data capture enabled."
   ]
  },
  {
   "cell_type": "code",
   "execution_count": null,
   "metadata": {},
   "outputs": [],
   "source": [
    "!pygmentize ../api/pre_traffic_hook.py"
   ]
  },
  {
   "cell_type": "markdown",
   "metadata": {},
   "source": [
    "The `post_traffic_hook.py` lambda is invoked to perform any final checks, in this case to verify that we have received log data from data capature."
   ]
  },
  {
   "cell_type": "code",
   "execution_count": null,
   "metadata": {},
   "outputs": [],
   "source": [
    "!pygmentize ../api/post_traffic_hook.py"
   ]
  },
  {
   "cell_type": "markdown",
   "metadata": {},
   "source": [
    "Use the code below to fetch the name of the endpoint, then run a loop to wait for the endpoint to be fully deployed. You need the status to be 'InService'."
   ]
  },
  {
   "cell_type": "code",
   "execution_count": null,
   "metadata": {},
   "outputs": [],
   "source": [
    "prd_endpoint_name='mlops-{}-prd-{}'.format(model_name, execution_id)\n",
    "print('prod endpoint: {}'.format(prd_endpoint_name))"
   ]
  },
  {
   "cell_type": "code",
   "execution_count": null,
   "metadata": {},
   "outputs": [],
   "source": [
    "sm = boto3.client('sagemaker')\n",
    "\n",
    "while True:\n",
    "    try:\n",
    "        response = sm.describe_endpoint(EndpointName=prd_endpoint_name)\n",
    "        print(\"Endpoint status: {}\".format(response['EndpointStatus']))\n",
    "        # Wait until the endpoint is in service with data capture enabled\n",
    "        if response['EndpointStatus'] == 'InService' \\\n",
    "            and 'DataCaptureConfig' in response \\\n",
    "            and response['DataCaptureConfig']['EnableCapture']:\n",
    "            break\n",
    "    except ClientError as e:\n",
    "        print(e.response[\"Error\"][\"Message\"])\n",
    "    time.sleep(10)"
   ]
  },
  {
   "cell_type": "markdown",
   "metadata": {},
   "source": [
    "When the endpoint status is 'InService', you can continue. Earlier in this notebook, you created some code to send data to the dev endpoint. Reuse this code now to send a sample of the test data to the production endpoint. Since data capture is enabled on this endpoint, you want to send single records at a time, so the model monitor can map these records to the baseline. \n",
    "\n",
    "You will [inspect the model monitor](#Inspect-Model-Monitor) later in this notebook. For now, just check if you can send data to the endpoint and receive predictions in return."
   ]
  },
  {
   "cell_type": "code",
   "execution_count": null,
   "metadata": {},
   "outputs": [],
   "source": [
    "prd_predictor = get_predictor(prd_endpoint_name)\n",
    "sample_values = test_df[test_df.columns[1:]].sample(100).values\n",
    "predictions = predict(prd_predictor, sample_values, rows=1)\n",
    "predictions"
   ]
  },
  {
   "cell_type": "markdown",
   "metadata": {},
   "source": [
    "### Test REST API\n",
    "\n",
    "Although you already tested the SageMaker endpoint in the previous section, it is also a good idea to test the application created with API Gateway. \n",
    "\n",
    "![Traffic shift between endpoints](../docs/lambda-deploy-create.png)\n",
    "\n",
    "Follow the link below to open the Lambda Deployment where you can see the in-progress and completed deployments. You can also click to expand the **SAM template** to see the packaged CloudFormation template used in the deployment."
   ]
  },
  {
   "cell_type": "code",
   "execution_count": null,
   "metadata": {
    "scrolled": true
   },
   "outputs": [],
   "source": [
    "HTML('<a target=\"_blank\" href=\"https://{0}.console.aws.amazon.com/lambda/home?region={0}#/applications/{1}-deploy-prd?tab=deploy\">Lambda Deployment</a>'.format(region, model_name))"
   ]
  },
  {
   "cell_type": "markdown",
   "metadata": {},
   "source": [
    "Run the code below to confirm that the endpoint is in service.  It will complete once the REST API is available."
   ]
  },
  {
   "cell_type": "code",
   "execution_count": null,
   "metadata": {},
   "outputs": [],
   "source": [
    "def get_stack_status(stack_name):\n",
    "    response = cfn.describe_stacks(StackName=stack_name)\n",
    "    if response['Stacks']:\n",
    "        stack = response['Stacks'][0]\n",
    "        outputs = None\n",
    "        if 'Outputs' in stack:\n",
    "            outputs = dict([(o['OutputKey'], o['OutputValue']) for o in stack['Outputs']])\n",
    "        return stack['StackStatus'], outputs \n",
    "\n",
    "outputs = None\n",
    "while True:\n",
    "    try:\n",
    "        status, outputs = get_stack_status(stack_name)\n",
    "        response = sm.describe_endpoint(EndpointName=prd_endpoint_name)\n",
    "        print(\"Endpoint status: {}\".format(response['EndpointStatus']))\n",
    "        if outputs:\n",
    "            break\n",
    "        elif status.endswith('FAILED'):\n",
    "            raise(Exception('Stack status: {}'.format(status)))\n",
    "    except ClientError as e:\n",
    "        print(e.response[\"Error\"][\"Message\"])\n",
    "    time.sleep(10)\n",
    "\n",
    "if outputs:\n",
    "    print('deployment application: {}'.format(outputs['DeploymentApplication']))\n",
    "    print('rest api: {}'.format(outputs['RestApi']))"
   ]
  },
  {
   "cell_type": "markdown",
   "metadata": {},
   "source": [
    "If you are performing an update on your production deployment as a result of running [Trigger Retraining](#Trigger-Retraining) you will then be able to expand the Lambda Deployment tab to reveal the resources. Click on the **ApiFunctionAliaslive** link to see the Lambda Deployment in progress. \n",
    "\n",
    "![Traffic shift between endpoints](../docs/lambda-deploy-update.png)\n",
    "\n",
    "This page will be updated to list the deployment events.  It also has a link to the Deployment Application which you can access in the output of the next cell."
   ]
  },
  {
   "cell_type": "code",
   "execution_count": null,
   "metadata": {},
   "outputs": [],
   "source": [
    "HTML('<a target=\"_blank\" href=\"https://{0}.console.aws.amazon.com/codesuite/codedeploy/applications/{1}?region={0}\">CodeDeploy application</a>'.format(region, outputs['DeploymentApplication']))"
   ]
  },
  {
   "cell_type": "markdown",
   "metadata": {},
   "source": [
    "CodeDeploy will perform a canary deployment and send 10% of the traffic to the new endpoint over a 5-minute period.\n",
    "\n",
    "![Traffic shift between endpoints](../docs/code-deploy.gif)"
   ]
  },
  {
   "cell_type": "markdown",
   "metadata": {},
   "source": [
    "We can invoke the REST API and inspect the headers being returned to see which endpoint we are hitting.  You will occasionally see the cell below show a different endpoint that settles to the new version once the stack is complete.  "
   ]
  },
  {
   "cell_type": "code",
   "execution_count": null,
   "metadata": {},
   "outputs": [],
   "source": [
    "%%time\n",
    "\n",
    "from urllib import request\n",
    "\n",
    "headers = {\"Content-type\": \"text/csv\"}\n",
    "payload = test_df[test_df.columns[1:]].head(1).to_csv(header=False, index=False).encode('utf-8')\n",
    "rest_api = outputs['RestApi']\n",
    "\n",
    "while True:\n",
    "    try:\n",
    "        resp = request.urlopen(request.Request(rest_api, data=payload, headers=headers))\n",
    "        print(\"Response code: %d: endpoint: %s\" % (resp.getcode(), resp.getheader('x-sagemaker-endpoint')))\n",
    "        status, outputs = get_stack_status(stack_name) \n",
    "        if status.endswith('COMPLETE'):\n",
    "            print('Deployment complete\\n')\n",
    "            break\n",
    "        elif status.endswith('FAILED'):\n",
    "            raise(Exception('Stack status: {}'.format(status)))\n",
    "    except ClientError as e:\n",
    "        print(e.response[\"Error\"][\"Message\"])\n",
    "    time.sleep(10)"
   ]
  },
  {
   "cell_type": "markdown",
   "metadata": {},
   "source": [
    "## Monitor\n",
    "\n",
    "### Inspect Model Monitor\n",
    "\n",
    "When you prepared the datasets for model training at the start of this notebook, you saved a baseline dataset (a copy of the train dataset). Then, when you approved the model for deployment into production, the pipeline set up an SageMaker Endpoint with data capture enabled and a model monitoring schedule. In this section, you will take a closer look at the model monitor results.\n",
    "\n",
    "To start off, fetch the latest production deployment execution ID."
   ]
  },
  {
   "cell_type": "code",
   "execution_count": null,
   "metadata": {},
   "outputs": [],
   "source": [
    "deploy_prd = get_pipeline_stage(pipeline_name, 'DeployPrd')\n",
    "if not 'latestExecution' in deploy_prd:\n",
    "    raise(Exception('Please wait.  Deploy prod not complete'))\n",
    "    \n",
    "execution_id = deploy_prd['latestExecution']['pipelineExecutionId']"
   ]
  },
  {
   "cell_type": "markdown",
   "metadata": {},
   "source": [
    "Under the hood, SageMaker model monitor runs in SageMaker processing jobs. Use the execution ID to fetch the names of the processing job and the schedule."
   ]
  },
  {
   "cell_type": "code",
   "execution_count": null,
   "metadata": {},
   "outputs": [],
   "source": [
    "processing_job_name='mlops-{}-pbl-{}'.format(model_name, execution_id)\n",
    "schedule_name='mlops-{}-pms'.format(model_name)\n",
    "\n",
    "print('processing job name: {}'.format(processing_job_name))\n",
    "print('schedule name: {}'.format(schedule_name))"
   ]
  },
  {
   "cell_type": "markdown",
   "metadata": {},
   "source": [
    "### Explore Baseline\n",
    "\n",
    "Now fetch the baseline results from the processing job. This cell will throw an exception if the processing job is not complete - if that happens, just wait several minutes and try again. <a id=\"view-baseline-results\"></a>"
   ]
  },
  {
   "cell_type": "code",
   "execution_count": null,
   "metadata": {
    "scrolled": true
   },
   "outputs": [],
   "source": [
    "import sagemaker\n",
    "from sagemaker.model_monitor import BaseliningJob, MonitoringExecution\n",
    "from sagemaker.s3 import S3Downloader\n",
    "\n",
    "sagemaker_session = sagemaker.Session()\n",
    "baseline_job = BaseliningJob.from_processing_name(sagemaker_session, processing_job_name)\n",
    "status = baseline_job.describe()['ProcessingJobStatus']\n",
    "if status != 'Completed':\n",
    "    raise(Exception('Please wait. Processing job not complete, status: {}'.format(status)))\n",
    "    \n",
    "baseline_results_uri  = baseline_job.outputs[0].destination"
   ]
  },
  {
   "cell_type": "markdown",
   "metadata": {},
   "source": [
    "SageMaker model monitor generates two types of files. Take a look at the statistics file first. It calculates various statistics for each feature of the dataset, including the mean, standard deviation, minimum value, maximum value, and more. "
   ]
  },
  {
   "cell_type": "code",
   "execution_count": null,
   "metadata": {
    "scrolled": true
   },
   "outputs": [],
   "source": [
    "import pandas as pd\n",
    "import json\n",
    "\n",
    "baseline_statistics = baseline_job.baseline_statistics().body_dict\n",
    "schema_df = pd.json_normalize(baseline_statistics[\"features\"])\n",
    "schema_df[[\"name\", \"numerical_statistics.mean\", \"numerical_statistics.std_dev\",\n",
    "           \"numerical_statistics.min\", \"numerical_statistics.max\"]].head()"
   ]
  },
  {
   "cell_type": "markdown",
   "metadata": {},
   "source": [
    "Now look at the suggested [constraints files](https://docs.aws.amazon.com/sagemaker/latest/dg/model-monitor-byoc-constraints.html)⇗. As the name implies, these are constraints which SageMaker model monitor recommends. If the live data which is sent to your production SageMaker Endpoint violates these constraints, this indicates data drift, and model monitor can raise an alert to trigger retraining. Of course, you can set different constraints based on the statistics which you viewed previously."
   ]
  },
  {
   "cell_type": "code",
   "execution_count": null,
   "metadata": {},
   "outputs": [],
   "source": [
    "baseline_constraints = baseline_job.suggested_constraints().body_dict\n",
    "constraints_df = pd.json_normalize(baseline_constraints[\"features\"])\n",
    "constraints_df.head()"
   ]
  },
  {
   "cell_type": "markdown",
   "metadata": {},
   "source": [
    "### View data capture\n",
    "\n",
    "When the \"Deploy Production\" stage of the MLOps pipeline deploys a SageMaker endpoint, it also enables data capture. This means the incoming requests to the endpoint, as well as the results from the ML model, are stored in an S3 location. Model monitor can analyze this data and compare it to the baseline to ensure that no constraints are violated. \n",
    "\n",
    "Use the code below to check how many files have been created by the data capture, and view the latest file in detail. Note, data capture relies on data being sent to the production endpoint. If you don't see any files yet, wait several minutes and try again."
   ]
  },
  {
   "cell_type": "code",
   "execution_count": null,
   "metadata": {},
   "outputs": [],
   "source": [
    "bucket = sagemaker_session.default_bucket()\n",
    "data_capture_logs_uri = 's3://{}/{}/datacapture/{}'.format(bucket, model_name, prd_endpoint_name)\n",
    "\n",
    "capture_files = S3Downloader.list(data_capture_logs_uri)\n",
    "print('Found {} files'.format(len(capture_files)))\n",
    "\n",
    "if capture_files:\n",
    "    # Get the first line of the most recent file    \n",
    "    event = json.loads(S3Downloader.read_file(capture_files[-1]).split('\\n')[0])\n",
    "    print('\\nLast file:\\n{}'.format(json.dumps(event, indent=2)))"
   ]
  },
  {
   "cell_type": "markdown",
   "metadata": {},
   "source": [
    "### View monitoring schedule\n",
    "\n",
    "There are some useful functions for plotting and rendering distribution statistics or constraint violations provided in a `utils` file in the [SageMaker Examples GitHub](https://github.com/aws/amazon-sagemaker-examples/tree/master/sagemaker_model_monitor/visualization)⇗. Grab a copy of this code to use in this notebook. "
   ]
  },
  {
   "cell_type": "code",
   "execution_count": null,
   "metadata": {},
   "outputs": [],
   "source": [
    "!wget -O utils.py --quiet https://raw.githubusercontent.com/awslabs/amazon-sagemaker-examples/master/sagemaker_model_monitor/visualization/utils.py\n",
    "import utils as mu"
   ]
  },
  {
   "cell_type": "markdown",
   "metadata": {},
   "source": [
    "The [minimum scheduled run time](https://docs.aws.amazon.com/sagemaker/latest/dg/model-monitor-scheduling.html)⇗ for model monitor is one hour, which means you will need to wait at least an hour to see any results. Use the code below to check the schedule status and list the next run. If you are completing this notebook as part of a workshop, your host will have activities which you can complete while you wait. "
   ]
  },
  {
   "cell_type": "code",
   "execution_count": null,
   "metadata": {},
   "outputs": [],
   "source": [
    "sm = boto3.client('sagemaker')\n",
    "\n",
    "response = sm.describe_monitoring_schedule(MonitoringScheduleName=schedule_name)\n",
    "print('Schedule Status: {}'.format(response['MonitoringScheduleStatus']))\n",
    "\n",
    "now = datetime.now(tzlocal())\n",
    "next_hour = (now+timedelta(hours=1)).replace(minute=0)\n",
    "scheduled_diff = (next_hour-now).seconds//60\n",
    "print('Next schedule in {} minutes'.format(scheduled_diff))"
   ]
  },
  {
   "cell_type": "markdown",
   "metadata": {},
   "source": [
    "While you wait, you can take a look at the CloudFormation template which is used as a base for the CloudFormation template built by CodeDeploy to deploy the production application. \n",
    "\n",
    "Alterntively, you can jump ahead to [Trigger Retraining](#Trigger-Retraining) which will kick off another run of the code pipeline whilst you wait."
   ]
  },
  {
   "cell_type": "code",
   "execution_count": null,
   "metadata": {},
   "outputs": [],
   "source": [
    "!cat ../assets/deploy-model-prd.yml"
   ]
  },
  {
   "cell_type": "markdown",
   "metadata": {},
   "source": [
    "A couple of minutes after the model monitoring schedule has run, you can use the code below to fetch the latest schedule status.  A completed schedule run may have found violations. "
   ]
  },
  {
   "cell_type": "code",
   "execution_count": null,
   "metadata": {},
   "outputs": [],
   "source": [
    "processing_job_arn = None\n",
    "\n",
    "while processing_job_arn == None:\n",
    "    try:\n",
    "        response = sm.list_monitoring_executions(MonitoringScheduleName=schedule_name)\n",
    "    except ClientError as e:\n",
    "        print(e.response[\"Error\"][\"Message\"])\n",
    "    for mon in response['MonitoringExecutionSummaries']:\n",
    "        status = mon['MonitoringExecutionStatus']\n",
    "        now = datetime.now(tzlocal())\n",
    "        created_diff = (now-mon['CreationTime']).seconds//60\n",
    "        print('Schedule status: {}, Created: {} minutes ago'.format(status, created_diff))\n",
    "        if status in ['Completed', 'CompletedWithViolations']:\n",
    "            processing_job_arn = mon['ProcessingJobArn']\n",
    "            break\n",
    "        if status == 'InProgress':\n",
    "            break\n",
    "    else:\n",
    "        raise(Exception('Please wait.  No Schedules executing'))\n",
    "    time.sleep(10)"
   ]
  },
  {
   "cell_type": "markdown",
   "metadata": {},
   "source": [
    "### View monitoring results\n",
    "\n",
    "Once the model monitoring schedule has had a chance to run at least once, you can take a look at the results. First, load the monitoring execution results from the latest scheduled run."
   ]
  },
  {
   "cell_type": "code",
   "execution_count": null,
   "metadata": {},
   "outputs": [],
   "source": [
    "if processing_job_arn:\n",
    "    execution = MonitoringExecution.from_processing_arn(sagemaker_session=sagemaker.Session(),\n",
    "                                                        processing_job_arn=processing_job_arn)\n",
    "    exec_inputs = {inp['InputName']: inp for inp in execution.describe()['ProcessingInputs']}\n",
    "    exec_results_uri = execution.output.destination\n",
    "\n",
    "    print('Monitoring Execution results: {}'.format(exec_results_uri))"
   ]
  },
  {
   "cell_type": "markdown",
   "metadata": {},
   "source": [
    "Take a look at the files which have been saved in the S3 output location. If violations were found, you should see a constraint violations file in addition to the statistics and constraints file which you viewed before."
   ]
  },
  {
   "cell_type": "code",
   "execution_count": null,
   "metadata": {},
   "outputs": [],
   "source": [
    "!aws s3 ls $exec_results_uri/"
   ]
  },
  {
   "cell_type": "markdown",
   "metadata": {},
   "source": [
    "Now, fetch the monitoring statistics and violations. Then use the utils code to visualize the results in a table. It will highlight any baseline drift found by the model monitor. Drift can happen for categorical features (for inferred string styles) or for numerical features (e.g. total fare amount)."
   ]
  },
  {
   "cell_type": "code",
   "execution_count": null,
   "metadata": {},
   "outputs": [],
   "source": [
    "# Get the baseline and monitoring statistics & violations\n",
    "baseline_statistics = baseline_job.baseline_statistics().body_dict\n",
    "execution_statistics = execution.statistics().body_dict\n",
    "violations = execution.constraint_violations().body_dict['violations']"
   ]
  },
  {
   "cell_type": "code",
   "execution_count": null,
   "metadata": {},
   "outputs": [],
   "source": [
    "mu.show_violation_df(baseline_statistics=baseline_statistics, \n",
    "                     latest_statistics=execution_statistics, \n",
    "                     violations=violations)"
   ]
  },
  {
   "cell_type": "markdown",
   "metadata": {},
   "source": [
    "### Trigger Retraining\n",
    "\n",
    "The CodePipeline instance is configured with [CloudWatch Events](https://docs.aws.amazon.com/codepipeline/latest/userguide/create-cloudtrail-S3-source.html)⇗ to start the pipeline for retraining when the drift detection triggers specific metric alarms.\n",
    "\n",
    "You can simulate drift by putting a metric value above the threshold of `0.2` directly into CloudWatch.  This will trigger the alarm, and start the code pipeline.\n",
    "\n",
    "<div class=\"alert alert-block alert-info\">\n",
    "    Tip: This alarm is configured only for the latest production endpoint, so re-training will only occur if you are putting metrics against the latest endpoint.\n",
    "</div>\n",
    "\n",
    "![Metric graph in CloudWatch](../docs/cloudwatch-alarm.png)\n",
    "\n",
    "Run the code below to trigger the metric alarm. The cell output will be a link to CloudWatch, where you can see the alarm (similar to the screenshot above), and a link to CodePipeline which you will see run again. Note that it can take a couple of minutes for everything to trigger."
   ]
  },
  {
   "cell_type": "code",
   "execution_count": null,
   "metadata": {},
   "outputs": [],
   "source": [
    "from datetime import datetime\n",
    "import random\n",
    "\n",
    "cloudwatch = boto3.client('cloudwatch')\n",
    "\n",
    "# Define the metric name and threshold\n",
    "metric_name = 'feature_baseline_drift_total_amount'\n",
    "metric_threshold = 0.2\n",
    "\n",
    "# Put a new metric to trigger an alaram\n",
    "def put_drift_metric(value):\n",
    "    print('Putting metric: {}'.format(value))\n",
    "    response = cloudwatch.put_metric_data(\n",
    "        Namespace='aws/sagemaker/Endpoints/data-metrics',\n",
    "        MetricData=[\n",
    "            {\n",
    "                'MetricName': metric_name,\n",
    "                'Dimensions': [\n",
    "                    {\n",
    "                        'Name': 'MonitoringSchedule',\n",
    "                        'Value': schedule_name\n",
    "                    },\n",
    "                    {\n",
    "                        'Name': 'Endpoint',\n",
    "                        'Value': prd_endpoint_name\n",
    "                    },\n",
    "                ],\n",
    "                'Timestamp': datetime.now(),\n",
    "                'Value': value,\n",
    "                'Unit': 'None'\n",
    "            },\n",
    "        ]\n",
    "    )\n",
    "    \n",
    "def get_drift_stats():\n",
    "    response = cloudwatch.get_metric_statistics(\n",
    "        Namespace='aws/sagemaker/Endpoints/data-metrics',\n",
    "        MetricName=metric_name,\n",
    "        Dimensions=[\n",
    "            {\n",
    "                'Name': 'MonitoringSchedule',\n",
    "                'Value': schedule_name\n",
    "            },\n",
    "            {\n",
    "                'Name': 'Endpoint',\n",
    "                'Value': prd_endpoint_name\n",
    "            },\n",
    "        ],\n",
    "        StartTime=datetime.now() - timedelta(minutes=2),\n",
    "        EndTime=datetime.now(),\n",
    "        Period=1,\n",
    "        Statistics=['Average'],\n",
    "        Unit='None'\n",
    "    )\n",
    "    if 'Datapoints' in response and len(response['Datapoints']) > 0:        \n",
    "        return response['Datapoints'][0]['Average']\n",
    "    return 0    \n",
    "\n",
    "print('Simluate drift on endpoint: {}'.format(prd_endpoint_name))\n",
    "\n",
    "while True:\n",
    "    put_drift_metric(round(random.uniform(metric_threshold, 1.0), 4))\n",
    "    drift_stats = get_drift_stats()\n",
    "    print('Average drift amount: {}'.format(get_drift_stats()))\n",
    "    if drift_stats > metric_threshold:\n",
    "        break\n",
    "    time.sleep(1)"
   ]
  },
  {
   "cell_type": "markdown",
   "metadata": {},
   "source": [
    "Click through to the Alarm and CodePipeline Execution history with the links below."
   ]
  },
  {
   "cell_type": "code",
   "execution_count": null,
   "metadata": {},
   "outputs": [],
   "source": [
    "# Output a html link to the cloudwatch dashboard\n",
    "metric_alarm_name = 'mlops-{}-metric-gt-threshold'.format(model_name)\n",
    "HTML('''<a target=\"_blank\" href=\"https://{0}.console.aws.amazon.com/cloudwatch/home?region={0}#alarmsV2:alarm/{1}\">CloudWatch Alarm</a> triggers\n",
    "     <a target=\"_blank\" href=\"https://{0}.console.aws.amazon.com/codesuite/codepipeline/pipelines/{2}/executions?region={0}\">Code Pipeline Execution</a>'''.format(region, metric_alarm_name, pipeline_name))"
   ]
  },
  {
   "cell_type": "markdown",
   "metadata": {},
   "source": [
    "Once the pipeline is running again you can jump back up to [Inspect Training Job](#Inspect-Training-Job)"
   ]
  },
  {
   "cell_type": "markdown",
   "metadata": {},
   "source": [
    "### Create Synthetic Monitoring\n",
    "\n",
    "[Amazon CloudWatch Synthetics](https://aws.amazon.com/blogs/aws/new-use-cloudwatch-synthetics-to-monitor-sites-api-endpoints-web-workflows-and-more/) allows you to monitor sites, REST APIs, and other services deployed on AWS. You can set up a canary to test that your REST API is returning an expected value at a regular interval. This is a great way to validate that the blue/green deployment is not causing any downtime for your end-users.\n",
    "\n",
    "Use the code below to set up a canary to continuously test the production deployment. This canary simply pings the REST API to test if it is live, using code from `notebook/canary.js`."
   ]
  },
  {
   "cell_type": "code",
   "execution_count": null,
   "metadata": {},
   "outputs": [],
   "source": [
    "from urllib.parse import urlparse\n",
    "from string import Template\n",
    "from io import BytesIO\n",
    "import zipfile\n",
    "\n",
    "# Format the canary_js with rest_api and payload\n",
    "rest_url = urlparse(rest_api)\n",
    "\n",
    "with open('canary.js') as f:\n",
    "    canary_js = Template(f.read()).substitute(hostname=rest_url.netloc, path=rest_url.path, \n",
    "                                              data=payload.decode('utf-8').strip())\n",
    "# Write the zip file\n",
    "zip_buffer = BytesIO()\n",
    "with zipfile.ZipFile(zip_buffer, 'w') as zf:\n",
    "    zip_path = 'nodejs/node_modules/apiCanaryBlueprint.js' # Set a valid path\n",
    "    zip_info = zipfile.ZipInfo(zip_path)\n",
    "    zip_info.external_attr = 0o0755 << 16 # Ensure the file is readable\n",
    "    zf.writestr(zip_info, canary_js)\n",
    "zip_buffer.seek(0)\n",
    "\n",
    "# Create the canary\n",
    "synth = boto3.client('synthetics')\n",
    "\n",
    "role = sagemaker.get_execution_role()\n",
    "s3_canary_uri = 's3://{}/{}'.format(artifact_bucket, model_name)\n",
    "canary_name = 'mlops-{}'.format(model_name)\n",
    "\n",
    "try:\n",
    "    response = synth.create_canary(\n",
    "        Name=canary_name,\n",
    "        Code={\n",
    "            'ZipFile': bytearray(zip_buffer.read()),\n",
    "            'Handler': 'apiCanaryBlueprint.handler'\n",
    "        },\n",
    "        ArtifactS3Location=s3_canary_uri,\n",
    "        ExecutionRoleArn=role,\n",
    "        Schedule={ \n",
    "            'Expression': 'rate(10 minutes)', \n",
    "            'DurationInSeconds': 0 },\n",
    "        RunConfig={\n",
    "            'TimeoutInSeconds': 60,\n",
    "            'MemoryInMB': 960\n",
    "        },\n",
    "        SuccessRetentionPeriodInDays=31,\n",
    "        FailureRetentionPeriodInDays=31,\n",
    "        RuntimeVersion='syn-nodejs-2.0',\n",
    "    )\n",
    "    print('Creating canary: {}'.format(canary_name))    \n",
    "except ClientError as e:\n",
    "    if e.response[\"Error\"][\"Code\"] == \"AccessDeniedException\":\n",
    "        print('Canary not supported.') # Not supported in event engine\n",
    "    else:\n",
    "        raise(e)"
   ]
  },
  {
   "cell_type": "markdown",
   "metadata": {},
   "source": [
    "Now create a CloudWatch alarm which will trigger if the success rate of the canary drops below 90%. "
   ]
  },
  {
   "cell_type": "code",
   "execution_count": null,
   "metadata": {},
   "outputs": [],
   "source": [
    "cloudwatch = boto3.client('cloudwatch')\n",
    "\n",
    "canary_alarm_name = '{}-synth-lt-threshold'.format(canary_name)\n",
    "\n",
    "response = cloudwatch.put_metric_alarm(\n",
    "    AlarmName=canary_alarm_name,\n",
    "    ComparisonOperator='LessThanThreshold',\n",
    "    EvaluationPeriods=1,\n",
    "    DatapointsToAlarm=1,\n",
    "    Period=600, # 10 minute interval\n",
    "    Statistic='Average',\n",
    "    Threshold=90.0,\n",
    "    ActionsEnabled=False,\n",
    "    AlarmDescription='SuccessPercent LessThanThreshold 90%',\n",
    "    Namespace='CloudWatchSynthetics',\n",
    "    MetricName='SuccessPercent',\n",
    "    Dimensions=[\n",
    "        {\n",
    "          'Name': 'CanaryName',\n",
    "          'Value': canary_name\n",
    "        },\n",
    "    ],\n",
    "    Unit='Seconds'\n",
    ")\n",
    "\n",
    "print('Creating alarm: {}'.format(canary_alarm_name))"
   ]
  },
  {
   "cell_type": "markdown",
   "metadata": {},
   "source": [
    "Run the code below to check if the canary is running succesfully. The cell will output a link to your CloudWatch Canaries UI, where you can watch the results over time (see screenshot). It can take a couple of minutes for the canary to deploy.\n",
    "\n",
    "![Canary graph in CloudWatch](../docs/canary-green-1hr.png)"
   ]
  },
  {
   "cell_type": "code",
   "execution_count": null,
   "metadata": {},
   "outputs": [],
   "source": [
    "while True:\n",
    "    try:\n",
    "        response = synth.get_canary(Name=canary_name)\n",
    "        status = response['Canary']['Status']['State']    \n",
    "        print('Canary status: {}'.format(status))\n",
    "        if status == 'ERROR':\n",
    "            raise(Exception(response['Canary']['Status']['StateReason']))    \n",
    "        elif status == 'READY':\n",
    "            synth.start_canary(Name=canary_name)\n",
    "        elif status == 'RUNNING':\n",
    "            break        \n",
    "    except ClientError as e:\n",
    "        if e.response[\"Error\"][\"Code\"] == \"ResourceNotFoundException\":\n",
    "            print('No canary found.')\n",
    "            break\n",
    "        elif e.response[\"Error\"][\"Code\"] == \"AccessDeniedException\":\n",
    "            print('Canary not supported.') # Not supported in event engine\n",
    "            break\n",
    "        print(e.response[\"Error\"][\"Message\"])\n",
    "    time.sleep(10)\n",
    "\n",
    "# Output a html link to the cloudwatch console\n",
    "HTML('<a target=\"_blank\" href=\"https://{0}.console.aws.amazon.com/cloudwatch/home?region={0}#synthetics:canary/detail/{1}\">CloudWatch Canary</a>'.format(region, canary_name))"
   ]
  },
  {
   "cell_type": "markdown",
   "metadata": {},
   "source": [
    "### Create a CloudWatch dashboard\n",
    "\n",
    "Finally, use the code below to create a CloudWatch dashboard to visualize the key performance metrics and alarms which you have created during this demo. The cell will output a link to the dashboard. This dashboard shows 9 charts in three rows, where the first row displays Lambda metrics, the second row displays SageMaker metrics, and the third row (shown in the screenshot below) displays the alarms set up for the pipeline.\n",
    "\n",
    "![Graphs in CloudWatch dashboard](../docs/cloudwatch-dashboard.png)"
   ]
  },
  {
   "cell_type": "code",
   "execution_count": null,
   "metadata": {},
   "outputs": [],
   "source": [
    "sts = boto3.client('sts')\n",
    "account_id = sts.get_caller_identity().get('Account')\n",
    "dashboard_name = 'mlops-{}'.format(model_name)\n",
    "\n",
    "with open('dashboard.json') as f:\n",
    "    dashboard_body = Template(f.read()).substitute(region=region, account_id=account_id, model_name=model_name)\n",
    "    response = cloudwatch.put_dashboard(\n",
    "        DashboardName=dashboard_name,\n",
    "        DashboardBody=dashboard_body\n",
    "    )\n",
    "\n",
    "# Output a html link to the cloudwatch dashboard\n",
    "HTML('<a target=\"_blank\" href=\"https://{0}.console.aws.amazon.com/cloudwatch/home?region={0}#dashboards:name={1}\">CloudWatch Dashboard</a>'.format(region, canary_name))"
   ]
  },
  {
   "cell_type": "markdown",
   "metadata": {},
   "source": [
    "Congratulations! You have made it to the end of this notebook, and have automated a safe MLOps pipeline using a wide range of AWS services. \n",
    "\n",
    "You can use the other notebook in this repository [workflow.ipynb](workflow.ipynb) to implement your own ML model and deploy it as part of this pipeline. Or, if you are finished with the content, follow the instructions in the next section to clean up the resources you have deployed."
   ]
  },
  {
   "cell_type": "markdown",
   "metadata": {},
   "source": [
    "## Cleanup\n",
    "\n",
    "Execute the following cell to delete the stacks created in the pipeline. For a model name of **nyctaxi** these would be:\n",
    "\n",
    "1. *nyctaxi*-deploy-prd\n",
    "2. *nyctaxi*-deploy-dev\n",
    "3. *nyctaxi*-workflow\n",
    "4. sagemaker-custom-resource"
   ]
  },
  {
   "cell_type": "code",
   "execution_count": null,
   "metadata": {},
   "outputs": [],
   "source": [
    "cfn = boto3.client('cloudformation')\n",
    "\n",
    "# Delete the prod and then dev stack\n",
    "for stack_name in [f'{pipeline_name}-deploy-prd', \n",
    "                   f'{pipeline_name}-deploy-dev',\n",
    "                   f'{pipeline_name}-workflow',\n",
    "                   'sagemaker-custom-resource']:\n",
    "    print('Deleting stack: {}'.format(stack_name))\n",
    "    cfn.delete_stack(StackName=stack_name)\n",
    "    cfn.get_waiter('stack_delete_complete').wait(StackName=stack_name)"
   ]
  },
  {
   "cell_type": "markdown",
   "metadata": {},
   "source": [
    "The following code will stop and delete the canary you created."
   ]
  },
  {
   "cell_type": "code",
   "execution_count": null,
   "metadata": {},
   "outputs": [],
   "source": [
    "while True:\n",
    "    try:\n",
    "        response = synth.get_canary(Name=canary_name)\n",
    "        status = response['Canary']['Status']['State']    \n",
    "        print('Canary status: {}'.format(status))\n",
    "        if status == 'ERROR':\n",
    "            raise(Exception(response['Canary']['Status']['StateReason']))    \n",
    "        elif status == 'STOPPED':\n",
    "            synth.delete_canary(Name=canary_name)\n",
    "        elif status == 'RUNNING':\n",
    "            synth.stop_canary(Name=canary_name)\n",
    "    except ClientError as e:\n",
    "        if e.response[\"Error\"][\"Code\"] == \"ResourceNotFoundException\":\n",
    "            print('Canary succesfully deleted.')\n",
    "            break\n",
    "        elif e.response[\"Error\"][\"Code\"] == \"AccessDeniedException\":\n",
    "            print('Canary not created.') # Not supported in event engine\n",
    "            break\n",
    "        print(e.response[\"Error\"][\"Message\"])\n",
    "    time.sleep(10)"
   ]
  },
  {
   "cell_type": "markdown",
   "metadata": {},
   "source": [
    "The following code will delete the dashboard."
   ]
  },
  {
   "cell_type": "code",
   "execution_count": null,
   "metadata": {},
   "outputs": [],
   "source": [
    "cloudwatch.delete_alarms(AlarmNames=[canary_alarm_name])\n",
    "print('Alarm deleted')\n",
    "\n",
    "cloudwatch.delete_dashboards(DashboardNames=[dashboard_name])\n",
    "print('Dashboard deleted')"
   ]
  },
  {
   "cell_type": "markdown",
   "metadata": {},
   "source": [
    "Finally, close this notebook and you can delete the CloudFormation you created to launch this MLOps sample."
   ]
  }
 ],
 "metadata": {
  "kernelspec": {
   "display_name": "conda_python3",
   "language": "python",
   "name": "conda_python3"
  },
  "language_info": {
   "codemirror_mode": {
    "name": "ipython",
    "version": 3
   },
   "file_extension": ".py",
   "mimetype": "text/x-python",
   "name": "python",
   "nbconvert_exporter": "python",
   "pygments_lexer": "ipython3",
   "version": "3.6.13"
  }
 },
 "nbformat": 4,
 "nbformat_minor": 4
}
